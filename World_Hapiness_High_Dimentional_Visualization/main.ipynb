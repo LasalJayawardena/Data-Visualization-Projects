{
 "cells": [
  {
   "cell_type": "markdown",
   "id": "tired-louisiana",
   "metadata": {},
   "source": [
    "# World Hapiness High Dimentional Data Viusalization"
   ]
  },
  {
   "cell_type": "markdown",
   "id": "funky-luther",
   "metadata": {},
   "source": [
    "### Importing libraries"
   ]
  },
  {
   "cell_type": "code",
   "execution_count": 1,
   "id": "portable-commissioner",
   "metadata": {},
   "outputs": [],
   "source": [
    "import pandas as pd \n",
    "from sklearn.cluster import KMeans\n",
    "from sklearn import preprocessing\n",
    "from sklearn.decomposition import PCA\n",
    "\n",
    "import plotly.express as px\n",
    "import matplotlib.pyplot as plt"
   ]
  },
  {
   "cell_type": "markdown",
   "id": "cross-saying",
   "metadata": {},
   "source": [
    "### Load Data"
   ]
  },
  {
   "cell_type": "code",
   "execution_count": 3,
   "id": "stable-video",
   "metadata": {},
   "outputs": [
    {
     "data": {
      "text/html": [
       "<div>\n",
       "<style scoped>\n",
       "    .dataframe tbody tr th:only-of-type {\n",
       "        vertical-align: middle;\n",
       "    }\n",
       "\n",
       "    .dataframe tbody tr th {\n",
       "        vertical-align: top;\n",
       "    }\n",
       "\n",
       "    .dataframe thead th {\n",
       "        text-align: right;\n",
       "    }\n",
       "</style>\n",
       "<table border=\"1\" class=\"dataframe\">\n",
       "  <thead>\n",
       "    <tr style=\"text-align: right;\">\n",
       "      <th></th>\n",
       "      <th>Country or region</th>\n",
       "      <th>GDP per capita</th>\n",
       "      <th>Social support</th>\n",
       "      <th>Healthy life expectancy</th>\n",
       "      <th>Freedom to make life choices</th>\n",
       "      <th>Generosity</th>\n",
       "      <th>Perceptions of corruption</th>\n",
       "    </tr>\n",
       "  </thead>\n",
       "  <tbody>\n",
       "    <tr>\n",
       "      <th>0</th>\n",
       "      <td>Finland</td>\n",
       "      <td>1.340</td>\n",
       "      <td>1.587</td>\n",
       "      <td>0.986</td>\n",
       "      <td>0.596</td>\n",
       "      <td>0.153</td>\n",
       "      <td>0.393</td>\n",
       "    </tr>\n",
       "    <tr>\n",
       "      <th>1</th>\n",
       "      <td>Denmark</td>\n",
       "      <td>1.383</td>\n",
       "      <td>1.573</td>\n",
       "      <td>0.996</td>\n",
       "      <td>0.592</td>\n",
       "      <td>0.252</td>\n",
       "      <td>0.410</td>\n",
       "    </tr>\n",
       "    <tr>\n",
       "      <th>2</th>\n",
       "      <td>Norway</td>\n",
       "      <td>1.488</td>\n",
       "      <td>1.582</td>\n",
       "      <td>1.028</td>\n",
       "      <td>0.603</td>\n",
       "      <td>0.271</td>\n",
       "      <td>0.341</td>\n",
       "    </tr>\n",
       "    <tr>\n",
       "      <th>3</th>\n",
       "      <td>Iceland</td>\n",
       "      <td>1.380</td>\n",
       "      <td>1.624</td>\n",
       "      <td>1.026</td>\n",
       "      <td>0.591</td>\n",
       "      <td>0.354</td>\n",
       "      <td>0.118</td>\n",
       "    </tr>\n",
       "    <tr>\n",
       "      <th>4</th>\n",
       "      <td>Netherlands</td>\n",
       "      <td>1.396</td>\n",
       "      <td>1.522</td>\n",
       "      <td>0.999</td>\n",
       "      <td>0.557</td>\n",
       "      <td>0.322</td>\n",
       "      <td>0.298</td>\n",
       "    </tr>\n",
       "  </tbody>\n",
       "</table>\n",
       "</div>"
      ],
      "text/plain": [
       "  Country or region  GDP per capita  Social support  Healthy life expectancy  \\\n",
       "0           Finland           1.340           1.587                    0.986   \n",
       "1           Denmark           1.383           1.573                    0.996   \n",
       "2            Norway           1.488           1.582                    1.028   \n",
       "3           Iceland           1.380           1.624                    1.026   \n",
       "4       Netherlands           1.396           1.522                    0.999   \n",
       "\n",
       "   Freedom to make life choices  Generosity  Perceptions of corruption  \n",
       "0                         0.596       0.153                      0.393  \n",
       "1                         0.592       0.252                      0.410  \n",
       "2                         0.603       0.271                      0.341  \n",
       "3                         0.591       0.354                      0.118  \n",
       "4                         0.557       0.322                      0.298  "
      ]
     },
     "execution_count": 3,
     "metadata": {},
     "output_type": "execute_result"
    }
   ],
   "source": [
    "data = pd.read_csv(\"./world_happiness.csv\")\n",
    "data.head()"
   ]
  },
  {
   "cell_type": "code",
   "execution_count": 6,
   "id": "external-sixth",
   "metadata": {},
   "outputs": [
    {
     "data": {
      "text/plain": [
       "Country or region                object\n",
       "GDP per capita                  float64\n",
       "Social support                  float64\n",
       "Healthy life expectancy         float64\n",
       "Freedom to make life choices    float64\n",
       "Generosity                      float64\n",
       "Perceptions of corruption       float64\n",
       "dtype: object"
      ]
     },
     "execution_count": 6,
     "metadata": {},
     "output_type": "execute_result"
    }
   ],
   "source": [
    "data.dtypes"
   ]
  },
  {
   "cell_type": "code",
   "execution_count": 5,
   "id": "variable-sociology",
   "metadata": {},
   "outputs": [
    {
     "data": {
      "text/html": [
       "<div>\n",
       "<style scoped>\n",
       "    .dataframe tbody tr th:only-of-type {\n",
       "        vertical-align: middle;\n",
       "    }\n",
       "\n",
       "    .dataframe tbody tr th {\n",
       "        vertical-align: top;\n",
       "    }\n",
       "\n",
       "    .dataframe thead th {\n",
       "        text-align: right;\n",
       "    }\n",
       "</style>\n",
       "<table border=\"1\" class=\"dataframe\">\n",
       "  <thead>\n",
       "    <tr style=\"text-align: right;\">\n",
       "      <th></th>\n",
       "      <th>GDP per capita</th>\n",
       "      <th>Social support</th>\n",
       "      <th>Healthy life expectancy</th>\n",
       "      <th>Freedom to make life choices</th>\n",
       "      <th>Generosity</th>\n",
       "      <th>Perceptions of corruption</th>\n",
       "    </tr>\n",
       "  </thead>\n",
       "  <tbody>\n",
       "    <tr>\n",
       "      <th>count</th>\n",
       "      <td>156.000000</td>\n",
       "      <td>156.000000</td>\n",
       "      <td>156.000000</td>\n",
       "      <td>156.000000</td>\n",
       "      <td>156.000000</td>\n",
       "      <td>156.000000</td>\n",
       "    </tr>\n",
       "    <tr>\n",
       "      <th>mean</th>\n",
       "      <td>0.905147</td>\n",
       "      <td>1.208814</td>\n",
       "      <td>0.725244</td>\n",
       "      <td>0.392571</td>\n",
       "      <td>0.184846</td>\n",
       "      <td>0.110603</td>\n",
       "    </tr>\n",
       "    <tr>\n",
       "      <th>std</th>\n",
       "      <td>0.398389</td>\n",
       "      <td>0.299191</td>\n",
       "      <td>0.242124</td>\n",
       "      <td>0.143289</td>\n",
       "      <td>0.095254</td>\n",
       "      <td>0.094538</td>\n",
       "    </tr>\n",
       "    <tr>\n",
       "      <th>min</th>\n",
       "      <td>0.000000</td>\n",
       "      <td>0.000000</td>\n",
       "      <td>0.000000</td>\n",
       "      <td>0.000000</td>\n",
       "      <td>0.000000</td>\n",
       "      <td>0.000000</td>\n",
       "    </tr>\n",
       "    <tr>\n",
       "      <th>25%</th>\n",
       "      <td>0.602750</td>\n",
       "      <td>1.055750</td>\n",
       "      <td>0.547750</td>\n",
       "      <td>0.308000</td>\n",
       "      <td>0.108750</td>\n",
       "      <td>0.047000</td>\n",
       "    </tr>\n",
       "    <tr>\n",
       "      <th>50%</th>\n",
       "      <td>0.960000</td>\n",
       "      <td>1.271500</td>\n",
       "      <td>0.789000</td>\n",
       "      <td>0.417000</td>\n",
       "      <td>0.177500</td>\n",
       "      <td>0.085500</td>\n",
       "    </tr>\n",
       "    <tr>\n",
       "      <th>75%</th>\n",
       "      <td>1.232500</td>\n",
       "      <td>1.452500</td>\n",
       "      <td>0.881750</td>\n",
       "      <td>0.507250</td>\n",
       "      <td>0.248250</td>\n",
       "      <td>0.141250</td>\n",
       "    </tr>\n",
       "    <tr>\n",
       "      <th>max</th>\n",
       "      <td>1.684000</td>\n",
       "      <td>1.624000</td>\n",
       "      <td>1.141000</td>\n",
       "      <td>0.631000</td>\n",
       "      <td>0.566000</td>\n",
       "      <td>0.453000</td>\n",
       "    </tr>\n",
       "  </tbody>\n",
       "</table>\n",
       "</div>"
      ],
      "text/plain": [
       "       GDP per capita  Social support  Healthy life expectancy  \\\n",
       "count      156.000000      156.000000               156.000000   \n",
       "mean         0.905147        1.208814                 0.725244   \n",
       "std          0.398389        0.299191                 0.242124   \n",
       "min          0.000000        0.000000                 0.000000   \n",
       "25%          0.602750        1.055750                 0.547750   \n",
       "50%          0.960000        1.271500                 0.789000   \n",
       "75%          1.232500        1.452500                 0.881750   \n",
       "max          1.684000        1.624000                 1.141000   \n",
       "\n",
       "       Freedom to make life choices  Generosity  Perceptions of corruption  \n",
       "count                    156.000000  156.000000                 156.000000  \n",
       "mean                       0.392571    0.184846                   0.110603  \n",
       "std                        0.143289    0.095254                   0.094538  \n",
       "min                        0.000000    0.000000                   0.000000  \n",
       "25%                        0.308000    0.108750                   0.047000  \n",
       "50%                        0.417000    0.177500                   0.085500  \n",
       "75%                        0.507250    0.248250                   0.141250  \n",
       "max                        0.631000    0.566000                   0.453000  "
      ]
     },
     "execution_count": 5,
     "metadata": {},
     "output_type": "execute_result"
    }
   ],
   "source": [
    "data.describe()"
   ]
  },
  {
   "cell_type": "markdown",
   "id": "treated-manitoba",
   "metadata": {},
   "source": [
    "### Data Normalization"
   ]
  },
  {
   "cell_type": "code",
   "execution_count": 7,
   "id": "prostate-validation",
   "metadata": {},
   "outputs": [],
   "source": [
    "min_max_scaler = preprocessing.MinMaxScaler()"
   ]
  },
  {
   "cell_type": "code",
   "execution_count": 8,
   "id": "challenging-height",
   "metadata": {},
   "outputs": [],
   "source": [
    "x = data.drop(\"Country or region\", axis=1).values\n",
    "x_scaled = min_max_scaler.fit_transform(x)\n",
    "\n",
    "data[data.columns[1:]] = x_scaled"
   ]
  },
  {
   "cell_type": "code",
   "execution_count": 10,
   "id": "attached-layout",
   "metadata": {},
   "outputs": [
    {
     "data": {
      "text/html": [
       "<div>\n",
       "<style scoped>\n",
       "    .dataframe tbody tr th:only-of-type {\n",
       "        vertical-align: middle;\n",
       "    }\n",
       "\n",
       "    .dataframe tbody tr th {\n",
       "        vertical-align: top;\n",
       "    }\n",
       "\n",
       "    .dataframe thead th {\n",
       "        text-align: right;\n",
       "    }\n",
       "</style>\n",
       "<table border=\"1\" class=\"dataframe\">\n",
       "  <thead>\n",
       "    <tr style=\"text-align: right;\">\n",
       "      <th></th>\n",
       "      <th>GDP per capita</th>\n",
       "      <th>Social support</th>\n",
       "      <th>Healthy life expectancy</th>\n",
       "      <th>Freedom to make life choices</th>\n",
       "      <th>Generosity</th>\n",
       "      <th>Perceptions of corruption</th>\n",
       "    </tr>\n",
       "  </thead>\n",
       "  <tbody>\n",
       "    <tr>\n",
       "      <th>count</th>\n",
       "      <td>156.000000</td>\n",
       "      <td>156.000000</td>\n",
       "      <td>156.000000</td>\n",
       "      <td>156.000000</td>\n",
       "      <td>156.000000</td>\n",
       "      <td>156.000000</td>\n",
       "    </tr>\n",
       "    <tr>\n",
       "      <th>mean</th>\n",
       "      <td>0.537498</td>\n",
       "      <td>0.744344</td>\n",
       "      <td>0.635621</td>\n",
       "      <td>0.622140</td>\n",
       "      <td>0.326583</td>\n",
       "      <td>0.244156</td>\n",
       "    </tr>\n",
       "    <tr>\n",
       "      <th>std</th>\n",
       "      <td>0.236573</td>\n",
       "      <td>0.184231</td>\n",
       "      <td>0.212203</td>\n",
       "      <td>0.227083</td>\n",
       "      <td>0.168294</td>\n",
       "      <td>0.208693</td>\n",
       "    </tr>\n",
       "    <tr>\n",
       "      <th>min</th>\n",
       "      <td>0.000000</td>\n",
       "      <td>0.000000</td>\n",
       "      <td>0.000000</td>\n",
       "      <td>0.000000</td>\n",
       "      <td>0.000000</td>\n",
       "      <td>0.000000</td>\n",
       "    </tr>\n",
       "    <tr>\n",
       "      <th>25%</th>\n",
       "      <td>0.357928</td>\n",
       "      <td>0.650092</td>\n",
       "      <td>0.480061</td>\n",
       "      <td>0.488114</td>\n",
       "      <td>0.192138</td>\n",
       "      <td>0.103753</td>\n",
       "    </tr>\n",
       "    <tr>\n",
       "      <th>50%</th>\n",
       "      <td>0.570071</td>\n",
       "      <td>0.782943</td>\n",
       "      <td>0.691499</td>\n",
       "      <td>0.660856</td>\n",
       "      <td>0.313604</td>\n",
       "      <td>0.188742</td>\n",
       "    </tr>\n",
       "    <tr>\n",
       "      <th>75%</th>\n",
       "      <td>0.731888</td>\n",
       "      <td>0.894397</td>\n",
       "      <td>0.772787</td>\n",
       "      <td>0.803883</td>\n",
       "      <td>0.438604</td>\n",
       "      <td>0.311810</td>\n",
       "    </tr>\n",
       "    <tr>\n",
       "      <th>max</th>\n",
       "      <td>1.000000</td>\n",
       "      <td>1.000000</td>\n",
       "      <td>1.000000</td>\n",
       "      <td>1.000000</td>\n",
       "      <td>1.000000</td>\n",
       "      <td>1.000000</td>\n",
       "    </tr>\n",
       "  </tbody>\n",
       "</table>\n",
       "</div>"
      ],
      "text/plain": [
       "       GDP per capita  Social support  Healthy life expectancy  \\\n",
       "count      156.000000      156.000000               156.000000   \n",
       "mean         0.537498        0.744344                 0.635621   \n",
       "std          0.236573        0.184231                 0.212203   \n",
       "min          0.000000        0.000000                 0.000000   \n",
       "25%          0.357928        0.650092                 0.480061   \n",
       "50%          0.570071        0.782943                 0.691499   \n",
       "75%          0.731888        0.894397                 0.772787   \n",
       "max          1.000000        1.000000                 1.000000   \n",
       "\n",
       "       Freedom to make life choices  Generosity  Perceptions of corruption  \n",
       "count                    156.000000  156.000000                 156.000000  \n",
       "mean                       0.622140    0.326583                   0.244156  \n",
       "std                        0.227083    0.168294                   0.208693  \n",
       "min                        0.000000    0.000000                   0.000000  \n",
       "25%                        0.488114    0.192138                   0.103753  \n",
       "50%                        0.660856    0.313604                   0.188742  \n",
       "75%                        0.803883    0.438604                   0.311810  \n",
       "max                        1.000000    1.000000                   1.000000  "
      ]
     },
     "execution_count": 10,
     "metadata": {},
     "output_type": "execute_result"
    }
   ],
   "source": [
    "data.describe()"
   ]
  },
  {
   "cell_type": "markdown",
   "id": "boxed-literacy",
   "metadata": {},
   "source": [
    "### K-Means Clustering"
   ]
  },
  {
   "cell_type": "code",
   "execution_count": 11,
   "id": "clean-hartford",
   "metadata": {},
   "outputs": [],
   "source": [
    "clustering_data = data.drop(\"Country or region\", axis=1)\n",
    "\n",
    "kmeans = KMeans(n_clusters=3).fit(clustering_data)\n",
    "\n",
    "data[\"class\"] = kmeans.labels_.astype(str)"
   ]
  },
  {
   "cell_type": "code",
   "execution_count": 17,
   "id": "active-jones",
   "metadata": {},
   "outputs": [
    {
     "data": {
      "text/html": [
       "<div>\n",
       "<style scoped>\n",
       "    .dataframe tbody tr th:only-of-type {\n",
       "        vertical-align: middle;\n",
       "    }\n",
       "\n",
       "    .dataframe tbody tr th {\n",
       "        vertical-align: top;\n",
       "    }\n",
       "\n",
       "    .dataframe thead th {\n",
       "        text-align: right;\n",
       "    }\n",
       "</style>\n",
       "<table border=\"1\" class=\"dataframe\">\n",
       "  <thead>\n",
       "    <tr style=\"text-align: right;\">\n",
       "      <th></th>\n",
       "      <th>Country or region</th>\n",
       "      <th>GDP per capita</th>\n",
       "      <th>Social support</th>\n",
       "      <th>Healthy life expectancy</th>\n",
       "      <th>Freedom to make life choices</th>\n",
       "      <th>Generosity</th>\n",
       "      <th>Perceptions of corruption</th>\n",
       "      <th>class</th>\n",
       "    </tr>\n",
       "  </thead>\n",
       "  <tbody>\n",
       "    <tr>\n",
       "      <th>0</th>\n",
       "      <td>Finland</td>\n",
       "      <td>0.795724</td>\n",
       "      <td>0.977217</td>\n",
       "      <td>0.864154</td>\n",
       "      <td>0.944532</td>\n",
       "      <td>0.270318</td>\n",
       "      <td>0.867550</td>\n",
       "      <td>0</td>\n",
       "    </tr>\n",
       "    <tr>\n",
       "      <th>1</th>\n",
       "      <td>Denmark</td>\n",
       "      <td>0.821259</td>\n",
       "      <td>0.968596</td>\n",
       "      <td>0.872918</td>\n",
       "      <td>0.938193</td>\n",
       "      <td>0.445230</td>\n",
       "      <td>0.905077</td>\n",
       "      <td>0</td>\n",
       "    </tr>\n",
       "    <tr>\n",
       "      <th>2</th>\n",
       "      <td>Norway</td>\n",
       "      <td>0.883610</td>\n",
       "      <td>0.974138</td>\n",
       "      <td>0.900964</td>\n",
       "      <td>0.955626</td>\n",
       "      <td>0.478799</td>\n",
       "      <td>0.752759</td>\n",
       "      <td>0</td>\n",
       "    </tr>\n",
       "    <tr>\n",
       "      <th>3</th>\n",
       "      <td>Iceland</td>\n",
       "      <td>0.819477</td>\n",
       "      <td>1.000000</td>\n",
       "      <td>0.899211</td>\n",
       "      <td>0.936609</td>\n",
       "      <td>0.625442</td>\n",
       "      <td>0.260486</td>\n",
       "      <td>0</td>\n",
       "    </tr>\n",
       "    <tr>\n",
       "      <th>4</th>\n",
       "      <td>Netherlands</td>\n",
       "      <td>0.828979</td>\n",
       "      <td>0.937192</td>\n",
       "      <td>0.875548</td>\n",
       "      <td>0.882726</td>\n",
       "      <td>0.568905</td>\n",
       "      <td>0.657837</td>\n",
       "      <td>0</td>\n",
       "    </tr>\n",
       "    <tr>\n",
       "      <th>...</th>\n",
       "      <td>...</td>\n",
       "      <td>...</td>\n",
       "      <td>...</td>\n",
       "      <td>...</td>\n",
       "      <td>...</td>\n",
       "      <td>...</td>\n",
       "      <td>...</td>\n",
       "      <td>...</td>\n",
       "    </tr>\n",
       "    <tr>\n",
       "      <th>151</th>\n",
       "      <td>Rwanda</td>\n",
       "      <td>0.213183</td>\n",
       "      <td>0.437808</td>\n",
       "      <td>0.538124</td>\n",
       "      <td>0.879556</td>\n",
       "      <td>0.383392</td>\n",
       "      <td>0.907285</td>\n",
       "      <td>1</td>\n",
       "    </tr>\n",
       "    <tr>\n",
       "      <th>152</th>\n",
       "      <td>Tanzania</td>\n",
       "      <td>0.282660</td>\n",
       "      <td>0.544951</td>\n",
       "      <td>0.437336</td>\n",
       "      <td>0.660856</td>\n",
       "      <td>0.487633</td>\n",
       "      <td>0.324503</td>\n",
       "      <td>1</td>\n",
       "    </tr>\n",
       "    <tr>\n",
       "      <th>153</th>\n",
       "      <td>Afghanistan</td>\n",
       "      <td>0.207838</td>\n",
       "      <td>0.318350</td>\n",
       "      <td>0.316389</td>\n",
       "      <td>0.000000</td>\n",
       "      <td>0.279152</td>\n",
       "      <td>0.055188</td>\n",
       "      <td>1</td>\n",
       "    </tr>\n",
       "    <tr>\n",
       "      <th>154</th>\n",
       "      <td>Central African Republic</td>\n",
       "      <td>0.015439</td>\n",
       "      <td>0.000000</td>\n",
       "      <td>0.092025</td>\n",
       "      <td>0.356577</td>\n",
       "      <td>0.415194</td>\n",
       "      <td>0.077263</td>\n",
       "      <td>1</td>\n",
       "    </tr>\n",
       "    <tr>\n",
       "      <th>155</th>\n",
       "      <td>South Sudan</td>\n",
       "      <td>0.181710</td>\n",
       "      <td>0.354064</td>\n",
       "      <td>0.258545</td>\n",
       "      <td>0.015848</td>\n",
       "      <td>0.356890</td>\n",
       "      <td>0.200883</td>\n",
       "      <td>1</td>\n",
       "    </tr>\n",
       "  </tbody>\n",
       "</table>\n",
       "<p>156 rows × 8 columns</p>\n",
       "</div>"
      ],
      "text/plain": [
       "            Country or region  GDP per capita  Social support  \\\n",
       "0                     Finland        0.795724        0.977217   \n",
       "1                     Denmark        0.821259        0.968596   \n",
       "2                      Norway        0.883610        0.974138   \n",
       "3                     Iceland        0.819477        1.000000   \n",
       "4                 Netherlands        0.828979        0.937192   \n",
       "..                        ...             ...             ...   \n",
       "151                    Rwanda        0.213183        0.437808   \n",
       "152                  Tanzania        0.282660        0.544951   \n",
       "153               Afghanistan        0.207838        0.318350   \n",
       "154  Central African Republic        0.015439        0.000000   \n",
       "155               South Sudan        0.181710        0.354064   \n",
       "\n",
       "     Healthy life expectancy  Freedom to make life choices  Generosity  \\\n",
       "0                   0.864154                      0.944532    0.270318   \n",
       "1                   0.872918                      0.938193    0.445230   \n",
       "2                   0.900964                      0.955626    0.478799   \n",
       "3                   0.899211                      0.936609    0.625442   \n",
       "4                   0.875548                      0.882726    0.568905   \n",
       "..                       ...                           ...         ...   \n",
       "151                 0.538124                      0.879556    0.383392   \n",
       "152                 0.437336                      0.660856    0.487633   \n",
       "153                 0.316389                      0.000000    0.279152   \n",
       "154                 0.092025                      0.356577    0.415194   \n",
       "155                 0.258545                      0.015848    0.356890   \n",
       "\n",
       "     Perceptions of corruption class  \n",
       "0                     0.867550     0  \n",
       "1                     0.905077     0  \n",
       "2                     0.752759     0  \n",
       "3                     0.260486     0  \n",
       "4                     0.657837     0  \n",
       "..                         ...   ...  \n",
       "151                   0.907285     1  \n",
       "152                   0.324503     1  \n",
       "153                   0.055188     1  \n",
       "154                   0.077263     1  \n",
       "155                   0.200883     1  \n",
       "\n",
       "[156 rows x 8 columns]"
      ]
     },
     "execution_count": 17,
     "metadata": {},
     "output_type": "execute_result"
    }
   ],
   "source": [
    "data"
   ]
  },
  {
   "cell_type": "code",
   "execution_count": 19,
   "id": "demonstrated-washington",
   "metadata": {},
   "outputs": [
    {
     "data": {
      "text/plain": [
       "2    88\n",
       "1    46\n",
       "0    22\n",
       "Name: class, dtype: int64"
      ]
     },
     "execution_count": 19,
     "metadata": {},
     "output_type": "execute_result"
    }
   ],
   "source": [
    "data[\"class\"].value_counts()"
   ]
  },
  {
   "cell_type": "markdown",
   "id": "fatal-justice",
   "metadata": {},
   "source": [
    "### Scatter plot matrix: \n"
   ]
  },
  {
   "cell_type": "markdown",
   "id": "editorial-highway",
   "metadata": {},
   "source": [
    "#### Using Scatter plot matrix we can analyze: \n",
    "        - corellation analysis \n",
    "        - cluster analysis \n",
    "        - outlier detection "
   ]
  },
  {
   "cell_type": "code",
   "execution_count": 25,
   "id": "military-damage",
   "metadata": {},
   "outputs": [
    {
     "data": {
      "application/vnd.plotly.v1+json": {
       "config": {
        "plotlyServerURL": "https://plot.ly"
       },
       "data": [
        {
         "diagonal": {
          "visible": false
         },
         "dimensions": [
          {
           "axis": {
            "matches": true
           },
           "label": "GDP per capita",
           "values": [
            0.7957244655581948,
            0.8212589073634204,
            0.8836104513064132,
            0.8194774346793349,
            0.8289786223277908,
            0.8622327790973872,
            0.8236342042755345,
            0.7737529691211401,
            0.8105700712589073,
            0.8171021377672208,
            0.8147268408551069,
            0.9554631828978621,
            0.7915676959619952,
            0.8901425178147269,
            0.8153206650831354,
            0.8052256532066508,
            0.8925178147268408,
            0.7719714964370546,
            0.9999999999999999,
            0.9334916864608076,
            0.44239904988123513,
            0.8539192399049881
           ]
          },
          {
           "axis": {
            "matches": true
           },
           "label": "Social support",
           "values": [
            0.9772167487684728,
            0.9685960591133004,
            0.9741379310344827,
            0.9999999999999999,
            0.9371921182266009,
            0.939655172413793,
            0.9156403940886699,
            0.9587438423645318,
            0.9267241379310343,
            0.9082512315270935,
            0.9532019704433496,
            0.9107142857142857,
            0.9470443349753693,
            0.9562807881773397,
            0.8953201970443349,
            0.9261083743842363,
            0.8066502463054186,
            0.9359605911330048,
            0.8084975369458126,
            0.9008620689655171,
            0.941502463054187,
            0.7863300492610836
           ]
          },
          {
           "axis": {
            "matches": true
           },
           "label": "Healthy life expectancy",
           "values": [
            0.8641542506573181,
            0.8729184925503944,
            0.9009640666082384,
            0.8992112182296231,
            0.8755477651183172,
            0.9219982471516214,
            0.8843120070113935,
            0.8992112182296231,
            0.9106047326906221,
            0.8904469763365469,
            0.9079754601226994,
            0.8869412795793163,
            0.8729184925503944,
            0.8755477651183172,
            0.8650306748466258,
            0.8641542506573181,
            0.7230499561787905,
            0.8755477651183172,
            0.7633654688869412,
            1,
            0.6625766871165644,
            0.9833479404031552
           ]
          },
          {
           "axis": {
            "matches": true
           },
           "label": "Freedom to make life choices",
           "values": [
            0.9445324881141046,
            0.9381933438985737,
            0.9556259904912837,
            0.936608557844691,
            0.8827258320126784,
            0.9064976228209192,
            0.9096671949286845,
            0.9270998415213946,
            0.9255150554675119,
            0.8431061806656102,
            0.8827258320126784,
            0.8335974643423139,
            0.7131537242472267,
            0.8177496038034866,
            0.7844690966719493,
            0.7496038034865293,
            0.94770206022187,
            0.8938193343898573,
            0.8795562599049129,
            0.8811410459587956,
            1,
            0.6973058637083994
           ]
          },
          {
           "axis": {
            "matches": true
           },
           "label": "Generosity",
           "values": [
            0.27031802120141346,
            0.44522968197879864,
            0.47879858657243823,
            0.6254416961130742,
            0.568904593639576,
            0.46466431095406363,
            0.47173144876325096,
            0.5830388692579506,
            0.5035335689045937,
            0.43109540636042404,
            0.5865724381625442,
            0.3427561837455831,
            0.6148409893992933,
            0.5265017667844523,
            0.46113074204947,
            0.2826855123674912,
            0.46289752650176685,
            0.6625441696113075,
            0.3886925795053004,
            0.47879858657243823,
            0.568904593639576,
            0.4558303886925795
           ]
          },
          {
           "axis": {
            "matches": true
           },
           "label": "Perceptions of corruption",
           "values": [
            0.8675496688741721,
            0.9050772626931566,
            0.7527593818984547,
            0.260485651214128,
            0.6578366445916114,
            0.7571743929359823,
            0.8233995584988961,
            0.8388520971302428,
            0.6799116997792494,
            0.49889624724061804,
            0.6401766004415009,
            0.6975717439293597,
            0.6136865342163356,
            0.684326710816777,
            0.5849889624724062,
            0.4635761589403973,
            0.401766004415011,
            0.33333333333333326,
            0.3686534216335541,
            0.9999999999999999,
            0.5298013245033112,
            0.6335540838852096
           ]
          }
         ],
         "hovertemplate": "<b>%{hovertext}</b><br><br>class=0<br>%{xaxis.title.text}=%{x}<br>%{yaxis.title.text}=%{y}<extra></extra>",
         "hovertext": [
          "Finland",
          "Denmark",
          "Norway",
          "Iceland",
          "Netherlands",
          "Switzerland",
          "Sweden",
          "New Zealand",
          "Canada",
          "Austria",
          "Australia",
          "Luxembourg",
          "United Kingdom",
          "Ireland",
          "Germany",
          "Belgium",
          "United Arab Emirates",
          "Malta",
          "Qatar",
          "Singapore",
          "Uzbekistan",
          "Hong Kong"
         ],
         "legendgroup": "0",
         "marker": {
          "color": "#636efa",
          "size": 4,
          "symbol": "circle"
         },
         "name": "0",
         "showlegend": true,
         "showupperhalf": false,
         "type": "splom"
        },
        {
         "diagonal": {
          "visible": false
         },
         "dimensions": [
          {
           "axis": {
            "matches": true
           },
           "label": "GDP per capita",
           "values": [
            0.6140142517814727,
            0.7577197149643705,
            0.8509501187648456,
            0.7535629453681709,
            0.6353919239904988,
            0.7862232779097388,
            0.8123515439429929,
            0.6882422802850356,
            0.4750593824228029,
            0.8331353919239904,
            0.7636579572446556,
            0.6823040380047506,
            0.5961995249406176,
            0.667458432304038,
            0.47149643705463185,
            0.7684085510688836,
            0.8087885985748219,
            0.7399049881235155,
            0.7309976247030879,
            0.7161520190023752,
            0.7351543942992874,
            0.584916864608076,
            0.7470308788598574,
            0.4121140142517814,
            0.5237529691211401,
            0.6484560570071259,
            0.6900237529691211,
            0.7499999999999999,
            0.5415676959619953,
            0.8907363420427553,
            0.6235154394299287,
            0.7048693586698337,
            0.7725653206650831,
            0.734560570071259,
            0.49346793349168644,
            0.665083135391924,
            0.7880047505938241,
            0.3812351543942993,
            0.6965558194774347,
            0.46080760095011875,
            0.7131828978622328,
            0.5077197149643705,
            0.7499999999999999,
            0.5700712589073634,
            0.7250593824228029,
            0.7024940617577197,
            0.47921615201900236,
            0.5961995249406176,
            0.40676959619952496,
            0.6199524940617577,
            0.6241092636579572,
            0.6858669833729216,
            0.6027315914489311,
            0.5611638954869358,
            0.7024940617577197,
            0.7250593824228029,
            0.6336104513064132,
            0.7013064133016628,
            0.5629453681710214,
            0.583729216152019,
            0.3271971496437055,
            0.6247030878859857,
            0.5950118764845606,
            0.4756532066508314,
            0.6193586698337291,
            0.586104513064133,
            0.5528503562945368,
            0.6110451306413301,
            0.4400237529691211,
            0.48277909738717334,
            0.6484560570071259,
            0.4970308788598575,
            0.6276722090261282,
            0.5700712589073634,
            0.5623515439429928,
            0.5700712589073634,
            0.340855106888361,
            0.39014251781472686,
            0.5219714964370546,
            0.504750593824228,
            0.653206650831354,
            0.5261282660332541,
            0.5469121140142518,
            0.6193586698337291,
            0.5635391923990498,
            0.4869358669833729,
            0.5421615201900237,
            0.6181710213776721
           ]
          },
          {
           "axis": {
            "matches": true
           },
           "label": "Social support",
           "values": [
            0.8873152709359605,
            0.8959359605911329,
            0.897167487684729,
            0.9156403940886699,
            0.8146551724137929,
            0.9064039408866994,
            0.880541871921182,
            0.8429802955665023,
            0.7814039408866993,
            0.8355911330049259,
            0.9137931034482757,
            0.8879310344827585,
            0.8860837438423644,
            0.9020935960591132,
            0.7647783251231526,
            0.9162561576354679,
            0.8423645320197044,
            0.9261083743842363,
            0.9094827586206896,
            0.8854679802955664,
            0.9328817733990146,
            0.8682266009852215,
            0.9378078817733988,
            0.815886699507389,
            0.7586206896551723,
            0.8817733990147781,
            0.7586206896551723,
            0.7530788177339901,
            0.8078817733990147,
            0.8121921182266009,
            0.8676108374384235,
            0.9020935960591132,
            0.7506157635467979,
            0.940886699507389,
            0.9100985221674875,
            0.8633004926108373,
            0.8737684729064038,
            0.7610837438423644,
            0.9285714285714285,
            0.7444581280788177,
            0.8682266009852215,
            0.9082512315270935,
            0.7709359605911329,
            0.7844827586206896,
            0.8811576354679802,
            0.8940886699507388,
            0.7961822660098521,
            0.8516009852216747,
            0.8177339901477831,
            0.8023399014778324,
            0.8380541871921181,
            0.7795566502463053,
            0.8626847290640393,
            0.7463054187192117,
            0.8374384236453202,
            0.7210591133004925,
            0.9020935960591132,
            0.711822660098522,
            0.942733990147783,
            0.7967980295566501,
            0.8854679802955664,
            0.9470443349753693,
            0.7142857142857142,
            0.48152709359605905,
            0.7062807881773399,
            0.753694581280788,
            0.7407635467980295,
            0.6927339901477831,
            0.8288177339901477,
            0.813423645320197,
            0.9316502463054185,
            0.7543103448275862,
            0.728448275862069,
            0.8318965517241378,
            0.522167487684729,
            0.878694581280788,
            0.6908866995073891,
            0.7678571428571428,
            0.8084975369458126,
            0.649630541871921,
            0.5184729064039408,
            0.41009852216748766,
            0.6157635467980295,
            0.6034482758620688,
            0.7789408866995072,
            0.8559113300492609,
            0.6397783251231526,
            0.7050492610837438
           ]
          },
          {
           "axis": {
            "matches": true
           },
           "label": "Healthy life expectancy",
           "values": [
            0.8439964943032428,
            0.9018404907975459,
            0.7659947414548641,
            0.8063102541630149,
            0.754601226993865,
            0.9158632778264679,
            0.8010517090271692,
            0.8063102541630149,
            0.6538124452234881,
            0.6967572304995618,
            0.9307624890446977,
            0.7975460122699387,
            0.7028921998247152,
            0.7808939526730938,
            0.6914986853637161,
            0.9106047326906221,
            0.7633654688869412,
            0.7721297107800176,
            0.6248904469763366,
            0.7747589833479404,
            0.7169149868536371,
            0.7370727432077125,
            0.8352322524101665,
            0.7318141980718668,
            0.6643295354951797,
            0.7721297107800176,
            0.7230499561787905,
            0.9132340052585451,
            0.7607361963190185,
            0.708150744960561,
            0.7256792287467134,
            0.7116564417177914,
            0.9079754601226994,
            0.7659947414548641,
            0.7283085013146362,
            0.6993865030674847,
            0.953549517966696,
            0.7256792287467134,
            0.6389132340052586,
            0.6187554776511831,
            0.7256792287467134,
            0.6809815950920246,
            0.9132340052585451,
            0.7484662576687117,
            0.8755477651183172,
            0.6362839614373357,
            0.5758106923751096,
            0.7484662576687117,
            0.6476774758983348,
            0.5898334794040316,
            0.7633654688869412,
            0.8010517090271692,
            0.6827344434706398,
            0.740578439964943,
            0.708150744960561,
            0.7256792287467134,
            0.6914986853637161,
            0.8755477651183172,
            0.5845749342681859,
            0.7344434706397897,
            0.6336546888694128,
            0.5758106923751096,
            0.6879929886064856,
            0.6853637160385627,
            0.6739702015775636,
            0.7142857142857142,
            0.5784399649430324,
            0.782646801051709,
            0.7458369851007888,
            0.5293602103418055,
            0.7142857142857142,
            0.7142857142857142,
            0.5004382120946538,
            0.41104294478527603,
            0.7659947414548641,
            0.7055214723926381,
            0.558282208588957,
            0.588957055214724,
            0.41805433829973704,
            0.7142857142857142,
            0.6879929886064856,
            0.6590709903593339,
            0.7142857142857142,
            0.5030674846625767,
            0.7283085013146362,
            0.6476774758983348,
            0.5644171779141104,
            0.4715162138475022
           ]
          },
          {
           "axis": {
            "matches": true
           },
           "label": "Freedom to make life choices",
           "values": [
            0.8843106180665611,
            0.5879556259904913,
            0.7194928684627576,
            0.7242472266244058,
            0.6862123613312203,
            0.6909667194928685,
            0.5562599049128367,
            0.5657686212361331,
            0.8478605388272584,
            0.6957210776545166,
            0.5736925515055468,
            0.8177496038034866,
            0.6180665610142632,
            0.8288431061806657,
            0.6814580031695721,
            0.3660855784469097,
            0.8494453248811411,
            0.5293185419968305,
            0.7749603803486529,
            0.7654516640253566,
            0.4611727416798732,
            0.7448494453248811,
            0.8938193343898573,
            0.6893819334389858,
            0.7749603803486529,
            0.7464342313787639,
            0.7321711568938194,
            0.6434231378763867,
            0.7892234548335975,
            0.7812995245641838,
            0.8827258320126784,
            0.41838351822503966,
            0.2519809825673534,
            0.7844690966719493,
            0.7765451664025357,
            0.7892234548335975,
            0.705229793977813,
            0.803486529318542,
            0.6497622820919176,
            0.809825673534073,
            0.31537242472266247,
            0.8145800316957211,
            0.6608557844690967,
            0.7210776545166403,
            0.8050713153724247,
            0.5293185419968305,
            0.8843106180665611,
            0.44690966719492864,
            0.38827258320126784,
            0.659270998415214,
            0.312202852614897,
            0.46909667194928684,
            0.7876386687797148,
            0.3359746434231379,
            0.3090332805071316,
            0.8050713153724247,
            0.37242472266244053,
            0.10618066561014264,
            0.5023771790808241,
            0.5467511885895404,
            0.8050713153724247,
            0.624405705229794,
            0.1362916006339144,
            0.6624405705229793,
            0.5562599049128367,
            0.34231378763866877,
            0.7781299524564184,
            0.8256735340729002,
            0.8605388272583202,
            0.7242472266244058,
            0.4928684627575277,
            0.6069730586370841,
            0.4675118858954041,
            0.6164817749603804,
            0.6069730586370841,
            0.24405705229793978,
            0.96513470681458,
            0.35657686212361334,
            0.6354992076069731,
            0.4484944532488114,
            0.48335974643423135,
            0.5483359746434231,
            0.26465927099841524,
            0.3819334389857369,
            0.7448494453248811,
            0.2820919175911252,
            0.3819334389857369,
            0.7210776545166403
           ]
          },
          {
           "axis": {
            "matches": true
           },
           "label": "Generosity",
           "values": [
            0.254416961130742,
            0.46113074204947,
            0.4946996466431096,
            0.08127208480565372,
            0.13074204946996468,
            0.196113074204947,
            0.42756183745583043,
            0.3303886925795053,
            0.30918727915194344,
            0.1413427561837456,
            0.27031802120141346,
            0.19257950530035337,
            0.17491166077738518,
            0.22438162544169613,
            0.16431095406360424,
            0.27915194346289757,
            0.4505300353356891,
            0.21378091872791521,
            0.32685512367491165,
            0.20671378091872794,
            0.07597173144876325,
            0.17491166077738518,
            0.254416961130742,
            0.353356890459364,
            0.46289752650176685,
            0.11660777385159012,
            0.14664310954063606,
            0.3356890459363958,
            0.22261484098939932,
            0.2508833922261484,
            0.6342756183745584,
            0.13250883392226148,
            0.30918727915194344,
            0.18197879858657243,
            0.18904593639575973,
            0.3798586572438163,
            0.12190812720848059,
            0.4346289752650177,
            0.2579505300353357,
            0.24204946996466434,
            0.14310954063604242,
            0.3250883392226149,
            0.3374558303886926,
            0.14664310954063606,
            0.08303886925795054,
            0.14487632508833923,
            0.20671378091872794,
            0.24204946996466434,
            0.3197879858657244,
            0.23498233215547706,
            0.2508833922261484,
            0.21024734982332155,
            0.19964664310954067,
            0.46466431095406363,
            0.14664310954063606,
            0.4593639575971732,
            0.16607773851590107,
            0,
            0.41519434628975266,
            0.32685512367491165,
            0.5300353356890459,
            0.43109540636042404,
            0.12897526501766785,
            0.0636042402826855,
            0.0618374558303887,
            0.2932862190812721,
            0.8798586572438163,
            0.10247349823321555,
            0.2597173144876325,
            0.6537102473498233,
            0.14310954063604242,
            0.1943462897526502,
            0.07597173144876325,
            0.2296819787985866,
            0.31448763250883394,
            0.11307420494699648,
            0.4098939929328622,
            0.18197879858657243,
            0.1236749116607774,
            0.1678445229681979,
            0.4770318021201414,
            0.07597173144876325,
            0.10424028268551237,
            0.26148409893992935,
            0.43109540636042404,
            0.3303886925795053,
            0.13427561837455831,
            0.0441696113074205
           ]
          },
          {
           "axis": {
            "matches": true
           },
           "label": "Perceptions of corruption",
           "values": [
            0.20529801324503308,
            0.18101545253863133,
            0.28256070640176595,
            0.07947019867549668,
            0.16114790286975714,
            0.4039735099337748,
            0.21412803532008828,
            0.12362030905077262,
            0.17218543046357615,
            0.2913907284768212,
            0.17439293598233993,
            0.11920529801324502,
            0.1898454746136865,
            0.3311258278145695,
            0.16335540838852095,
            0.0662251655629139,
            0.24282560706401762,
            0.030905077262693155,
            0.035320088300220744,
            0.11037527593818984,
            0.09271523178807946,
            0.07505518763796909,
            0.1258278145695364,
            0.2803532008830022,
            0.01324503311258278,
            0.11037527593818984,
            0.011037527593818984,
            0.09050772626931566,
            0.19205298013245028,
            0.21412803532008828,
            0.06181015452538631,
            0.14128035320088297,
            0.12362030905077262,
            0.3554083885209713,
            0.06181015452538631,
            0.1324503311258278,
            0.30905077262693154,
            0.17218543046357615,
            0.21192052980132448,
            0.14128035320088297,
            0.044150110375275935,
            0.17660044150110374,
            0.3576158940397351,
            0.05960264900662251,
            0.05518763796909492,
            0.06843267108167769,
            0.23620309050772623,
            0.08609271523178808,
            0,
            0.33554083885209707,
            0.17660044150110374,
            0.04856512141280352,
            0.22295805739514346,
            0.01324503311258278,
            0.23399558498896245,
            0.05298013245033112,
            0.3134657836644591,
            0.07505518763796909,
            0.08388520971302427,
            0.07505518763796909,
            0.050772626931567325,
            0.06181015452538631,
            0.2516556291390728,
            0.16777041942604853,
            0.401766004415011,
            0.05960264900662251,
            0.06181015452538631,
            0.22075055187637968,
            0.16114790286975714,
            0.3686534216335541,
            0.008830022075055186,
            0.28697571743929357,
            0.12141280353200881,
            0.12141280353200881,
            0.05960264900662251,
            0.10375275938189844,
            0.13686534216335539,
            0.1456953642384106,
            0.12362030905077262,
            0.14128035320088297,
            0.2759381898454746,
            0.36203090507726265,
            0.12141280353200881,
            0.1964679911699779,
            0.10375275938189844,
            0.022075055187637967,
            0.14790286975717437,
            0.22075055187637968
           ]
          }
         ],
         "hovertemplate": "<b>%{hovertext}</b><br><br>class=2<br>%{xaxis.title.text}=%{x}<br>%{yaxis.title.text}=%{y}<extra></extra>",
         "hovertext": [
          "Costa Rica",
          "Israel",
          "United States",
          "Czech Republic",
          "Mexico",
          "France",
          "Taiwan",
          "Chile",
          "Guatemala",
          "Saudi Arabia",
          "Spain",
          "Panama",
          "Brazil",
          "Uruguay",
          "El Salvador",
          "Italy",
          "Bahrain",
          "Slovakia",
          "Trinidad & Tobago",
          "Poland",
          "Lithuania",
          "Colombia",
          "Slovenia",
          "Nicaragua",
          "Kosovo",
          "Argentina",
          "Romania",
          "Cyprus",
          "Ecuador",
          "Kuwait",
          "Thailand",
          "Latvia",
          "South Korea",
          "Estonia",
          "Jamaica",
          "Mauritius",
          "Japan",
          "Honduras",
          "Kazakhstan",
          "Bolivia",
          "Hungary",
          "Paraguay",
          "Northern Cyprus",
          "Peru",
          "Portugal",
          "Russia",
          "Philippines",
          "Serbia",
          "Moldova",
          "Libya",
          "Montenegro",
          "Croatia",
          "Dominican Republic",
          "Bosnia and Herzegovina",
          "Turkey",
          "Malaysia",
          "Belarus",
          "Greece",
          "Mongolia",
          "North Macedonia",
          "Kyrgyzstan",
          "Turkmenistan",
          "Algeria",
          "Morocco",
          "Azerbaijan",
          "Lebanon",
          "Indonesia",
          "China",
          "Vietnam",
          "Bhutan",
          "Bulgaria",
          "Jordan",
          "Gabon",
          "South Africa",
          "Albania",
          "Venezuela",
          "Cambodia",
          "Palestinian Territories",
          "Namibia",
          "Armenia",
          "Iran",
          "Georgia",
          "Tunisia",
          "Iraq",
          "Sri Lanka",
          "Ukraine",
          "Egypt",
          "Botswana"
         ],
         "legendgroup": "2",
         "marker": {
          "color": "#EF553B",
          "size": 4,
          "symbol": "circle"
         },
         "name": "2",
         "showlegend": true,
         "showupperhalf": false,
         "type": "splom"
        },
        {
         "diagonal": {
          "visible": false
         },
         "dimensions": [
          {
           "axis": {
            "matches": true
           },
           "label": "GDP per capita",
           "values": [
            0.4020190023752969,
            0.29275534441805223,
            0.4133016627078384,
            0.3260095011876485,
            0.36282660332541566,
            0.3378859857482185,
            0.2648456057007126,
            0.2333729216152019,
            0.3996437054631829,
            0.45368171021377673,
            0.2672209026128266,
            0,
            0.0819477434679335,
            0.1965558194774347,
            0.22565320665083136,
            0.1828978622327791,
            0.30403800475059384,
            0.338479809976247,
            0.12114014251781471,
            0.333729216152019,
            0.055819477434679333,
            0.22862232779097386,
            0.15914489311163896,
            0.4216152019002375,
            0.20783847980997622,
            0.1995249406175772,
            0.4815914489311164,
            0.19714964370546317,
            0.34323040380047504,
            0.1633016627078385,
            0.4483372921615202,
            0.04334916864608076,
            0.16270783847981,
            0.16270783847981,
            0.2903800475059382,
            0.02731591448931116,
            0.21733966745843228,
            0.19180522565320665,
            0.3675771971496437,
            0.11342042755344418,
            0.1704275534441805,
            0.21318289786223277,
            0.2826603325415677,
            0.20783847980997622,
            0.015439429928741092,
            0.18171021377672208
           ]
          },
          {
           "axis": {
            "matches": true
           },
           "label": "Social support",
           "values": [
            0.5455665024630542,
            0.6761083743842364,
            0.6841133004926108,
            0.5603448275862069,
            0.5344827586206896,
            0.49753694581280783,
            0.7549261083743841,
            0.2690886699507389,
            0.49199507389162556,
            0.6342364532019704,
            0.6982758620689653,
            0.4298029556650245,
            0.4766009852216748,
            0.6502463054187192,
            0.5104679802955664,
            0.5782019704433496,
            0.605295566502463,
            0.7185960591133004,
            0.6071428571428571,
            0.5714285714285714,
            0.6927339901477831,
            0.6804187192118225,
            0.5178571428571428,
            0.7272167487684729,
            0.4716748768472906,
            0.6360837438423644,
            0.7075123152709358,
            0.6582512315270935,
            0.6514778325123152,
            0.3522167487684728,
            0.47105911330049255,
            0.5677339901477833,
            0.4661330049261083,
            0.564039408866995,
            0.7198275862068965,
            0.2752463054187192,
            0.6859605911330049,
            0.42364532019704426,
            0.23275862068965514,
            0.3448275862068965,
            0.7161330049261083,
            0.4378078817733989,
            0.5449507389162561,
            0.31834975369458124,
            0,
            0.35406403940886694
           ]
          },
          {
           "axis": {
            "matches": true
           },
           "label": "Healthy life expectancy",
           "values": [
            0.46888694127957936,
            0.6292725679228747,
            0.2147239263803681,
            0.29009640666082387,
            0.4259421560035057,
            0.203330411919369,
            0.5933391761612621,
            0.3479404031551271,
            0.44522348816827345,
            0.4829097283085014,
            0.5004382120946538,
            0.2348816827344435,
            0.32077125328659073,
            0.33304119193689746,
            0.32865907099035935,
            0.37510955302366344,
            0.50920245398773,
            0.42857142857142855,
            0.3418054338299737,
            0.6336546888694128,
            0.31288343558282206,
            0.26993865030674846,
            0.21209465381244522,
            0.4864154250657319,
            0.16827344434706398,
            0.46625766871165647,
            0,
            0.38825591586327785,
            0.3733567046450482,
            0.3593339176161262,
            0.5153374233128835,
            0.38825591586327785,
            0.44259421560035056,
            0.4864154250657319,
            0.147239263803681,
            0.33304119193689746,
            0.37949167397020156,
            0.39351446099912357,
            0.38562664329535495,
            0.43382997370727433,
            0.40578439964943036,
            0.5381244522348817,
            0.43733567046450483,
            0.31638913234005256,
            0.09202453987730061,
            0.25854513584574934
           ]
          },
          {
           "axis": {
            "matches": true
           },
           "label": "Freedom to make life choices",
           "values": [
            0.4960380348652932,
            0.6164817749603804,
            0.6751188589540412,
            0.6038034865293186,
            0.6038034865293186,
            0.5578446909667195,
            0.6957210776545166,
            0.5530903328050712,
            0.589540412044374,
            0.8668779714738511,
            0.46275752773375595,
            0.8858954041204439,
            0.5039619651347068,
            0.4041204437400951,
            0.526148969889065,
            0.6053882725832013,
            0.6830427892234548,
            0.10459587955625992,
            0.7828843106180665,
            0.8351822503961965,
            0.4263074484944533,
            0.5182250396196514,
            0.4896988906497623,
            0.8320126782884311,
            0.2757527733755943,
            0.5451664025356576,
            0.4960380348652932,
            0.5641838351822503,
            0.6830427892234548,
            0.4643423137876386,
            0.7892234548335975,
            0.5863708399366085,
            0.22503961965134706,
            0.23454833597464342,
            0.5689381933438986,
            0.3486529318541997,
            0.572107765451664,
            0.04120443740095087,
            0.020602218700475437,
            0.7020602218700476,
            0.2266244057052298,
            0.8795562599049129,
            0.6608557844690967,
            0,
            0.35657686212361334,
            0.01584786053882726
           ]
          },
          {
           "axis": {
            "matches": true
           },
           "label": "Generosity",
           "values": [
            0.3886925795053004,
            0.4063604240282686,
            0.3798586572438163,
            0.3303886925795053,
            0.43286219081272087,
            0.27208480565371024,
            0.5035335689045937,
            0.30918727915194344,
            0.1855123674911661,
            0.4699646643109541,
            0.27031802120141346,
            0.4293286219081272,
            0.33215547703180215,
            0.3127208480565371,
            0.3657243816254417,
            0.47526501766784457,
            0.657243816254417,
            0.1872791519434629,
            0.34805653710247353,
            0.2932862190812721,
            0.3745583038869258,
            0.27031802120141346,
            0.44522968197879864,
            1,
            0.34982332155477036,
            0.36925795053003535,
            0.13074204946996468,
            0.44522968197879864,
            0.43639575971731454,
            0.3127208480565371,
            0.353356890459364,
            0.41166077738515905,
            0.4858657243816255,
            0.2985865724381626,
            0.18904593639575973,
            0.31095406360424027,
            0.2667844522968198,
            0.7402826855123675,
            0.5848056537102474,
            0.38515901060070673,
            0.19081272084805656,
            0.3833922261484099,
            0.48763250883392234,
            0.27915194346289757,
            0.41519434628975266,
            0.35689045936395764
           ]
          },
          {
           "axis": {
            "matches": true
           },
           "label": "Perceptions of corruption",
           "values": [
            0.2163355408388521,
            0.3178807947019867,
            0.09050772626931566,
            0.08167770419426047,
            0.08830022075055187,
            0.19867549668874168,
            0.1964679911699779,
            0.18101545253863133,
            0.20529801324503308,
            0.36203090507726265,
            0.15894039735099336,
            0.5960264900662251,
            0.22516556291390724,
            0.24944812362030902,
            0.1898454746136865,
            0.3686534216335541,
            0.11699779249448122,
            0.1942604856512141,
            0.304635761589404,
            0.3156732891832229,
            0.11699779249448122,
            0.11479028697571741,
            0.09933774834437084,
            0.379690949227373,
            0.17218543046357615,
            0.22075055187637968,
            0.29801324503311255,
            0.1324503311258278,
            0.19205298013245028,
            0.18763796909492272,
            0.18763796909492272,
            0.0728476821192053,
            0.17218543046357615,
            0.09050772626931566,
            0.20529801324503308,
            0.39735099337748336,
            0.1964679911699779,
            0.24282560706401762,
            0.3112582781456953,
            0.1964679911699779,
            0.16997792494481234,
            0.9072847682119204,
            0.3245033112582781,
            0.05518763796909492,
            0.07726269315673288,
            0.2008830022075055
           ]
          }
         ],
         "hovertemplate": "<b>%{hovertext}</b><br><br>class=1<br>%{xaxis.title.text}=%{x}<br>%{yaxis.title.text}=%{y}<extra></extra>",
         "hovertext": [
          "Pakistan",
          "Tajikistan",
          "Nigeria",
          "Cameroon",
          "Ghana",
          "Ivory Coast",
          "Nepal",
          "Benin",
          "Congo (Brazzaville)",
          "Laos",
          "Senegal",
          "Somalia",
          "Niger",
          "Burkina Faso",
          "Guinea",
          "Gambia",
          "Kenya",
          "Mauritania",
          "Mozambique",
          "Bangladesh",
          "Congo (Kinshasa)",
          "Mali",
          "Sierra Leone",
          "Myanmar",
          "Chad",
          "Ethiopia",
          "Swaziland",
          "Uganda",
          "Zambia",
          "Togo",
          "India",
          "Liberia",
          "Comoros",
          "Madagascar",
          "Lesotho",
          "Burundi",
          "Zimbabwe",
          "Haiti",
          "Syria",
          "Malawi",
          "Yemen",
          "Rwanda",
          "Tanzania",
          "Afghanistan",
          "Central African Republic",
          "South Sudan"
         ],
         "legendgroup": "1",
         "marker": {
          "color": "#00cc96",
          "size": 4,
          "symbol": "circle"
         },
         "name": "1",
         "showlegend": true,
         "showupperhalf": false,
         "type": "splom"
        }
       ],
       "layout": {
        "dragmode": "select",
        "font": {
         "size": 7
        },
        "height": 800,
        "legend": {
         "title": {
          "text": "class"
         },
         "tracegroupgap": 0
        },
        "margin": {
         "t": 60
        },
        "template": {
         "data": {
          "bar": [
           {
            "error_x": {
             "color": "#2a3f5f"
            },
            "error_y": {
             "color": "#2a3f5f"
            },
            "marker": {
             "line": {
              "color": "#E5ECF6",
              "width": 0.5
             }
            },
            "type": "bar"
           }
          ],
          "barpolar": [
           {
            "marker": {
             "line": {
              "color": "#E5ECF6",
              "width": 0.5
             }
            },
            "type": "barpolar"
           }
          ],
          "carpet": [
           {
            "aaxis": {
             "endlinecolor": "#2a3f5f",
             "gridcolor": "white",
             "linecolor": "white",
             "minorgridcolor": "white",
             "startlinecolor": "#2a3f5f"
            },
            "baxis": {
             "endlinecolor": "#2a3f5f",
             "gridcolor": "white",
             "linecolor": "white",
             "minorgridcolor": "white",
             "startlinecolor": "#2a3f5f"
            },
            "type": "carpet"
           }
          ],
          "choropleth": [
           {
            "colorbar": {
             "outlinewidth": 0,
             "ticks": ""
            },
            "type": "choropleth"
           }
          ],
          "contour": [
           {
            "colorbar": {
             "outlinewidth": 0,
             "ticks": ""
            },
            "colorscale": [
             [
              0,
              "#0d0887"
             ],
             [
              0.1111111111111111,
              "#46039f"
             ],
             [
              0.2222222222222222,
              "#7201a8"
             ],
             [
              0.3333333333333333,
              "#9c179e"
             ],
             [
              0.4444444444444444,
              "#bd3786"
             ],
             [
              0.5555555555555556,
              "#d8576b"
             ],
             [
              0.6666666666666666,
              "#ed7953"
             ],
             [
              0.7777777777777778,
              "#fb9f3a"
             ],
             [
              0.8888888888888888,
              "#fdca26"
             ],
             [
              1,
              "#f0f921"
             ]
            ],
            "type": "contour"
           }
          ],
          "contourcarpet": [
           {
            "colorbar": {
             "outlinewidth": 0,
             "ticks": ""
            },
            "type": "contourcarpet"
           }
          ],
          "heatmap": [
           {
            "colorbar": {
             "outlinewidth": 0,
             "ticks": ""
            },
            "colorscale": [
             [
              0,
              "#0d0887"
             ],
             [
              0.1111111111111111,
              "#46039f"
             ],
             [
              0.2222222222222222,
              "#7201a8"
             ],
             [
              0.3333333333333333,
              "#9c179e"
             ],
             [
              0.4444444444444444,
              "#bd3786"
             ],
             [
              0.5555555555555556,
              "#d8576b"
             ],
             [
              0.6666666666666666,
              "#ed7953"
             ],
             [
              0.7777777777777778,
              "#fb9f3a"
             ],
             [
              0.8888888888888888,
              "#fdca26"
             ],
             [
              1,
              "#f0f921"
             ]
            ],
            "type": "heatmap"
           }
          ],
          "heatmapgl": [
           {
            "colorbar": {
             "outlinewidth": 0,
             "ticks": ""
            },
            "colorscale": [
             [
              0,
              "#0d0887"
             ],
             [
              0.1111111111111111,
              "#46039f"
             ],
             [
              0.2222222222222222,
              "#7201a8"
             ],
             [
              0.3333333333333333,
              "#9c179e"
             ],
             [
              0.4444444444444444,
              "#bd3786"
             ],
             [
              0.5555555555555556,
              "#d8576b"
             ],
             [
              0.6666666666666666,
              "#ed7953"
             ],
             [
              0.7777777777777778,
              "#fb9f3a"
             ],
             [
              0.8888888888888888,
              "#fdca26"
             ],
             [
              1,
              "#f0f921"
             ]
            ],
            "type": "heatmapgl"
           }
          ],
          "histogram": [
           {
            "marker": {
             "colorbar": {
              "outlinewidth": 0,
              "ticks": ""
             }
            },
            "type": "histogram"
           }
          ],
          "histogram2d": [
           {
            "colorbar": {
             "outlinewidth": 0,
             "ticks": ""
            },
            "colorscale": [
             [
              0,
              "#0d0887"
             ],
             [
              0.1111111111111111,
              "#46039f"
             ],
             [
              0.2222222222222222,
              "#7201a8"
             ],
             [
              0.3333333333333333,
              "#9c179e"
             ],
             [
              0.4444444444444444,
              "#bd3786"
             ],
             [
              0.5555555555555556,
              "#d8576b"
             ],
             [
              0.6666666666666666,
              "#ed7953"
             ],
             [
              0.7777777777777778,
              "#fb9f3a"
             ],
             [
              0.8888888888888888,
              "#fdca26"
             ],
             [
              1,
              "#f0f921"
             ]
            ],
            "type": "histogram2d"
           }
          ],
          "histogram2dcontour": [
           {
            "colorbar": {
             "outlinewidth": 0,
             "ticks": ""
            },
            "colorscale": [
             [
              0,
              "#0d0887"
             ],
             [
              0.1111111111111111,
              "#46039f"
             ],
             [
              0.2222222222222222,
              "#7201a8"
             ],
             [
              0.3333333333333333,
              "#9c179e"
             ],
             [
              0.4444444444444444,
              "#bd3786"
             ],
             [
              0.5555555555555556,
              "#d8576b"
             ],
             [
              0.6666666666666666,
              "#ed7953"
             ],
             [
              0.7777777777777778,
              "#fb9f3a"
             ],
             [
              0.8888888888888888,
              "#fdca26"
             ],
             [
              1,
              "#f0f921"
             ]
            ],
            "type": "histogram2dcontour"
           }
          ],
          "mesh3d": [
           {
            "colorbar": {
             "outlinewidth": 0,
             "ticks": ""
            },
            "type": "mesh3d"
           }
          ],
          "parcoords": [
           {
            "line": {
             "colorbar": {
              "outlinewidth": 0,
              "ticks": ""
             }
            },
            "type": "parcoords"
           }
          ],
          "pie": [
           {
            "automargin": true,
            "type": "pie"
           }
          ],
          "scatter": [
           {
            "marker": {
             "colorbar": {
              "outlinewidth": 0,
              "ticks": ""
             }
            },
            "type": "scatter"
           }
          ],
          "scatter3d": [
           {
            "line": {
             "colorbar": {
              "outlinewidth": 0,
              "ticks": ""
             }
            },
            "marker": {
             "colorbar": {
              "outlinewidth": 0,
              "ticks": ""
             }
            },
            "type": "scatter3d"
           }
          ],
          "scattercarpet": [
           {
            "marker": {
             "colorbar": {
              "outlinewidth": 0,
              "ticks": ""
             }
            },
            "type": "scattercarpet"
           }
          ],
          "scattergeo": [
           {
            "marker": {
             "colorbar": {
              "outlinewidth": 0,
              "ticks": ""
             }
            },
            "type": "scattergeo"
           }
          ],
          "scattergl": [
           {
            "marker": {
             "colorbar": {
              "outlinewidth": 0,
              "ticks": ""
             }
            },
            "type": "scattergl"
           }
          ],
          "scattermapbox": [
           {
            "marker": {
             "colorbar": {
              "outlinewidth": 0,
              "ticks": ""
             }
            },
            "type": "scattermapbox"
           }
          ],
          "scatterpolar": [
           {
            "marker": {
             "colorbar": {
              "outlinewidth": 0,
              "ticks": ""
             }
            },
            "type": "scatterpolar"
           }
          ],
          "scatterpolargl": [
           {
            "marker": {
             "colorbar": {
              "outlinewidth": 0,
              "ticks": ""
             }
            },
            "type": "scatterpolargl"
           }
          ],
          "scatterternary": [
           {
            "marker": {
             "colorbar": {
              "outlinewidth": 0,
              "ticks": ""
             }
            },
            "type": "scatterternary"
           }
          ],
          "surface": [
           {
            "colorbar": {
             "outlinewidth": 0,
             "ticks": ""
            },
            "colorscale": [
             [
              0,
              "#0d0887"
             ],
             [
              0.1111111111111111,
              "#46039f"
             ],
             [
              0.2222222222222222,
              "#7201a8"
             ],
             [
              0.3333333333333333,
              "#9c179e"
             ],
             [
              0.4444444444444444,
              "#bd3786"
             ],
             [
              0.5555555555555556,
              "#d8576b"
             ],
             [
              0.6666666666666666,
              "#ed7953"
             ],
             [
              0.7777777777777778,
              "#fb9f3a"
             ],
             [
              0.8888888888888888,
              "#fdca26"
             ],
             [
              1,
              "#f0f921"
             ]
            ],
            "type": "surface"
           }
          ],
          "table": [
           {
            "cells": {
             "fill": {
              "color": "#EBF0F8"
             },
             "line": {
              "color": "white"
             }
            },
            "header": {
             "fill": {
              "color": "#C8D4E3"
             },
             "line": {
              "color": "white"
             }
            },
            "type": "table"
           }
          ]
         },
         "layout": {
          "annotationdefaults": {
           "arrowcolor": "#2a3f5f",
           "arrowhead": 0,
           "arrowwidth": 1
          },
          "autotypenumbers": "strict",
          "coloraxis": {
           "colorbar": {
            "outlinewidth": 0,
            "ticks": ""
           }
          },
          "colorscale": {
           "diverging": [
            [
             0,
             "#8e0152"
            ],
            [
             0.1,
             "#c51b7d"
            ],
            [
             0.2,
             "#de77ae"
            ],
            [
             0.3,
             "#f1b6da"
            ],
            [
             0.4,
             "#fde0ef"
            ],
            [
             0.5,
             "#f7f7f7"
            ],
            [
             0.6,
             "#e6f5d0"
            ],
            [
             0.7,
             "#b8e186"
            ],
            [
             0.8,
             "#7fbc41"
            ],
            [
             0.9,
             "#4d9221"
            ],
            [
             1,
             "#276419"
            ]
           ],
           "sequential": [
            [
             0,
             "#0d0887"
            ],
            [
             0.1111111111111111,
             "#46039f"
            ],
            [
             0.2222222222222222,
             "#7201a8"
            ],
            [
             0.3333333333333333,
             "#9c179e"
            ],
            [
             0.4444444444444444,
             "#bd3786"
            ],
            [
             0.5555555555555556,
             "#d8576b"
            ],
            [
             0.6666666666666666,
             "#ed7953"
            ],
            [
             0.7777777777777778,
             "#fb9f3a"
            ],
            [
             0.8888888888888888,
             "#fdca26"
            ],
            [
             1,
             "#f0f921"
            ]
           ],
           "sequentialminus": [
            [
             0,
             "#0d0887"
            ],
            [
             0.1111111111111111,
             "#46039f"
            ],
            [
             0.2222222222222222,
             "#7201a8"
            ],
            [
             0.3333333333333333,
             "#9c179e"
            ],
            [
             0.4444444444444444,
             "#bd3786"
            ],
            [
             0.5555555555555556,
             "#d8576b"
            ],
            [
             0.6666666666666666,
             "#ed7953"
            ],
            [
             0.7777777777777778,
             "#fb9f3a"
            ],
            [
             0.8888888888888888,
             "#fdca26"
            ],
            [
             1,
             "#f0f921"
            ]
           ]
          },
          "colorway": [
           "#636efa",
           "#EF553B",
           "#00cc96",
           "#ab63fa",
           "#FFA15A",
           "#19d3f3",
           "#FF6692",
           "#B6E880",
           "#FF97FF",
           "#FECB52"
          ],
          "font": {
           "color": "#2a3f5f"
          },
          "geo": {
           "bgcolor": "white",
           "lakecolor": "white",
           "landcolor": "#E5ECF6",
           "showlakes": true,
           "showland": true,
           "subunitcolor": "white"
          },
          "hoverlabel": {
           "align": "left"
          },
          "hovermode": "closest",
          "mapbox": {
           "style": "light"
          },
          "paper_bgcolor": "white",
          "plot_bgcolor": "#E5ECF6",
          "polar": {
           "angularaxis": {
            "gridcolor": "white",
            "linecolor": "white",
            "ticks": ""
           },
           "bgcolor": "#E5ECF6",
           "radialaxis": {
            "gridcolor": "white",
            "linecolor": "white",
            "ticks": ""
           }
          },
          "scene": {
           "xaxis": {
            "backgroundcolor": "#E5ECF6",
            "gridcolor": "white",
            "gridwidth": 2,
            "linecolor": "white",
            "showbackground": true,
            "ticks": "",
            "zerolinecolor": "white"
           },
           "yaxis": {
            "backgroundcolor": "#E5ECF6",
            "gridcolor": "white",
            "gridwidth": 2,
            "linecolor": "white",
            "showbackground": true,
            "ticks": "",
            "zerolinecolor": "white"
           },
           "zaxis": {
            "backgroundcolor": "#E5ECF6",
            "gridcolor": "white",
            "gridwidth": 2,
            "linecolor": "white",
            "showbackground": true,
            "ticks": "",
            "zerolinecolor": "white"
           }
          },
          "shapedefaults": {
           "line": {
            "color": "#2a3f5f"
           }
          },
          "ternary": {
           "aaxis": {
            "gridcolor": "white",
            "linecolor": "white",
            "ticks": ""
           },
           "baxis": {
            "gridcolor": "white",
            "linecolor": "white",
            "ticks": ""
           },
           "bgcolor": "#E5ECF6",
           "caxis": {
            "gridcolor": "white",
            "linecolor": "white",
            "ticks": ""
           }
          },
          "title": {
           "x": 0.05
          },
          "xaxis": {
           "automargin": true,
           "gridcolor": "white",
           "linecolor": "white",
           "ticks": "",
           "title": {
            "standoff": 15
           },
           "zerolinecolor": "white",
           "zerolinewidth": 2
          },
          "yaxis": {
           "automargin": true,
           "gridcolor": "white",
           "linecolor": "white",
           "ticks": "",
           "title": {
            "standoff": 15
           },
           "zerolinecolor": "white",
           "zerolinewidth": 2
          }
         }
        },
        "title": {
         "text": "Happiness Index"
        },
        "width": 800
       }
      },
      "text/html": [
       "<div>                            <div id=\"40a005fa-8bc0-4d92-8815-f49927f90f99\" class=\"plotly-graph-div\" style=\"height:800px; width:800px;\"></div>            <script type=\"text/javascript\">                require([\"plotly\"], function(Plotly) {                    window.PLOTLYENV=window.PLOTLYENV || {};                                    if (document.getElementById(\"40a005fa-8bc0-4d92-8815-f49927f90f99\")) {                    Plotly.newPlot(                        \"40a005fa-8bc0-4d92-8815-f49927f90f99\",                        [{\"diagonal\": {\"visible\": false}, \"dimensions\": [{\"axis\": {\"matches\": true}, \"label\": \"GDP per capita\", \"values\": [0.7957244655581948, 0.8212589073634204, 0.8836104513064132, 0.8194774346793349, 0.8289786223277908, 0.8622327790973872, 0.8236342042755345, 0.7737529691211401, 0.8105700712589073, 0.8171021377672208, 0.8147268408551069, 0.9554631828978621, 0.7915676959619952, 0.8901425178147269, 0.8153206650831354, 0.8052256532066508, 0.8925178147268408, 0.7719714964370546, 0.9999999999999999, 0.9334916864608076, 0.44239904988123513, 0.8539192399049881]}, {\"axis\": {\"matches\": true}, \"label\": \"Social support\", \"values\": [0.9772167487684728, 0.9685960591133004, 0.9741379310344827, 0.9999999999999999, 0.9371921182266009, 0.939655172413793, 0.9156403940886699, 0.9587438423645318, 0.9267241379310343, 0.9082512315270935, 0.9532019704433496, 0.9107142857142857, 0.9470443349753693, 0.9562807881773397, 0.8953201970443349, 0.9261083743842363, 0.8066502463054186, 0.9359605911330048, 0.8084975369458126, 0.9008620689655171, 0.941502463054187, 0.7863300492610836]}, {\"axis\": {\"matches\": true}, \"label\": \"Healthy life expectancy\", \"values\": [0.8641542506573181, 0.8729184925503944, 0.9009640666082384, 0.8992112182296231, 0.8755477651183172, 0.9219982471516214, 0.8843120070113935, 0.8992112182296231, 0.9106047326906221, 0.8904469763365469, 0.9079754601226994, 0.8869412795793163, 0.8729184925503944, 0.8755477651183172, 0.8650306748466258, 0.8641542506573181, 0.7230499561787905, 0.8755477651183172, 0.7633654688869412, 1.0, 0.6625766871165644, 0.9833479404031552]}, {\"axis\": {\"matches\": true}, \"label\": \"Freedom to make life choices\", \"values\": [0.9445324881141046, 0.9381933438985737, 0.9556259904912837, 0.936608557844691, 0.8827258320126784, 0.9064976228209192, 0.9096671949286845, 0.9270998415213946, 0.9255150554675119, 0.8431061806656102, 0.8827258320126784, 0.8335974643423139, 0.7131537242472267, 0.8177496038034866, 0.7844690966719493, 0.7496038034865293, 0.94770206022187, 0.8938193343898573, 0.8795562599049129, 0.8811410459587956, 1.0, 0.6973058637083994]}, {\"axis\": {\"matches\": true}, \"label\": \"Generosity\", \"values\": [0.27031802120141346, 0.44522968197879864, 0.47879858657243823, 0.6254416961130742, 0.568904593639576, 0.46466431095406363, 0.47173144876325096, 0.5830388692579506, 0.5035335689045937, 0.43109540636042404, 0.5865724381625442, 0.3427561837455831, 0.6148409893992933, 0.5265017667844523, 0.46113074204947, 0.2826855123674912, 0.46289752650176685, 0.6625441696113075, 0.3886925795053004, 0.47879858657243823, 0.568904593639576, 0.4558303886925795]}, {\"axis\": {\"matches\": true}, \"label\": \"Perceptions of corruption\", \"values\": [0.8675496688741721, 0.9050772626931566, 0.7527593818984547, 0.260485651214128, 0.6578366445916114, 0.7571743929359823, 0.8233995584988961, 0.8388520971302428, 0.6799116997792494, 0.49889624724061804, 0.6401766004415009, 0.6975717439293597, 0.6136865342163356, 0.684326710816777, 0.5849889624724062, 0.4635761589403973, 0.401766004415011, 0.33333333333333326, 0.3686534216335541, 0.9999999999999999, 0.5298013245033112, 0.6335540838852096]}], \"hovertemplate\": \"<b>%{hovertext}</b><br><br>class=0<br>%{xaxis.title.text}=%{x}<br>%{yaxis.title.text}=%{y}<extra></extra>\", \"hovertext\": [\"Finland\", \"Denmark\", \"Norway\", \"Iceland\", \"Netherlands\", \"Switzerland\", \"Sweden\", \"New Zealand\", \"Canada\", \"Austria\", \"Australia\", \"Luxembourg\", \"United Kingdom\", \"Ireland\", \"Germany\", \"Belgium\", \"United Arab Emirates\", \"Malta\", \"Qatar\", \"Singapore\", \"Uzbekistan\", \"Hong Kong\"], \"legendgroup\": \"0\", \"marker\": {\"color\": \"#636efa\", \"size\": 4, \"symbol\": \"circle\"}, \"name\": \"0\", \"showlegend\": true, \"showupperhalf\": false, \"type\": \"splom\"}, {\"diagonal\": {\"visible\": false}, \"dimensions\": [{\"axis\": {\"matches\": true}, \"label\": \"GDP per capita\", \"values\": [0.6140142517814727, 0.7577197149643705, 0.8509501187648456, 0.7535629453681709, 0.6353919239904988, 0.7862232779097388, 0.8123515439429929, 0.6882422802850356, 0.4750593824228029, 0.8331353919239904, 0.7636579572446556, 0.6823040380047506, 0.5961995249406176, 0.667458432304038, 0.47149643705463185, 0.7684085510688836, 0.8087885985748219, 0.7399049881235155, 0.7309976247030879, 0.7161520190023752, 0.7351543942992874, 0.584916864608076, 0.7470308788598574, 0.4121140142517814, 0.5237529691211401, 0.6484560570071259, 0.6900237529691211, 0.7499999999999999, 0.5415676959619953, 0.8907363420427553, 0.6235154394299287, 0.7048693586698337, 0.7725653206650831, 0.734560570071259, 0.49346793349168644, 0.665083135391924, 0.7880047505938241, 0.3812351543942993, 0.6965558194774347, 0.46080760095011875, 0.7131828978622328, 0.5077197149643705, 0.7499999999999999, 0.5700712589073634, 0.7250593824228029, 0.7024940617577197, 0.47921615201900236, 0.5961995249406176, 0.40676959619952496, 0.6199524940617577, 0.6241092636579572, 0.6858669833729216, 0.6027315914489311, 0.5611638954869358, 0.7024940617577197, 0.7250593824228029, 0.6336104513064132, 0.7013064133016628, 0.5629453681710214, 0.583729216152019, 0.3271971496437055, 0.6247030878859857, 0.5950118764845606, 0.4756532066508314, 0.6193586698337291, 0.586104513064133, 0.5528503562945368, 0.6110451306413301, 0.4400237529691211, 0.48277909738717334, 0.6484560570071259, 0.4970308788598575, 0.6276722090261282, 0.5700712589073634, 0.5623515439429928, 0.5700712589073634, 0.340855106888361, 0.39014251781472686, 0.5219714964370546, 0.504750593824228, 0.653206650831354, 0.5261282660332541, 0.5469121140142518, 0.6193586698337291, 0.5635391923990498, 0.4869358669833729, 0.5421615201900237, 0.6181710213776721]}, {\"axis\": {\"matches\": true}, \"label\": \"Social support\", \"values\": [0.8873152709359605, 0.8959359605911329, 0.897167487684729, 0.9156403940886699, 0.8146551724137929, 0.9064039408866994, 0.880541871921182, 0.8429802955665023, 0.7814039408866993, 0.8355911330049259, 0.9137931034482757, 0.8879310344827585, 0.8860837438423644, 0.9020935960591132, 0.7647783251231526, 0.9162561576354679, 0.8423645320197044, 0.9261083743842363, 0.9094827586206896, 0.8854679802955664, 0.9328817733990146, 0.8682266009852215, 0.9378078817733988, 0.815886699507389, 0.7586206896551723, 0.8817733990147781, 0.7586206896551723, 0.7530788177339901, 0.8078817733990147, 0.8121921182266009, 0.8676108374384235, 0.9020935960591132, 0.7506157635467979, 0.940886699507389, 0.9100985221674875, 0.8633004926108373, 0.8737684729064038, 0.7610837438423644, 0.9285714285714285, 0.7444581280788177, 0.8682266009852215, 0.9082512315270935, 0.7709359605911329, 0.7844827586206896, 0.8811576354679802, 0.8940886699507388, 0.7961822660098521, 0.8516009852216747, 0.8177339901477831, 0.8023399014778324, 0.8380541871921181, 0.7795566502463053, 0.8626847290640393, 0.7463054187192117, 0.8374384236453202, 0.7210591133004925, 0.9020935960591132, 0.711822660098522, 0.942733990147783, 0.7967980295566501, 0.8854679802955664, 0.9470443349753693, 0.7142857142857142, 0.48152709359605905, 0.7062807881773399, 0.753694581280788, 0.7407635467980295, 0.6927339901477831, 0.8288177339901477, 0.813423645320197, 0.9316502463054185, 0.7543103448275862, 0.728448275862069, 0.8318965517241378, 0.522167487684729, 0.878694581280788, 0.6908866995073891, 0.7678571428571428, 0.8084975369458126, 0.649630541871921, 0.5184729064039408, 0.41009852216748766, 0.6157635467980295, 0.6034482758620688, 0.7789408866995072, 0.8559113300492609, 0.6397783251231526, 0.7050492610837438]}, {\"axis\": {\"matches\": true}, \"label\": \"Healthy life expectancy\", \"values\": [0.8439964943032428, 0.9018404907975459, 0.7659947414548641, 0.8063102541630149, 0.754601226993865, 0.9158632778264679, 0.8010517090271692, 0.8063102541630149, 0.6538124452234881, 0.6967572304995618, 0.9307624890446977, 0.7975460122699387, 0.7028921998247152, 0.7808939526730938, 0.6914986853637161, 0.9106047326906221, 0.7633654688869412, 0.7721297107800176, 0.6248904469763366, 0.7747589833479404, 0.7169149868536371, 0.7370727432077125, 0.8352322524101665, 0.7318141980718668, 0.6643295354951797, 0.7721297107800176, 0.7230499561787905, 0.9132340052585451, 0.7607361963190185, 0.708150744960561, 0.7256792287467134, 0.7116564417177914, 0.9079754601226994, 0.7659947414548641, 0.7283085013146362, 0.6993865030674847, 0.953549517966696, 0.7256792287467134, 0.6389132340052586, 0.6187554776511831, 0.7256792287467134, 0.6809815950920246, 0.9132340052585451, 0.7484662576687117, 0.8755477651183172, 0.6362839614373357, 0.5758106923751096, 0.7484662576687117, 0.6476774758983348, 0.5898334794040316, 0.7633654688869412, 0.8010517090271692, 0.6827344434706398, 0.740578439964943, 0.708150744960561, 0.7256792287467134, 0.6914986853637161, 0.8755477651183172, 0.5845749342681859, 0.7344434706397897, 0.6336546888694128, 0.5758106923751096, 0.6879929886064856, 0.6853637160385627, 0.6739702015775636, 0.7142857142857142, 0.5784399649430324, 0.782646801051709, 0.7458369851007888, 0.5293602103418055, 0.7142857142857142, 0.7142857142857142, 0.5004382120946538, 0.41104294478527603, 0.7659947414548641, 0.7055214723926381, 0.558282208588957, 0.588957055214724, 0.41805433829973704, 0.7142857142857142, 0.6879929886064856, 0.6590709903593339, 0.7142857142857142, 0.5030674846625767, 0.7283085013146362, 0.6476774758983348, 0.5644171779141104, 0.4715162138475022]}, {\"axis\": {\"matches\": true}, \"label\": \"Freedom to make life choices\", \"values\": [0.8843106180665611, 0.5879556259904913, 0.7194928684627576, 0.7242472266244058, 0.6862123613312203, 0.6909667194928685, 0.5562599049128367, 0.5657686212361331, 0.8478605388272584, 0.6957210776545166, 0.5736925515055468, 0.8177496038034866, 0.6180665610142632, 0.8288431061806657, 0.6814580031695721, 0.3660855784469097, 0.8494453248811411, 0.5293185419968305, 0.7749603803486529, 0.7654516640253566, 0.4611727416798732, 0.7448494453248811, 0.8938193343898573, 0.6893819334389858, 0.7749603803486529, 0.7464342313787639, 0.7321711568938194, 0.6434231378763867, 0.7892234548335975, 0.7812995245641838, 0.8827258320126784, 0.41838351822503966, 0.2519809825673534, 0.7844690966719493, 0.7765451664025357, 0.7892234548335975, 0.705229793977813, 0.803486529318542, 0.6497622820919176, 0.809825673534073, 0.31537242472266247, 0.8145800316957211, 0.6608557844690967, 0.7210776545166403, 0.8050713153724247, 0.5293185419968305, 0.8843106180665611, 0.44690966719492864, 0.38827258320126784, 0.659270998415214, 0.312202852614897, 0.46909667194928684, 0.7876386687797148, 0.3359746434231379, 0.3090332805071316, 0.8050713153724247, 0.37242472266244053, 0.10618066561014264, 0.5023771790808241, 0.5467511885895404, 0.8050713153724247, 0.624405705229794, 0.1362916006339144, 0.6624405705229793, 0.5562599049128367, 0.34231378763866877, 0.7781299524564184, 0.8256735340729002, 0.8605388272583202, 0.7242472266244058, 0.4928684627575277, 0.6069730586370841, 0.4675118858954041, 0.6164817749603804, 0.6069730586370841, 0.24405705229793978, 0.96513470681458, 0.35657686212361334, 0.6354992076069731, 0.4484944532488114, 0.48335974643423135, 0.5483359746434231, 0.26465927099841524, 0.3819334389857369, 0.7448494453248811, 0.2820919175911252, 0.3819334389857369, 0.7210776545166403]}, {\"axis\": {\"matches\": true}, \"label\": \"Generosity\", \"values\": [0.254416961130742, 0.46113074204947, 0.4946996466431096, 0.08127208480565372, 0.13074204946996468, 0.196113074204947, 0.42756183745583043, 0.3303886925795053, 0.30918727915194344, 0.1413427561837456, 0.27031802120141346, 0.19257950530035337, 0.17491166077738518, 0.22438162544169613, 0.16431095406360424, 0.27915194346289757, 0.4505300353356891, 0.21378091872791521, 0.32685512367491165, 0.20671378091872794, 0.07597173144876325, 0.17491166077738518, 0.254416961130742, 0.353356890459364, 0.46289752650176685, 0.11660777385159012, 0.14664310954063606, 0.3356890459363958, 0.22261484098939932, 0.2508833922261484, 0.6342756183745584, 0.13250883392226148, 0.30918727915194344, 0.18197879858657243, 0.18904593639575973, 0.3798586572438163, 0.12190812720848059, 0.4346289752650177, 0.2579505300353357, 0.24204946996466434, 0.14310954063604242, 0.3250883392226149, 0.3374558303886926, 0.14664310954063606, 0.08303886925795054, 0.14487632508833923, 0.20671378091872794, 0.24204946996466434, 0.3197879858657244, 0.23498233215547706, 0.2508833922261484, 0.21024734982332155, 0.19964664310954067, 0.46466431095406363, 0.14664310954063606, 0.4593639575971732, 0.16607773851590107, 0.0, 0.41519434628975266, 0.32685512367491165, 0.5300353356890459, 0.43109540636042404, 0.12897526501766785, 0.0636042402826855, 0.0618374558303887, 0.2932862190812721, 0.8798586572438163, 0.10247349823321555, 0.2597173144876325, 0.6537102473498233, 0.14310954063604242, 0.1943462897526502, 0.07597173144876325, 0.2296819787985866, 0.31448763250883394, 0.11307420494699648, 0.4098939929328622, 0.18197879858657243, 0.1236749116607774, 0.1678445229681979, 0.4770318021201414, 0.07597173144876325, 0.10424028268551237, 0.26148409893992935, 0.43109540636042404, 0.3303886925795053, 0.13427561837455831, 0.0441696113074205]}, {\"axis\": {\"matches\": true}, \"label\": \"Perceptions of corruption\", \"values\": [0.20529801324503308, 0.18101545253863133, 0.28256070640176595, 0.07947019867549668, 0.16114790286975714, 0.4039735099337748, 0.21412803532008828, 0.12362030905077262, 0.17218543046357615, 0.2913907284768212, 0.17439293598233993, 0.11920529801324502, 0.1898454746136865, 0.3311258278145695, 0.16335540838852095, 0.0662251655629139, 0.24282560706401762, 0.030905077262693155, 0.035320088300220744, 0.11037527593818984, 0.09271523178807946, 0.07505518763796909, 0.1258278145695364, 0.2803532008830022, 0.01324503311258278, 0.11037527593818984, 0.011037527593818984, 0.09050772626931566, 0.19205298013245028, 0.21412803532008828, 0.06181015452538631, 0.14128035320088297, 0.12362030905077262, 0.3554083885209713, 0.06181015452538631, 0.1324503311258278, 0.30905077262693154, 0.17218543046357615, 0.21192052980132448, 0.14128035320088297, 0.044150110375275935, 0.17660044150110374, 0.3576158940397351, 0.05960264900662251, 0.05518763796909492, 0.06843267108167769, 0.23620309050772623, 0.08609271523178808, 0.0, 0.33554083885209707, 0.17660044150110374, 0.04856512141280352, 0.22295805739514346, 0.01324503311258278, 0.23399558498896245, 0.05298013245033112, 0.3134657836644591, 0.07505518763796909, 0.08388520971302427, 0.07505518763796909, 0.050772626931567325, 0.06181015452538631, 0.2516556291390728, 0.16777041942604853, 0.401766004415011, 0.05960264900662251, 0.06181015452538631, 0.22075055187637968, 0.16114790286975714, 0.3686534216335541, 0.008830022075055186, 0.28697571743929357, 0.12141280353200881, 0.12141280353200881, 0.05960264900662251, 0.10375275938189844, 0.13686534216335539, 0.1456953642384106, 0.12362030905077262, 0.14128035320088297, 0.2759381898454746, 0.36203090507726265, 0.12141280353200881, 0.1964679911699779, 0.10375275938189844, 0.022075055187637967, 0.14790286975717437, 0.22075055187637968]}], \"hovertemplate\": \"<b>%{hovertext}</b><br><br>class=2<br>%{xaxis.title.text}=%{x}<br>%{yaxis.title.text}=%{y}<extra></extra>\", \"hovertext\": [\"Costa Rica\", \"Israel\", \"United States\", \"Czech Republic\", \"Mexico\", \"France\", \"Taiwan\", \"Chile\", \"Guatemala\", \"Saudi Arabia\", \"Spain\", \"Panama\", \"Brazil\", \"Uruguay\", \"El Salvador\", \"Italy\", \"Bahrain\", \"Slovakia\", \"Trinidad & Tobago\", \"Poland\", \"Lithuania\", \"Colombia\", \"Slovenia\", \"Nicaragua\", \"Kosovo\", \"Argentina\", \"Romania\", \"Cyprus\", \"Ecuador\", \"Kuwait\", \"Thailand\", \"Latvia\", \"South Korea\", \"Estonia\", \"Jamaica\", \"Mauritius\", \"Japan\", \"Honduras\", \"Kazakhstan\", \"Bolivia\", \"Hungary\", \"Paraguay\", \"Northern Cyprus\", \"Peru\", \"Portugal\", \"Russia\", \"Philippines\", \"Serbia\", \"Moldova\", \"Libya\", \"Montenegro\", \"Croatia\", \"Dominican Republic\", \"Bosnia and Herzegovina\", \"Turkey\", \"Malaysia\", \"Belarus\", \"Greece\", \"Mongolia\", \"North Macedonia\", \"Kyrgyzstan\", \"Turkmenistan\", \"Algeria\", \"Morocco\", \"Azerbaijan\", \"Lebanon\", \"Indonesia\", \"China\", \"Vietnam\", \"Bhutan\", \"Bulgaria\", \"Jordan\", \"Gabon\", \"South Africa\", \"Albania\", \"Venezuela\", \"Cambodia\", \"Palestinian Territories\", \"Namibia\", \"Armenia\", \"Iran\", \"Georgia\", \"Tunisia\", \"Iraq\", \"Sri Lanka\", \"Ukraine\", \"Egypt\", \"Botswana\"], \"legendgroup\": \"2\", \"marker\": {\"color\": \"#EF553B\", \"size\": 4, \"symbol\": \"circle\"}, \"name\": \"2\", \"showlegend\": true, \"showupperhalf\": false, \"type\": \"splom\"}, {\"diagonal\": {\"visible\": false}, \"dimensions\": [{\"axis\": {\"matches\": true}, \"label\": \"GDP per capita\", \"values\": [0.4020190023752969, 0.29275534441805223, 0.4133016627078384, 0.3260095011876485, 0.36282660332541566, 0.3378859857482185, 0.2648456057007126, 0.2333729216152019, 0.3996437054631829, 0.45368171021377673, 0.2672209026128266, 0.0, 0.0819477434679335, 0.1965558194774347, 0.22565320665083136, 0.1828978622327791, 0.30403800475059384, 0.338479809976247, 0.12114014251781471, 0.333729216152019, 0.055819477434679333, 0.22862232779097386, 0.15914489311163896, 0.4216152019002375, 0.20783847980997622, 0.1995249406175772, 0.4815914489311164, 0.19714964370546317, 0.34323040380047504, 0.1633016627078385, 0.4483372921615202, 0.04334916864608076, 0.16270783847981, 0.16270783847981, 0.2903800475059382, 0.02731591448931116, 0.21733966745843228, 0.19180522565320665, 0.3675771971496437, 0.11342042755344418, 0.1704275534441805, 0.21318289786223277, 0.2826603325415677, 0.20783847980997622, 0.015439429928741092, 0.18171021377672208]}, {\"axis\": {\"matches\": true}, \"label\": \"Social support\", \"values\": [0.5455665024630542, 0.6761083743842364, 0.6841133004926108, 0.5603448275862069, 0.5344827586206896, 0.49753694581280783, 0.7549261083743841, 0.2690886699507389, 0.49199507389162556, 0.6342364532019704, 0.6982758620689653, 0.4298029556650245, 0.4766009852216748, 0.6502463054187192, 0.5104679802955664, 0.5782019704433496, 0.605295566502463, 0.7185960591133004, 0.6071428571428571, 0.5714285714285714, 0.6927339901477831, 0.6804187192118225, 0.5178571428571428, 0.7272167487684729, 0.4716748768472906, 0.6360837438423644, 0.7075123152709358, 0.6582512315270935, 0.6514778325123152, 0.3522167487684728, 0.47105911330049255, 0.5677339901477833, 0.4661330049261083, 0.564039408866995, 0.7198275862068965, 0.2752463054187192, 0.6859605911330049, 0.42364532019704426, 0.23275862068965514, 0.3448275862068965, 0.7161330049261083, 0.4378078817733989, 0.5449507389162561, 0.31834975369458124, 0.0, 0.35406403940886694]}, {\"axis\": {\"matches\": true}, \"label\": \"Healthy life expectancy\", \"values\": [0.46888694127957936, 0.6292725679228747, 0.2147239263803681, 0.29009640666082387, 0.4259421560035057, 0.203330411919369, 0.5933391761612621, 0.3479404031551271, 0.44522348816827345, 0.4829097283085014, 0.5004382120946538, 0.2348816827344435, 0.32077125328659073, 0.33304119193689746, 0.32865907099035935, 0.37510955302366344, 0.50920245398773, 0.42857142857142855, 0.3418054338299737, 0.6336546888694128, 0.31288343558282206, 0.26993865030674846, 0.21209465381244522, 0.4864154250657319, 0.16827344434706398, 0.46625766871165647, 0.0, 0.38825591586327785, 0.3733567046450482, 0.3593339176161262, 0.5153374233128835, 0.38825591586327785, 0.44259421560035056, 0.4864154250657319, 0.147239263803681, 0.33304119193689746, 0.37949167397020156, 0.39351446099912357, 0.38562664329535495, 0.43382997370727433, 0.40578439964943036, 0.5381244522348817, 0.43733567046450483, 0.31638913234005256, 0.09202453987730061, 0.25854513584574934]}, {\"axis\": {\"matches\": true}, \"label\": \"Freedom to make life choices\", \"values\": [0.4960380348652932, 0.6164817749603804, 0.6751188589540412, 0.6038034865293186, 0.6038034865293186, 0.5578446909667195, 0.6957210776545166, 0.5530903328050712, 0.589540412044374, 0.8668779714738511, 0.46275752773375595, 0.8858954041204439, 0.5039619651347068, 0.4041204437400951, 0.526148969889065, 0.6053882725832013, 0.6830427892234548, 0.10459587955625992, 0.7828843106180665, 0.8351822503961965, 0.4263074484944533, 0.5182250396196514, 0.4896988906497623, 0.8320126782884311, 0.2757527733755943, 0.5451664025356576, 0.4960380348652932, 0.5641838351822503, 0.6830427892234548, 0.4643423137876386, 0.7892234548335975, 0.5863708399366085, 0.22503961965134706, 0.23454833597464342, 0.5689381933438986, 0.3486529318541997, 0.572107765451664, 0.04120443740095087, 0.020602218700475437, 0.7020602218700476, 0.2266244057052298, 0.8795562599049129, 0.6608557844690967, 0.0, 0.35657686212361334, 0.01584786053882726]}, {\"axis\": {\"matches\": true}, \"label\": \"Generosity\", \"values\": [0.3886925795053004, 0.4063604240282686, 0.3798586572438163, 0.3303886925795053, 0.43286219081272087, 0.27208480565371024, 0.5035335689045937, 0.30918727915194344, 0.1855123674911661, 0.4699646643109541, 0.27031802120141346, 0.4293286219081272, 0.33215547703180215, 0.3127208480565371, 0.3657243816254417, 0.47526501766784457, 0.657243816254417, 0.1872791519434629, 0.34805653710247353, 0.2932862190812721, 0.3745583038869258, 0.27031802120141346, 0.44522968197879864, 1.0, 0.34982332155477036, 0.36925795053003535, 0.13074204946996468, 0.44522968197879864, 0.43639575971731454, 0.3127208480565371, 0.353356890459364, 0.41166077738515905, 0.4858657243816255, 0.2985865724381626, 0.18904593639575973, 0.31095406360424027, 0.2667844522968198, 0.7402826855123675, 0.5848056537102474, 0.38515901060070673, 0.19081272084805656, 0.3833922261484099, 0.48763250883392234, 0.27915194346289757, 0.41519434628975266, 0.35689045936395764]}, {\"axis\": {\"matches\": true}, \"label\": \"Perceptions of corruption\", \"values\": [0.2163355408388521, 0.3178807947019867, 0.09050772626931566, 0.08167770419426047, 0.08830022075055187, 0.19867549668874168, 0.1964679911699779, 0.18101545253863133, 0.20529801324503308, 0.36203090507726265, 0.15894039735099336, 0.5960264900662251, 0.22516556291390724, 0.24944812362030902, 0.1898454746136865, 0.3686534216335541, 0.11699779249448122, 0.1942604856512141, 0.304635761589404, 0.3156732891832229, 0.11699779249448122, 0.11479028697571741, 0.09933774834437084, 0.379690949227373, 0.17218543046357615, 0.22075055187637968, 0.29801324503311255, 0.1324503311258278, 0.19205298013245028, 0.18763796909492272, 0.18763796909492272, 0.0728476821192053, 0.17218543046357615, 0.09050772626931566, 0.20529801324503308, 0.39735099337748336, 0.1964679911699779, 0.24282560706401762, 0.3112582781456953, 0.1964679911699779, 0.16997792494481234, 0.9072847682119204, 0.3245033112582781, 0.05518763796909492, 0.07726269315673288, 0.2008830022075055]}], \"hovertemplate\": \"<b>%{hovertext}</b><br><br>class=1<br>%{xaxis.title.text}=%{x}<br>%{yaxis.title.text}=%{y}<extra></extra>\", \"hovertext\": [\"Pakistan\", \"Tajikistan\", \"Nigeria\", \"Cameroon\", \"Ghana\", \"Ivory Coast\", \"Nepal\", \"Benin\", \"Congo (Brazzaville)\", \"Laos\", \"Senegal\", \"Somalia\", \"Niger\", \"Burkina Faso\", \"Guinea\", \"Gambia\", \"Kenya\", \"Mauritania\", \"Mozambique\", \"Bangladesh\", \"Congo (Kinshasa)\", \"Mali\", \"Sierra Leone\", \"Myanmar\", \"Chad\", \"Ethiopia\", \"Swaziland\", \"Uganda\", \"Zambia\", \"Togo\", \"India\", \"Liberia\", \"Comoros\", \"Madagascar\", \"Lesotho\", \"Burundi\", \"Zimbabwe\", \"Haiti\", \"Syria\", \"Malawi\", \"Yemen\", \"Rwanda\", \"Tanzania\", \"Afghanistan\", \"Central African Republic\", \"South Sudan\"], \"legendgroup\": \"1\", \"marker\": {\"color\": \"#00cc96\", \"size\": 4, \"symbol\": \"circle\"}, \"name\": \"1\", \"showlegend\": true, \"showupperhalf\": false, \"type\": \"splom\"}],                        {\"dragmode\": \"select\", \"font\": {\"size\": 7}, \"height\": 800, \"legend\": {\"title\": {\"text\": \"class\"}, \"tracegroupgap\": 0}, \"margin\": {\"t\": 60}, \"template\": {\"data\": {\"bar\": [{\"error_x\": {\"color\": \"#2a3f5f\"}, \"error_y\": {\"color\": \"#2a3f5f\"}, \"marker\": {\"line\": {\"color\": \"#E5ECF6\", \"width\": 0.5}}, \"type\": \"bar\"}], \"barpolar\": [{\"marker\": {\"line\": {\"color\": \"#E5ECF6\", \"width\": 0.5}}, \"type\": \"barpolar\"}], \"carpet\": [{\"aaxis\": {\"endlinecolor\": \"#2a3f5f\", \"gridcolor\": \"white\", \"linecolor\": \"white\", \"minorgridcolor\": \"white\", \"startlinecolor\": \"#2a3f5f\"}, \"baxis\": {\"endlinecolor\": \"#2a3f5f\", \"gridcolor\": \"white\", \"linecolor\": \"white\", \"minorgridcolor\": \"white\", \"startlinecolor\": \"#2a3f5f\"}, \"type\": \"carpet\"}], \"choropleth\": [{\"colorbar\": {\"outlinewidth\": 0, \"ticks\": \"\"}, \"type\": \"choropleth\"}], \"contour\": [{\"colorbar\": {\"outlinewidth\": 0, \"ticks\": \"\"}, \"colorscale\": [[0.0, \"#0d0887\"], [0.1111111111111111, \"#46039f\"], [0.2222222222222222, \"#7201a8\"], [0.3333333333333333, \"#9c179e\"], [0.4444444444444444, \"#bd3786\"], [0.5555555555555556, \"#d8576b\"], [0.6666666666666666, \"#ed7953\"], [0.7777777777777778, \"#fb9f3a\"], [0.8888888888888888, \"#fdca26\"], [1.0, \"#f0f921\"]], \"type\": \"contour\"}], \"contourcarpet\": [{\"colorbar\": {\"outlinewidth\": 0, \"ticks\": \"\"}, \"type\": \"contourcarpet\"}], \"heatmap\": [{\"colorbar\": {\"outlinewidth\": 0, \"ticks\": \"\"}, \"colorscale\": [[0.0, \"#0d0887\"], [0.1111111111111111, \"#46039f\"], [0.2222222222222222, \"#7201a8\"], [0.3333333333333333, \"#9c179e\"], [0.4444444444444444, \"#bd3786\"], [0.5555555555555556, \"#d8576b\"], [0.6666666666666666, \"#ed7953\"], [0.7777777777777778, \"#fb9f3a\"], [0.8888888888888888, \"#fdca26\"], [1.0, \"#f0f921\"]], \"type\": \"heatmap\"}], \"heatmapgl\": [{\"colorbar\": {\"outlinewidth\": 0, \"ticks\": \"\"}, \"colorscale\": [[0.0, \"#0d0887\"], [0.1111111111111111, \"#46039f\"], [0.2222222222222222, \"#7201a8\"], [0.3333333333333333, \"#9c179e\"], [0.4444444444444444, \"#bd3786\"], [0.5555555555555556, \"#d8576b\"], [0.6666666666666666, \"#ed7953\"], [0.7777777777777778, \"#fb9f3a\"], [0.8888888888888888, \"#fdca26\"], [1.0, \"#f0f921\"]], \"type\": \"heatmapgl\"}], \"histogram\": [{\"marker\": {\"colorbar\": {\"outlinewidth\": 0, \"ticks\": \"\"}}, \"type\": \"histogram\"}], \"histogram2d\": [{\"colorbar\": {\"outlinewidth\": 0, \"ticks\": \"\"}, \"colorscale\": [[0.0, \"#0d0887\"], [0.1111111111111111, \"#46039f\"], [0.2222222222222222, \"#7201a8\"], [0.3333333333333333, \"#9c179e\"], [0.4444444444444444, \"#bd3786\"], [0.5555555555555556, \"#d8576b\"], [0.6666666666666666, \"#ed7953\"], [0.7777777777777778, \"#fb9f3a\"], [0.8888888888888888, \"#fdca26\"], [1.0, \"#f0f921\"]], \"type\": \"histogram2d\"}], \"histogram2dcontour\": [{\"colorbar\": {\"outlinewidth\": 0, \"ticks\": \"\"}, \"colorscale\": [[0.0, \"#0d0887\"], [0.1111111111111111, \"#46039f\"], [0.2222222222222222, \"#7201a8\"], [0.3333333333333333, \"#9c179e\"], [0.4444444444444444, \"#bd3786\"], [0.5555555555555556, \"#d8576b\"], [0.6666666666666666, \"#ed7953\"], [0.7777777777777778, \"#fb9f3a\"], [0.8888888888888888, \"#fdca26\"], [1.0, \"#f0f921\"]], \"type\": \"histogram2dcontour\"}], \"mesh3d\": [{\"colorbar\": {\"outlinewidth\": 0, \"ticks\": \"\"}, \"type\": \"mesh3d\"}], \"parcoords\": [{\"line\": {\"colorbar\": {\"outlinewidth\": 0, \"ticks\": \"\"}}, \"type\": \"parcoords\"}], \"pie\": [{\"automargin\": true, \"type\": \"pie\"}], \"scatter\": [{\"marker\": {\"colorbar\": {\"outlinewidth\": 0, \"ticks\": \"\"}}, \"type\": \"scatter\"}], \"scatter3d\": [{\"line\": {\"colorbar\": {\"outlinewidth\": 0, \"ticks\": \"\"}}, \"marker\": {\"colorbar\": {\"outlinewidth\": 0, \"ticks\": \"\"}}, \"type\": \"scatter3d\"}], \"scattercarpet\": [{\"marker\": {\"colorbar\": {\"outlinewidth\": 0, \"ticks\": \"\"}}, \"type\": \"scattercarpet\"}], \"scattergeo\": [{\"marker\": {\"colorbar\": {\"outlinewidth\": 0, \"ticks\": \"\"}}, \"type\": \"scattergeo\"}], \"scattergl\": [{\"marker\": {\"colorbar\": {\"outlinewidth\": 0, \"ticks\": \"\"}}, \"type\": \"scattergl\"}], \"scattermapbox\": [{\"marker\": {\"colorbar\": {\"outlinewidth\": 0, \"ticks\": \"\"}}, \"type\": \"scattermapbox\"}], \"scatterpolar\": [{\"marker\": {\"colorbar\": {\"outlinewidth\": 0, \"ticks\": \"\"}}, \"type\": \"scatterpolar\"}], \"scatterpolargl\": [{\"marker\": {\"colorbar\": {\"outlinewidth\": 0, \"ticks\": \"\"}}, \"type\": \"scatterpolargl\"}], \"scatterternary\": [{\"marker\": {\"colorbar\": {\"outlinewidth\": 0, \"ticks\": \"\"}}, \"type\": \"scatterternary\"}], \"surface\": [{\"colorbar\": {\"outlinewidth\": 0, \"ticks\": \"\"}, \"colorscale\": [[0.0, \"#0d0887\"], [0.1111111111111111, \"#46039f\"], [0.2222222222222222, \"#7201a8\"], [0.3333333333333333, \"#9c179e\"], [0.4444444444444444, \"#bd3786\"], [0.5555555555555556, \"#d8576b\"], [0.6666666666666666, \"#ed7953\"], [0.7777777777777778, \"#fb9f3a\"], [0.8888888888888888, \"#fdca26\"], [1.0, \"#f0f921\"]], \"type\": \"surface\"}], \"table\": [{\"cells\": {\"fill\": {\"color\": \"#EBF0F8\"}, \"line\": {\"color\": \"white\"}}, \"header\": {\"fill\": {\"color\": \"#C8D4E3\"}, \"line\": {\"color\": \"white\"}}, \"type\": \"table\"}]}, \"layout\": {\"annotationdefaults\": {\"arrowcolor\": \"#2a3f5f\", \"arrowhead\": 0, \"arrowwidth\": 1}, \"autotypenumbers\": \"strict\", \"coloraxis\": {\"colorbar\": {\"outlinewidth\": 0, \"ticks\": \"\"}}, \"colorscale\": {\"diverging\": [[0, \"#8e0152\"], [0.1, \"#c51b7d\"], [0.2, \"#de77ae\"], [0.3, \"#f1b6da\"], [0.4, \"#fde0ef\"], [0.5, \"#f7f7f7\"], [0.6, \"#e6f5d0\"], [0.7, \"#b8e186\"], [0.8, \"#7fbc41\"], [0.9, \"#4d9221\"], [1, \"#276419\"]], \"sequential\": [[0.0, \"#0d0887\"], [0.1111111111111111, \"#46039f\"], [0.2222222222222222, \"#7201a8\"], [0.3333333333333333, \"#9c179e\"], [0.4444444444444444, \"#bd3786\"], [0.5555555555555556, \"#d8576b\"], [0.6666666666666666, \"#ed7953\"], [0.7777777777777778, \"#fb9f3a\"], [0.8888888888888888, \"#fdca26\"], [1.0, \"#f0f921\"]], \"sequentialminus\": [[0.0, \"#0d0887\"], [0.1111111111111111, \"#46039f\"], [0.2222222222222222, \"#7201a8\"], [0.3333333333333333, \"#9c179e\"], [0.4444444444444444, \"#bd3786\"], [0.5555555555555556, \"#d8576b\"], [0.6666666666666666, \"#ed7953\"], [0.7777777777777778, \"#fb9f3a\"], [0.8888888888888888, \"#fdca26\"], [1.0, \"#f0f921\"]]}, \"colorway\": [\"#636efa\", \"#EF553B\", \"#00cc96\", \"#ab63fa\", \"#FFA15A\", \"#19d3f3\", \"#FF6692\", \"#B6E880\", \"#FF97FF\", \"#FECB52\"], \"font\": {\"color\": \"#2a3f5f\"}, \"geo\": {\"bgcolor\": \"white\", \"lakecolor\": \"white\", \"landcolor\": \"#E5ECF6\", \"showlakes\": true, \"showland\": true, \"subunitcolor\": \"white\"}, \"hoverlabel\": {\"align\": \"left\"}, \"hovermode\": \"closest\", \"mapbox\": {\"style\": \"light\"}, \"paper_bgcolor\": \"white\", \"plot_bgcolor\": \"#E5ECF6\", \"polar\": {\"angularaxis\": {\"gridcolor\": \"white\", \"linecolor\": \"white\", \"ticks\": \"\"}, \"bgcolor\": \"#E5ECF6\", \"radialaxis\": {\"gridcolor\": \"white\", \"linecolor\": \"white\", \"ticks\": \"\"}}, \"scene\": {\"xaxis\": {\"backgroundcolor\": \"#E5ECF6\", \"gridcolor\": \"white\", \"gridwidth\": 2, \"linecolor\": \"white\", \"showbackground\": true, \"ticks\": \"\", \"zerolinecolor\": \"white\"}, \"yaxis\": {\"backgroundcolor\": \"#E5ECF6\", \"gridcolor\": \"white\", \"gridwidth\": 2, \"linecolor\": \"white\", \"showbackground\": true, \"ticks\": \"\", \"zerolinecolor\": \"white\"}, \"zaxis\": {\"backgroundcolor\": \"#E5ECF6\", \"gridcolor\": \"white\", \"gridwidth\": 2, \"linecolor\": \"white\", \"showbackground\": true, \"ticks\": \"\", \"zerolinecolor\": \"white\"}}, \"shapedefaults\": {\"line\": {\"color\": \"#2a3f5f\"}}, \"ternary\": {\"aaxis\": {\"gridcolor\": \"white\", \"linecolor\": \"white\", \"ticks\": \"\"}, \"baxis\": {\"gridcolor\": \"white\", \"linecolor\": \"white\", \"ticks\": \"\"}, \"bgcolor\": \"#E5ECF6\", \"caxis\": {\"gridcolor\": \"white\", \"linecolor\": \"white\", \"ticks\": \"\"}}, \"title\": {\"x\": 0.05}, \"xaxis\": {\"automargin\": true, \"gridcolor\": \"white\", \"linecolor\": \"white\", \"ticks\": \"\", \"title\": {\"standoff\": 15}, \"zerolinecolor\": \"white\", \"zerolinewidth\": 2}, \"yaxis\": {\"automargin\": true, \"gridcolor\": \"white\", \"linecolor\": \"white\", \"ticks\": \"\", \"title\": {\"standoff\": 15}, \"zerolinecolor\": \"white\", \"zerolinewidth\": 2}}}, \"title\": {\"text\": \"Happiness Index\"}, \"width\": 800},                        {\"responsive\": true}                    ).then(function(){\n",
       "                            \n",
       "var gd = document.getElementById('40a005fa-8bc0-4d92-8815-f49927f90f99');\n",
       "var x = new MutationObserver(function (mutations, observer) {{\n",
       "        var display = window.getComputedStyle(gd).display;\n",
       "        if (!display || display === 'none') {{\n",
       "            console.log([gd, 'removed!']);\n",
       "            Plotly.purge(gd);\n",
       "            observer.disconnect();\n",
       "        }}\n",
       "}});\n",
       "\n",
       "// Listen for the removal of the full notebook cells\n",
       "var notebookContainer = gd.closest('#notebook-container');\n",
       "if (notebookContainer) {{\n",
       "    x.observe(notebookContainer, {childList: true});\n",
       "}}\n",
       "\n",
       "// Listen for the clearing of the current output cell\n",
       "var outputEl = gd.closest('.output');\n",
       "if (outputEl) {{\n",
       "    x.observe(outputEl, {childList: true});\n",
       "}}\n",
       "\n",
       "                        })                };                });            </script>        </div>"
      ]
     },
     "metadata": {},
     "output_type": "display_data"
    }
   ],
   "source": [
    "dims = data.drop([\"Country or region\",\"class\"], axis=1).columns\n",
    "\n",
    "fig = px.scatter_matrix(data, dimensions=dims, color=data[\"class\"], hover_name=data[\"Country or region\"])\n",
    "fig.update_traces(marker=dict(size=4), diagonal_visible=False, showupperhalf=False)\n",
    "fig.update_layout(width=800, height=800, title=\"Happiness Index\", font_size=7)\n",
    "fig.show();"
   ]
  },
  {
   "cell_type": "markdown",
   "id": "sufficient-ecuador",
   "metadata": {},
   "source": [
    "### Parallel coordinate plot"
   ]
  },
  {
   "cell_type": "code",
   "execution_count": 27,
   "id": "wired-referral",
   "metadata": {},
   "outputs": [
    {
     "data": {
      "application/vnd.plotly.v1+json": {
       "config": {
        "plotlyServerURL": "https://plot.ly"
       },
       "data": [
        {
         "dimensions": [
          {
           "label": "GDP per capita",
           "values": [
            0.7957244655581948,
            0.8212589073634204,
            0.8836104513064132,
            0.8194774346793349,
            0.8289786223277908,
            0.8622327790973872,
            0.8236342042755345,
            0.7737529691211401,
            0.8105700712589073,
            0.8171021377672208,
            0.8147268408551069,
            0.6140142517814727,
            0.7577197149643705,
            0.9554631828978621,
            0.7915676959619952,
            0.8901425178147269,
            0.8153206650831354,
            0.8052256532066508,
            0.8509501187648456,
            0.7535629453681709,
            0.8925178147268408,
            0.7719714964370546,
            0.6353919239904988,
            0.7862232779097388,
            0.8123515439429929,
            0.6882422802850356,
            0.4750593824228029,
            0.8331353919239904,
            0.9999999999999999,
            0.7636579572446556,
            0.6823040380047506,
            0.5961995249406176,
            0.667458432304038,
            0.9334916864608076,
            0.47149643705463185,
            0.7684085510688836,
            0.8087885985748219,
            0.7399049881235155,
            0.7309976247030879,
            0.7161520190023752,
            0.44239904988123513,
            0.7351543942992874,
            0.584916864608076,
            0.7470308788598574,
            0.4121140142517814,
            0.5237529691211401,
            0.6484560570071259,
            0.6900237529691211,
            0.7499999999999999,
            0.5415676959619953,
            0.8907363420427553,
            0.6235154394299287,
            0.7048693586698337,
            0.7725653206650831,
            0.734560570071259,
            0.49346793349168644,
            0.665083135391924,
            0.7880047505938241,
            0.3812351543942993,
            0.6965558194774347,
            0.46080760095011875,
            0.7131828978622328,
            0.5077197149643705,
            0.7499999999999999,
            0.5700712589073634,
            0.7250593824228029,
            0.4020190023752969,
            0.7024940617577197,
            0.47921615201900236,
            0.5961995249406176,
            0.40676959619952496,
            0.6199524940617577,
            0.6241092636579572,
            0.29275534441805223,
            0.6858669833729216,
            0.8539192399049881,
            0.6027315914489311,
            0.5611638954869358,
            0.7024940617577197,
            0.7250593824228029,
            0.6336104513064132,
            0.7013064133016628,
            0.5629453681710214,
            0.583729216152019,
            0.4133016627078384,
            0.3271971496437055,
            0.6247030878859857,
            0.5950118764845606,
            0.4756532066508314,
            0.6193586698337291,
            0.586104513064133,
            0.5528503562945368,
            0.6110451306413301,
            0.4400237529691211,
            0.48277909738717334,
            0.3260095011876485,
            0.6484560570071259,
            0.36282660332541566,
            0.3378859857482185,
            0.2648456057007126,
            0.4970308788598575,
            0.2333729216152019,
            0.3996437054631829,
            0.6276722090261282,
            0.45368171021377673,
            0.5700712589073634,
            0.5623515439429928,
            0.5700712589073634,
            0.340855106888361,
            0.39014251781472686,
            0.2672209026128266,
            0,
            0.5219714964370546,
            0.0819477434679335,
            0.1965558194774347,
            0.504750593824228,
            0.653206650831354,
            0.22565320665083136,
            0.5261282660332541,
            0.1828978622327791,
            0.30403800475059384,
            0.338479809976247,
            0.12114014251781471,
            0.5469121140142518,
            0.333729216152019,
            0.6193586698337291,
            0.055819477434679333,
            0.22862232779097386,
            0.15914489311163896,
            0.5635391923990498,
            0.4216152019002375,
            0.20783847980997622,
            0.4869358669833729,
            0.1995249406175772,
            0.4815914489311164,
            0.19714964370546317,
            0.5421615201900237,
            0.34323040380047504,
            0.1633016627078385,
            0.4483372921615202,
            0.04334916864608076,
            0.16270783847981,
            0.16270783847981,
            0.2903800475059382,
            0.02731591448931116,
            0.21733966745843228,
            0.19180522565320665,
            0.6181710213776721,
            0.3675771971496437,
            0.11342042755344418,
            0.1704275534441805,
            0.21318289786223277,
            0.2826603325415677,
            0.20783847980997622,
            0.015439429928741092,
            0.18171021377672208
           ]
          },
          {
           "label": "Social support",
           "values": [
            0.9772167487684728,
            0.9685960591133004,
            0.9741379310344827,
            0.9999999999999999,
            0.9371921182266009,
            0.939655172413793,
            0.9156403940886699,
            0.9587438423645318,
            0.9267241379310343,
            0.9082512315270935,
            0.9532019704433496,
            0.8873152709359605,
            0.8959359605911329,
            0.9107142857142857,
            0.9470443349753693,
            0.9562807881773397,
            0.8953201970443349,
            0.9261083743842363,
            0.897167487684729,
            0.9156403940886699,
            0.8066502463054186,
            0.9359605911330048,
            0.8146551724137929,
            0.9064039408866994,
            0.880541871921182,
            0.8429802955665023,
            0.7814039408866993,
            0.8355911330049259,
            0.8084975369458126,
            0.9137931034482757,
            0.8879310344827585,
            0.8860837438423644,
            0.9020935960591132,
            0.9008620689655171,
            0.7647783251231526,
            0.9162561576354679,
            0.8423645320197044,
            0.9261083743842363,
            0.9094827586206896,
            0.8854679802955664,
            0.941502463054187,
            0.9328817733990146,
            0.8682266009852215,
            0.9378078817733988,
            0.815886699507389,
            0.7586206896551723,
            0.8817733990147781,
            0.7586206896551723,
            0.7530788177339901,
            0.8078817733990147,
            0.8121921182266009,
            0.8676108374384235,
            0.9020935960591132,
            0.7506157635467979,
            0.940886699507389,
            0.9100985221674875,
            0.8633004926108373,
            0.8737684729064038,
            0.7610837438423644,
            0.9285714285714285,
            0.7444581280788177,
            0.8682266009852215,
            0.9082512315270935,
            0.7709359605911329,
            0.7844827586206896,
            0.8811576354679802,
            0.5455665024630542,
            0.8940886699507388,
            0.7961822660098521,
            0.8516009852216747,
            0.8177339901477831,
            0.8023399014778324,
            0.8380541871921181,
            0.6761083743842364,
            0.7795566502463053,
            0.7863300492610836,
            0.8626847290640393,
            0.7463054187192117,
            0.8374384236453202,
            0.7210591133004925,
            0.9020935960591132,
            0.711822660098522,
            0.942733990147783,
            0.7967980295566501,
            0.6841133004926108,
            0.8854679802955664,
            0.9470443349753693,
            0.7142857142857142,
            0.48152709359605905,
            0.7062807881773399,
            0.753694581280788,
            0.7407635467980295,
            0.6927339901477831,
            0.8288177339901477,
            0.813423645320197,
            0.5603448275862069,
            0.9316502463054185,
            0.5344827586206896,
            0.49753694581280783,
            0.7549261083743841,
            0.7543103448275862,
            0.2690886699507389,
            0.49199507389162556,
            0.728448275862069,
            0.6342364532019704,
            0.8318965517241378,
            0.522167487684729,
            0.878694581280788,
            0.6908866995073891,
            0.7678571428571428,
            0.6982758620689653,
            0.4298029556650245,
            0.8084975369458126,
            0.4766009852216748,
            0.6502463054187192,
            0.649630541871921,
            0.5184729064039408,
            0.5104679802955664,
            0.41009852216748766,
            0.5782019704433496,
            0.605295566502463,
            0.7185960591133004,
            0.6071428571428571,
            0.6157635467980295,
            0.5714285714285714,
            0.6034482758620688,
            0.6927339901477831,
            0.6804187192118225,
            0.5178571428571428,
            0.7789408866995072,
            0.7272167487684729,
            0.4716748768472906,
            0.8559113300492609,
            0.6360837438423644,
            0.7075123152709358,
            0.6582512315270935,
            0.6397783251231526,
            0.6514778325123152,
            0.3522167487684728,
            0.47105911330049255,
            0.5677339901477833,
            0.4661330049261083,
            0.564039408866995,
            0.7198275862068965,
            0.2752463054187192,
            0.6859605911330049,
            0.42364532019704426,
            0.7050492610837438,
            0.23275862068965514,
            0.3448275862068965,
            0.7161330049261083,
            0.4378078817733989,
            0.5449507389162561,
            0.31834975369458124,
            0,
            0.35406403940886694
           ]
          },
          {
           "label": "Healthy life expectancy",
           "values": [
            0.8641542506573181,
            0.8729184925503944,
            0.9009640666082384,
            0.8992112182296231,
            0.8755477651183172,
            0.9219982471516214,
            0.8843120070113935,
            0.8992112182296231,
            0.9106047326906221,
            0.8904469763365469,
            0.9079754601226994,
            0.8439964943032428,
            0.9018404907975459,
            0.8869412795793163,
            0.8729184925503944,
            0.8755477651183172,
            0.8650306748466258,
            0.8641542506573181,
            0.7659947414548641,
            0.8063102541630149,
            0.7230499561787905,
            0.8755477651183172,
            0.754601226993865,
            0.9158632778264679,
            0.8010517090271692,
            0.8063102541630149,
            0.6538124452234881,
            0.6967572304995618,
            0.7633654688869412,
            0.9307624890446977,
            0.7975460122699387,
            0.7028921998247152,
            0.7808939526730938,
            1,
            0.6914986853637161,
            0.9106047326906221,
            0.7633654688869412,
            0.7721297107800176,
            0.6248904469763366,
            0.7747589833479404,
            0.6625766871165644,
            0.7169149868536371,
            0.7370727432077125,
            0.8352322524101665,
            0.7318141980718668,
            0.6643295354951797,
            0.7721297107800176,
            0.7230499561787905,
            0.9132340052585451,
            0.7607361963190185,
            0.708150744960561,
            0.7256792287467134,
            0.7116564417177914,
            0.9079754601226994,
            0.7659947414548641,
            0.7283085013146362,
            0.6993865030674847,
            0.953549517966696,
            0.7256792287467134,
            0.6389132340052586,
            0.6187554776511831,
            0.7256792287467134,
            0.6809815950920246,
            0.9132340052585451,
            0.7484662576687117,
            0.8755477651183172,
            0.46888694127957936,
            0.6362839614373357,
            0.5758106923751096,
            0.7484662576687117,
            0.6476774758983348,
            0.5898334794040316,
            0.7633654688869412,
            0.6292725679228747,
            0.8010517090271692,
            0.9833479404031552,
            0.6827344434706398,
            0.740578439964943,
            0.708150744960561,
            0.7256792287467134,
            0.6914986853637161,
            0.8755477651183172,
            0.5845749342681859,
            0.7344434706397897,
            0.2147239263803681,
            0.6336546888694128,
            0.5758106923751096,
            0.6879929886064856,
            0.6853637160385627,
            0.6739702015775636,
            0.7142857142857142,
            0.5784399649430324,
            0.782646801051709,
            0.7458369851007888,
            0.5293602103418055,
            0.29009640666082387,
            0.7142857142857142,
            0.4259421560035057,
            0.203330411919369,
            0.5933391761612621,
            0.7142857142857142,
            0.3479404031551271,
            0.44522348816827345,
            0.5004382120946538,
            0.4829097283085014,
            0.41104294478527603,
            0.7659947414548641,
            0.7055214723926381,
            0.558282208588957,
            0.588957055214724,
            0.5004382120946538,
            0.2348816827344435,
            0.41805433829973704,
            0.32077125328659073,
            0.33304119193689746,
            0.7142857142857142,
            0.6879929886064856,
            0.32865907099035935,
            0.6590709903593339,
            0.37510955302366344,
            0.50920245398773,
            0.42857142857142855,
            0.3418054338299737,
            0.7142857142857142,
            0.6336546888694128,
            0.5030674846625767,
            0.31288343558282206,
            0.26993865030674846,
            0.21209465381244522,
            0.7283085013146362,
            0.4864154250657319,
            0.16827344434706398,
            0.6476774758983348,
            0.46625766871165647,
            0,
            0.38825591586327785,
            0.5644171779141104,
            0.3733567046450482,
            0.3593339176161262,
            0.5153374233128835,
            0.38825591586327785,
            0.44259421560035056,
            0.4864154250657319,
            0.147239263803681,
            0.33304119193689746,
            0.37949167397020156,
            0.39351446099912357,
            0.4715162138475022,
            0.38562664329535495,
            0.43382997370727433,
            0.40578439964943036,
            0.5381244522348817,
            0.43733567046450483,
            0.31638913234005256,
            0.09202453987730061,
            0.25854513584574934
           ]
          },
          {
           "label": "Freedom to make life choices",
           "values": [
            0.9445324881141046,
            0.9381933438985737,
            0.9556259904912837,
            0.936608557844691,
            0.8827258320126784,
            0.9064976228209192,
            0.9096671949286845,
            0.9270998415213946,
            0.9255150554675119,
            0.8431061806656102,
            0.8827258320126784,
            0.8843106180665611,
            0.5879556259904913,
            0.8335974643423139,
            0.7131537242472267,
            0.8177496038034866,
            0.7844690966719493,
            0.7496038034865293,
            0.7194928684627576,
            0.7242472266244058,
            0.94770206022187,
            0.8938193343898573,
            0.6862123613312203,
            0.6909667194928685,
            0.5562599049128367,
            0.5657686212361331,
            0.8478605388272584,
            0.6957210776545166,
            0.8795562599049129,
            0.5736925515055468,
            0.8177496038034866,
            0.6180665610142632,
            0.8288431061806657,
            0.8811410459587956,
            0.6814580031695721,
            0.3660855784469097,
            0.8494453248811411,
            0.5293185419968305,
            0.7749603803486529,
            0.7654516640253566,
            1,
            0.4611727416798732,
            0.7448494453248811,
            0.8938193343898573,
            0.6893819334389858,
            0.7749603803486529,
            0.7464342313787639,
            0.7321711568938194,
            0.6434231378763867,
            0.7892234548335975,
            0.7812995245641838,
            0.8827258320126784,
            0.41838351822503966,
            0.2519809825673534,
            0.7844690966719493,
            0.7765451664025357,
            0.7892234548335975,
            0.705229793977813,
            0.803486529318542,
            0.6497622820919176,
            0.809825673534073,
            0.31537242472266247,
            0.8145800316957211,
            0.6608557844690967,
            0.7210776545166403,
            0.8050713153724247,
            0.4960380348652932,
            0.5293185419968305,
            0.8843106180665611,
            0.44690966719492864,
            0.38827258320126784,
            0.659270998415214,
            0.312202852614897,
            0.6164817749603804,
            0.46909667194928684,
            0.6973058637083994,
            0.7876386687797148,
            0.3359746434231379,
            0.3090332805071316,
            0.8050713153724247,
            0.37242472266244053,
            0.10618066561014264,
            0.5023771790808241,
            0.5467511885895404,
            0.6751188589540412,
            0.8050713153724247,
            0.624405705229794,
            0.1362916006339144,
            0.6624405705229793,
            0.5562599049128367,
            0.34231378763866877,
            0.7781299524564184,
            0.8256735340729002,
            0.8605388272583202,
            0.7242472266244058,
            0.6038034865293186,
            0.4928684627575277,
            0.6038034865293186,
            0.5578446909667195,
            0.6957210776545166,
            0.6069730586370841,
            0.5530903328050712,
            0.589540412044374,
            0.4675118858954041,
            0.8668779714738511,
            0.6164817749603804,
            0.6069730586370841,
            0.24405705229793978,
            0.96513470681458,
            0.35657686212361334,
            0.46275752773375595,
            0.8858954041204439,
            0.6354992076069731,
            0.5039619651347068,
            0.4041204437400951,
            0.4484944532488114,
            0.48335974643423135,
            0.526148969889065,
            0.5483359746434231,
            0.6053882725832013,
            0.6830427892234548,
            0.10459587955625992,
            0.7828843106180665,
            0.26465927099841524,
            0.8351822503961965,
            0.3819334389857369,
            0.4263074484944533,
            0.5182250396196514,
            0.4896988906497623,
            0.7448494453248811,
            0.8320126782884311,
            0.2757527733755943,
            0.2820919175911252,
            0.5451664025356576,
            0.4960380348652932,
            0.5641838351822503,
            0.3819334389857369,
            0.6830427892234548,
            0.4643423137876386,
            0.7892234548335975,
            0.5863708399366085,
            0.22503961965134706,
            0.23454833597464342,
            0.5689381933438986,
            0.3486529318541997,
            0.572107765451664,
            0.04120443740095087,
            0.7210776545166403,
            0.020602218700475437,
            0.7020602218700476,
            0.2266244057052298,
            0.8795562599049129,
            0.6608557844690967,
            0,
            0.35657686212361334,
            0.01584786053882726
           ]
          },
          {
           "label": "Generosity",
           "values": [
            0.27031802120141346,
            0.44522968197879864,
            0.47879858657243823,
            0.6254416961130742,
            0.568904593639576,
            0.46466431095406363,
            0.47173144876325096,
            0.5830388692579506,
            0.5035335689045937,
            0.43109540636042404,
            0.5865724381625442,
            0.254416961130742,
            0.46113074204947,
            0.3427561837455831,
            0.6148409893992933,
            0.5265017667844523,
            0.46113074204947,
            0.2826855123674912,
            0.4946996466431096,
            0.08127208480565372,
            0.46289752650176685,
            0.6625441696113075,
            0.13074204946996468,
            0.196113074204947,
            0.42756183745583043,
            0.3303886925795053,
            0.30918727915194344,
            0.1413427561837456,
            0.3886925795053004,
            0.27031802120141346,
            0.19257950530035337,
            0.17491166077738518,
            0.22438162544169613,
            0.47879858657243823,
            0.16431095406360424,
            0.27915194346289757,
            0.4505300353356891,
            0.21378091872791521,
            0.32685512367491165,
            0.20671378091872794,
            0.568904593639576,
            0.07597173144876325,
            0.17491166077738518,
            0.254416961130742,
            0.353356890459364,
            0.46289752650176685,
            0.11660777385159012,
            0.14664310954063606,
            0.3356890459363958,
            0.22261484098939932,
            0.2508833922261484,
            0.6342756183745584,
            0.13250883392226148,
            0.30918727915194344,
            0.18197879858657243,
            0.18904593639575973,
            0.3798586572438163,
            0.12190812720848059,
            0.4346289752650177,
            0.2579505300353357,
            0.24204946996466434,
            0.14310954063604242,
            0.3250883392226149,
            0.3374558303886926,
            0.14664310954063606,
            0.08303886925795054,
            0.3886925795053004,
            0.14487632508833923,
            0.20671378091872794,
            0.24204946996466434,
            0.3197879858657244,
            0.23498233215547706,
            0.2508833922261484,
            0.4063604240282686,
            0.21024734982332155,
            0.4558303886925795,
            0.19964664310954067,
            0.46466431095406363,
            0.14664310954063606,
            0.4593639575971732,
            0.16607773851590107,
            0,
            0.41519434628975266,
            0.32685512367491165,
            0.3798586572438163,
            0.5300353356890459,
            0.43109540636042404,
            0.12897526501766785,
            0.0636042402826855,
            0.0618374558303887,
            0.2932862190812721,
            0.8798586572438163,
            0.10247349823321555,
            0.2597173144876325,
            0.6537102473498233,
            0.3303886925795053,
            0.14310954063604242,
            0.43286219081272087,
            0.27208480565371024,
            0.5035335689045937,
            0.1943462897526502,
            0.30918727915194344,
            0.1855123674911661,
            0.07597173144876325,
            0.4699646643109541,
            0.2296819787985866,
            0.31448763250883394,
            0.11307420494699648,
            0.4098939929328622,
            0.18197879858657243,
            0.27031802120141346,
            0.4293286219081272,
            0.1236749116607774,
            0.33215547703180215,
            0.3127208480565371,
            0.1678445229681979,
            0.4770318021201414,
            0.3657243816254417,
            0.07597173144876325,
            0.47526501766784457,
            0.657243816254417,
            0.1872791519434629,
            0.34805653710247353,
            0.10424028268551237,
            0.2932862190812721,
            0.26148409893992935,
            0.3745583038869258,
            0.27031802120141346,
            0.44522968197879864,
            0.43109540636042404,
            1,
            0.34982332155477036,
            0.3303886925795053,
            0.36925795053003535,
            0.13074204946996468,
            0.44522968197879864,
            0.13427561837455831,
            0.43639575971731454,
            0.3127208480565371,
            0.353356890459364,
            0.41166077738515905,
            0.4858657243816255,
            0.2985865724381626,
            0.18904593639575973,
            0.31095406360424027,
            0.2667844522968198,
            0.7402826855123675,
            0.0441696113074205,
            0.5848056537102474,
            0.38515901060070673,
            0.19081272084805656,
            0.3833922261484099,
            0.48763250883392234,
            0.27915194346289757,
            0.41519434628975266,
            0.35689045936395764
           ]
          },
          {
           "label": "Perceptions of corruption",
           "values": [
            0.8675496688741721,
            0.9050772626931566,
            0.7527593818984547,
            0.260485651214128,
            0.6578366445916114,
            0.7571743929359823,
            0.8233995584988961,
            0.8388520971302428,
            0.6799116997792494,
            0.49889624724061804,
            0.6401766004415009,
            0.20529801324503308,
            0.18101545253863133,
            0.6975717439293597,
            0.6136865342163356,
            0.684326710816777,
            0.5849889624724062,
            0.4635761589403973,
            0.28256070640176595,
            0.07947019867549668,
            0.401766004415011,
            0.33333333333333326,
            0.16114790286975714,
            0.4039735099337748,
            0.21412803532008828,
            0.12362030905077262,
            0.17218543046357615,
            0.2913907284768212,
            0.3686534216335541,
            0.17439293598233993,
            0.11920529801324502,
            0.1898454746136865,
            0.3311258278145695,
            0.9999999999999999,
            0.16335540838852095,
            0.0662251655629139,
            0.24282560706401762,
            0.030905077262693155,
            0.035320088300220744,
            0.11037527593818984,
            0.5298013245033112,
            0.09271523178807946,
            0.07505518763796909,
            0.1258278145695364,
            0.2803532008830022,
            0.01324503311258278,
            0.11037527593818984,
            0.011037527593818984,
            0.09050772626931566,
            0.19205298013245028,
            0.21412803532008828,
            0.06181015452538631,
            0.14128035320088297,
            0.12362030905077262,
            0.3554083885209713,
            0.06181015452538631,
            0.1324503311258278,
            0.30905077262693154,
            0.17218543046357615,
            0.21192052980132448,
            0.14128035320088297,
            0.044150110375275935,
            0.17660044150110374,
            0.3576158940397351,
            0.05960264900662251,
            0.05518763796909492,
            0.2163355408388521,
            0.06843267108167769,
            0.23620309050772623,
            0.08609271523178808,
            0,
            0.33554083885209707,
            0.17660044150110374,
            0.3178807947019867,
            0.04856512141280352,
            0.6335540838852096,
            0.22295805739514346,
            0.01324503311258278,
            0.23399558498896245,
            0.05298013245033112,
            0.3134657836644591,
            0.07505518763796909,
            0.08388520971302427,
            0.07505518763796909,
            0.09050772626931566,
            0.050772626931567325,
            0.06181015452538631,
            0.2516556291390728,
            0.16777041942604853,
            0.401766004415011,
            0.05960264900662251,
            0.06181015452538631,
            0.22075055187637968,
            0.16114790286975714,
            0.3686534216335541,
            0.08167770419426047,
            0.008830022075055186,
            0.08830022075055187,
            0.19867549668874168,
            0.1964679911699779,
            0.28697571743929357,
            0.18101545253863133,
            0.20529801324503308,
            0.12141280353200881,
            0.36203090507726265,
            0.12141280353200881,
            0.05960264900662251,
            0.10375275938189844,
            0.13686534216335539,
            0.1456953642384106,
            0.15894039735099336,
            0.5960264900662251,
            0.12362030905077262,
            0.22516556291390724,
            0.24944812362030902,
            0.14128035320088297,
            0.2759381898454746,
            0.1898454746136865,
            0.36203090507726265,
            0.3686534216335541,
            0.11699779249448122,
            0.1942604856512141,
            0.304635761589404,
            0.12141280353200881,
            0.3156732891832229,
            0.1964679911699779,
            0.11699779249448122,
            0.11479028697571741,
            0.09933774834437084,
            0.10375275938189844,
            0.379690949227373,
            0.17218543046357615,
            0.022075055187637967,
            0.22075055187637968,
            0.29801324503311255,
            0.1324503311258278,
            0.14790286975717437,
            0.19205298013245028,
            0.18763796909492272,
            0.18763796909492272,
            0.0728476821192053,
            0.17218543046357615,
            0.09050772626931566,
            0.20529801324503308,
            0.39735099337748336,
            0.1964679911699779,
            0.24282560706401762,
            0.22075055187637968,
            0.3112582781456953,
            0.1964679911699779,
            0.16997792494481234,
            0.9072847682119204,
            0.3245033112582781,
            0.05518763796909492,
            0.07726269315673288,
            0.2008830022075055
           ]
          },
          {
           "label": "color",
           "values": [
            0,
            0,
            0,
            0,
            0,
            0,
            0,
            0,
            0,
            0,
            0,
            2,
            2,
            0,
            0,
            0,
            0,
            0,
            2,
            2,
            0,
            0,
            2,
            2,
            2,
            2,
            2,
            2,
            0,
            2,
            2,
            2,
            2,
            0,
            2,
            2,
            2,
            2,
            2,
            2,
            0,
            2,
            2,
            2,
            2,
            2,
            2,
            2,
            2,
            2,
            2,
            2,
            2,
            2,
            2,
            2,
            2,
            2,
            2,
            2,
            2,
            2,
            2,
            2,
            2,
            2,
            1,
            2,
            2,
            2,
            2,
            2,
            2,
            1,
            2,
            0,
            2,
            2,
            2,
            2,
            2,
            2,
            2,
            2,
            1,
            2,
            2,
            2,
            2,
            2,
            2,
            2,
            2,
            2,
            2,
            1,
            2,
            1,
            1,
            1,
            2,
            1,
            1,
            2,
            1,
            2,
            2,
            2,
            2,
            2,
            1,
            1,
            2,
            1,
            1,
            2,
            2,
            1,
            2,
            1,
            1,
            1,
            1,
            2,
            1,
            2,
            1,
            1,
            1,
            2,
            1,
            1,
            2,
            1,
            1,
            1,
            2,
            1,
            1,
            1,
            1,
            1,
            1,
            1,
            1,
            1,
            1,
            2,
            1,
            1,
            1,
            1,
            1,
            1,
            1,
            1
           ]
          }
         ],
         "domain": {
          "x": [
           0,
           1
          ],
          "y": [
           0,
           1
          ]
         },
         "line": {
          "color": [
           0,
           0,
           0,
           0,
           0,
           0,
           0,
           0,
           0,
           0,
           0,
           2,
           2,
           0,
           0,
           0,
           0,
           0,
           2,
           2,
           0,
           0,
           2,
           2,
           2,
           2,
           2,
           2,
           0,
           2,
           2,
           2,
           2,
           0,
           2,
           2,
           2,
           2,
           2,
           2,
           0,
           2,
           2,
           2,
           2,
           2,
           2,
           2,
           2,
           2,
           2,
           2,
           2,
           2,
           2,
           2,
           2,
           2,
           2,
           2,
           2,
           2,
           2,
           2,
           2,
           2,
           1,
           2,
           2,
           2,
           2,
           2,
           2,
           1,
           2,
           0,
           2,
           2,
           2,
           2,
           2,
           2,
           2,
           2,
           1,
           2,
           2,
           2,
           2,
           2,
           2,
           2,
           2,
           2,
           2,
           1,
           2,
           1,
           1,
           1,
           2,
           1,
           1,
           2,
           1,
           2,
           2,
           2,
           2,
           2,
           1,
           1,
           2,
           1,
           1,
           2,
           2,
           1,
           2,
           1,
           1,
           1,
           1,
           2,
           1,
           2,
           1,
           1,
           1,
           2,
           1,
           1,
           2,
           1,
           1,
           1,
           2,
           1,
           1,
           1,
           1,
           1,
           1,
           1,
           1,
           1,
           1,
           2,
           1,
           1,
           1,
           1,
           1,
           1,
           1,
           1
          ],
          "coloraxis": "coloraxis"
         },
         "name": "",
         "type": "parcoords"
        }
       ],
       "layout": {
        "coloraxis": {
         "colorbar": {
          "title": {
           "text": "color"
          }
         },
         "colorscale": [
          [
           0,
           "rgb(0, 147, 146)"
          ],
          [
           0.16666666666666666,
           "rgb(114, 170, 161)"
          ],
          [
           0.3333333333333333,
           "rgb(177, 199, 179)"
          ],
          [
           0.5,
           "rgb(241, 234, 200)"
          ],
          [
           0.6666666666666666,
           "rgb(229, 185, 173)"
          ],
          [
           0.8333333333333334,
           "rgb(217, 137, 148)"
          ],
          [
           1,
           "rgb(208, 88, 126)"
          ]
         ]
        },
        "legend": {
         "tracegroupgap": 0
        },
        "margin": {
         "t": 60
        },
        "template": {
         "data": {
          "bar": [
           {
            "error_x": {
             "color": "#2a3f5f"
            },
            "error_y": {
             "color": "#2a3f5f"
            },
            "marker": {
             "line": {
              "color": "#E5ECF6",
              "width": 0.5
             }
            },
            "type": "bar"
           }
          ],
          "barpolar": [
           {
            "marker": {
             "line": {
              "color": "#E5ECF6",
              "width": 0.5
             }
            },
            "type": "barpolar"
           }
          ],
          "carpet": [
           {
            "aaxis": {
             "endlinecolor": "#2a3f5f",
             "gridcolor": "white",
             "linecolor": "white",
             "minorgridcolor": "white",
             "startlinecolor": "#2a3f5f"
            },
            "baxis": {
             "endlinecolor": "#2a3f5f",
             "gridcolor": "white",
             "linecolor": "white",
             "minorgridcolor": "white",
             "startlinecolor": "#2a3f5f"
            },
            "type": "carpet"
           }
          ],
          "choropleth": [
           {
            "colorbar": {
             "outlinewidth": 0,
             "ticks": ""
            },
            "type": "choropleth"
           }
          ],
          "contour": [
           {
            "colorbar": {
             "outlinewidth": 0,
             "ticks": ""
            },
            "colorscale": [
             [
              0,
              "#0d0887"
             ],
             [
              0.1111111111111111,
              "#46039f"
             ],
             [
              0.2222222222222222,
              "#7201a8"
             ],
             [
              0.3333333333333333,
              "#9c179e"
             ],
             [
              0.4444444444444444,
              "#bd3786"
             ],
             [
              0.5555555555555556,
              "#d8576b"
             ],
             [
              0.6666666666666666,
              "#ed7953"
             ],
             [
              0.7777777777777778,
              "#fb9f3a"
             ],
             [
              0.8888888888888888,
              "#fdca26"
             ],
             [
              1,
              "#f0f921"
             ]
            ],
            "type": "contour"
           }
          ],
          "contourcarpet": [
           {
            "colorbar": {
             "outlinewidth": 0,
             "ticks": ""
            },
            "type": "contourcarpet"
           }
          ],
          "heatmap": [
           {
            "colorbar": {
             "outlinewidth": 0,
             "ticks": ""
            },
            "colorscale": [
             [
              0,
              "#0d0887"
             ],
             [
              0.1111111111111111,
              "#46039f"
             ],
             [
              0.2222222222222222,
              "#7201a8"
             ],
             [
              0.3333333333333333,
              "#9c179e"
             ],
             [
              0.4444444444444444,
              "#bd3786"
             ],
             [
              0.5555555555555556,
              "#d8576b"
             ],
             [
              0.6666666666666666,
              "#ed7953"
             ],
             [
              0.7777777777777778,
              "#fb9f3a"
             ],
             [
              0.8888888888888888,
              "#fdca26"
             ],
             [
              1,
              "#f0f921"
             ]
            ],
            "type": "heatmap"
           }
          ],
          "heatmapgl": [
           {
            "colorbar": {
             "outlinewidth": 0,
             "ticks": ""
            },
            "colorscale": [
             [
              0,
              "#0d0887"
             ],
             [
              0.1111111111111111,
              "#46039f"
             ],
             [
              0.2222222222222222,
              "#7201a8"
             ],
             [
              0.3333333333333333,
              "#9c179e"
             ],
             [
              0.4444444444444444,
              "#bd3786"
             ],
             [
              0.5555555555555556,
              "#d8576b"
             ],
             [
              0.6666666666666666,
              "#ed7953"
             ],
             [
              0.7777777777777778,
              "#fb9f3a"
             ],
             [
              0.8888888888888888,
              "#fdca26"
             ],
             [
              1,
              "#f0f921"
             ]
            ],
            "type": "heatmapgl"
           }
          ],
          "histogram": [
           {
            "marker": {
             "colorbar": {
              "outlinewidth": 0,
              "ticks": ""
             }
            },
            "type": "histogram"
           }
          ],
          "histogram2d": [
           {
            "colorbar": {
             "outlinewidth": 0,
             "ticks": ""
            },
            "colorscale": [
             [
              0,
              "#0d0887"
             ],
             [
              0.1111111111111111,
              "#46039f"
             ],
             [
              0.2222222222222222,
              "#7201a8"
             ],
             [
              0.3333333333333333,
              "#9c179e"
             ],
             [
              0.4444444444444444,
              "#bd3786"
             ],
             [
              0.5555555555555556,
              "#d8576b"
             ],
             [
              0.6666666666666666,
              "#ed7953"
             ],
             [
              0.7777777777777778,
              "#fb9f3a"
             ],
             [
              0.8888888888888888,
              "#fdca26"
             ],
             [
              1,
              "#f0f921"
             ]
            ],
            "type": "histogram2d"
           }
          ],
          "histogram2dcontour": [
           {
            "colorbar": {
             "outlinewidth": 0,
             "ticks": ""
            },
            "colorscale": [
             [
              0,
              "#0d0887"
             ],
             [
              0.1111111111111111,
              "#46039f"
             ],
             [
              0.2222222222222222,
              "#7201a8"
             ],
             [
              0.3333333333333333,
              "#9c179e"
             ],
             [
              0.4444444444444444,
              "#bd3786"
             ],
             [
              0.5555555555555556,
              "#d8576b"
             ],
             [
              0.6666666666666666,
              "#ed7953"
             ],
             [
              0.7777777777777778,
              "#fb9f3a"
             ],
             [
              0.8888888888888888,
              "#fdca26"
             ],
             [
              1,
              "#f0f921"
             ]
            ],
            "type": "histogram2dcontour"
           }
          ],
          "mesh3d": [
           {
            "colorbar": {
             "outlinewidth": 0,
             "ticks": ""
            },
            "type": "mesh3d"
           }
          ],
          "parcoords": [
           {
            "line": {
             "colorbar": {
              "outlinewidth": 0,
              "ticks": ""
             }
            },
            "type": "parcoords"
           }
          ],
          "pie": [
           {
            "automargin": true,
            "type": "pie"
           }
          ],
          "scatter": [
           {
            "marker": {
             "colorbar": {
              "outlinewidth": 0,
              "ticks": ""
             }
            },
            "type": "scatter"
           }
          ],
          "scatter3d": [
           {
            "line": {
             "colorbar": {
              "outlinewidth": 0,
              "ticks": ""
             }
            },
            "marker": {
             "colorbar": {
              "outlinewidth": 0,
              "ticks": ""
             }
            },
            "type": "scatter3d"
           }
          ],
          "scattercarpet": [
           {
            "marker": {
             "colorbar": {
              "outlinewidth": 0,
              "ticks": ""
             }
            },
            "type": "scattercarpet"
           }
          ],
          "scattergeo": [
           {
            "marker": {
             "colorbar": {
              "outlinewidth": 0,
              "ticks": ""
             }
            },
            "type": "scattergeo"
           }
          ],
          "scattergl": [
           {
            "marker": {
             "colorbar": {
              "outlinewidth": 0,
              "ticks": ""
             }
            },
            "type": "scattergl"
           }
          ],
          "scattermapbox": [
           {
            "marker": {
             "colorbar": {
              "outlinewidth": 0,
              "ticks": ""
             }
            },
            "type": "scattermapbox"
           }
          ],
          "scatterpolar": [
           {
            "marker": {
             "colorbar": {
              "outlinewidth": 0,
              "ticks": ""
             }
            },
            "type": "scatterpolar"
           }
          ],
          "scatterpolargl": [
           {
            "marker": {
             "colorbar": {
              "outlinewidth": 0,
              "ticks": ""
             }
            },
            "type": "scatterpolargl"
           }
          ],
          "scatterternary": [
           {
            "marker": {
             "colorbar": {
              "outlinewidth": 0,
              "ticks": ""
             }
            },
            "type": "scatterternary"
           }
          ],
          "surface": [
           {
            "colorbar": {
             "outlinewidth": 0,
             "ticks": ""
            },
            "colorscale": [
             [
              0,
              "#0d0887"
             ],
             [
              0.1111111111111111,
              "#46039f"
             ],
             [
              0.2222222222222222,
              "#7201a8"
             ],
             [
              0.3333333333333333,
              "#9c179e"
             ],
             [
              0.4444444444444444,
              "#bd3786"
             ],
             [
              0.5555555555555556,
              "#d8576b"
             ],
             [
              0.6666666666666666,
              "#ed7953"
             ],
             [
              0.7777777777777778,
              "#fb9f3a"
             ],
             [
              0.8888888888888888,
              "#fdca26"
             ],
             [
              1,
              "#f0f921"
             ]
            ],
            "type": "surface"
           }
          ],
          "table": [
           {
            "cells": {
             "fill": {
              "color": "#EBF0F8"
             },
             "line": {
              "color": "white"
             }
            },
            "header": {
             "fill": {
              "color": "#C8D4E3"
             },
             "line": {
              "color": "white"
             }
            },
            "type": "table"
           }
          ]
         },
         "layout": {
          "annotationdefaults": {
           "arrowcolor": "#2a3f5f",
           "arrowhead": 0,
           "arrowwidth": 1
          },
          "autotypenumbers": "strict",
          "coloraxis": {
           "colorbar": {
            "outlinewidth": 0,
            "ticks": ""
           }
          },
          "colorscale": {
           "diverging": [
            [
             0,
             "#8e0152"
            ],
            [
             0.1,
             "#c51b7d"
            ],
            [
             0.2,
             "#de77ae"
            ],
            [
             0.3,
             "#f1b6da"
            ],
            [
             0.4,
             "#fde0ef"
            ],
            [
             0.5,
             "#f7f7f7"
            ],
            [
             0.6,
             "#e6f5d0"
            ],
            [
             0.7,
             "#b8e186"
            ],
            [
             0.8,
             "#7fbc41"
            ],
            [
             0.9,
             "#4d9221"
            ],
            [
             1,
             "#276419"
            ]
           ],
           "sequential": [
            [
             0,
             "#0d0887"
            ],
            [
             0.1111111111111111,
             "#46039f"
            ],
            [
             0.2222222222222222,
             "#7201a8"
            ],
            [
             0.3333333333333333,
             "#9c179e"
            ],
            [
             0.4444444444444444,
             "#bd3786"
            ],
            [
             0.5555555555555556,
             "#d8576b"
            ],
            [
             0.6666666666666666,
             "#ed7953"
            ],
            [
             0.7777777777777778,
             "#fb9f3a"
            ],
            [
             0.8888888888888888,
             "#fdca26"
            ],
            [
             1,
             "#f0f921"
            ]
           ],
           "sequentialminus": [
            [
             0,
             "#0d0887"
            ],
            [
             0.1111111111111111,
             "#46039f"
            ],
            [
             0.2222222222222222,
             "#7201a8"
            ],
            [
             0.3333333333333333,
             "#9c179e"
            ],
            [
             0.4444444444444444,
             "#bd3786"
            ],
            [
             0.5555555555555556,
             "#d8576b"
            ],
            [
             0.6666666666666666,
             "#ed7953"
            ],
            [
             0.7777777777777778,
             "#fb9f3a"
            ],
            [
             0.8888888888888888,
             "#fdca26"
            ],
            [
             1,
             "#f0f921"
            ]
           ]
          },
          "colorway": [
           "#636efa",
           "#EF553B",
           "#00cc96",
           "#ab63fa",
           "#FFA15A",
           "#19d3f3",
           "#FF6692",
           "#B6E880",
           "#FF97FF",
           "#FECB52"
          ],
          "font": {
           "color": "#2a3f5f"
          },
          "geo": {
           "bgcolor": "white",
           "lakecolor": "white",
           "landcolor": "#E5ECF6",
           "showlakes": true,
           "showland": true,
           "subunitcolor": "white"
          },
          "hoverlabel": {
           "align": "left"
          },
          "hovermode": "closest",
          "mapbox": {
           "style": "light"
          },
          "paper_bgcolor": "white",
          "plot_bgcolor": "#E5ECF6",
          "polar": {
           "angularaxis": {
            "gridcolor": "white",
            "linecolor": "white",
            "ticks": ""
           },
           "bgcolor": "#E5ECF6",
           "radialaxis": {
            "gridcolor": "white",
            "linecolor": "white",
            "ticks": ""
           }
          },
          "scene": {
           "xaxis": {
            "backgroundcolor": "#E5ECF6",
            "gridcolor": "white",
            "gridwidth": 2,
            "linecolor": "white",
            "showbackground": true,
            "ticks": "",
            "zerolinecolor": "white"
           },
           "yaxis": {
            "backgroundcolor": "#E5ECF6",
            "gridcolor": "white",
            "gridwidth": 2,
            "linecolor": "white",
            "showbackground": true,
            "ticks": "",
            "zerolinecolor": "white"
           },
           "zaxis": {
            "backgroundcolor": "#E5ECF6",
            "gridcolor": "white",
            "gridwidth": 2,
            "linecolor": "white",
            "showbackground": true,
            "ticks": "",
            "zerolinecolor": "white"
           }
          },
          "shapedefaults": {
           "line": {
            "color": "#2a3f5f"
           }
          },
          "ternary": {
           "aaxis": {
            "gridcolor": "white",
            "linecolor": "white",
            "ticks": ""
           },
           "baxis": {
            "gridcolor": "white",
            "linecolor": "white",
            "ticks": ""
           },
           "bgcolor": "#E5ECF6",
           "caxis": {
            "gridcolor": "white",
            "linecolor": "white",
            "ticks": ""
           }
          },
          "title": {
           "x": 0.05
          },
          "xaxis": {
           "automargin": true,
           "gridcolor": "white",
           "linecolor": "white",
           "ticks": "",
           "title": {
            "standoff": 15
           },
           "zerolinecolor": "white",
           "zerolinewidth": 2
          },
          "yaxis": {
           "automargin": true,
           "gridcolor": "white",
           "linecolor": "white",
           "ticks": "",
           "title": {
            "standoff": 15
           },
           "zerolinecolor": "white",
           "zerolinewidth": 2
          }
         }
        }
       }
      },
      "text/html": [
       "<div>                            <div id=\"59ab0509-b70f-4252-8e2e-57750d271098\" class=\"plotly-graph-div\" style=\"height:525px; width:100%;\"></div>            <script type=\"text/javascript\">                require([\"plotly\"], function(Plotly) {                    window.PLOTLYENV=window.PLOTLYENV || {};                                    if (document.getElementById(\"59ab0509-b70f-4252-8e2e-57750d271098\")) {                    Plotly.newPlot(                        \"59ab0509-b70f-4252-8e2e-57750d271098\",                        [{\"dimensions\": [{\"label\": \"GDP per capita\", \"values\": [0.7957244655581948, 0.8212589073634204, 0.8836104513064132, 0.8194774346793349, 0.8289786223277908, 0.8622327790973872, 0.8236342042755345, 0.7737529691211401, 0.8105700712589073, 0.8171021377672208, 0.8147268408551069, 0.6140142517814727, 0.7577197149643705, 0.9554631828978621, 0.7915676959619952, 0.8901425178147269, 0.8153206650831354, 0.8052256532066508, 0.8509501187648456, 0.7535629453681709, 0.8925178147268408, 0.7719714964370546, 0.6353919239904988, 0.7862232779097388, 0.8123515439429929, 0.6882422802850356, 0.4750593824228029, 0.8331353919239904, 0.9999999999999999, 0.7636579572446556, 0.6823040380047506, 0.5961995249406176, 0.667458432304038, 0.9334916864608076, 0.47149643705463185, 0.7684085510688836, 0.8087885985748219, 0.7399049881235155, 0.7309976247030879, 0.7161520190023752, 0.44239904988123513, 0.7351543942992874, 0.584916864608076, 0.7470308788598574, 0.4121140142517814, 0.5237529691211401, 0.6484560570071259, 0.6900237529691211, 0.7499999999999999, 0.5415676959619953, 0.8907363420427553, 0.6235154394299287, 0.7048693586698337, 0.7725653206650831, 0.734560570071259, 0.49346793349168644, 0.665083135391924, 0.7880047505938241, 0.3812351543942993, 0.6965558194774347, 0.46080760095011875, 0.7131828978622328, 0.5077197149643705, 0.7499999999999999, 0.5700712589073634, 0.7250593824228029, 0.4020190023752969, 0.7024940617577197, 0.47921615201900236, 0.5961995249406176, 0.40676959619952496, 0.6199524940617577, 0.6241092636579572, 0.29275534441805223, 0.6858669833729216, 0.8539192399049881, 0.6027315914489311, 0.5611638954869358, 0.7024940617577197, 0.7250593824228029, 0.6336104513064132, 0.7013064133016628, 0.5629453681710214, 0.583729216152019, 0.4133016627078384, 0.3271971496437055, 0.6247030878859857, 0.5950118764845606, 0.4756532066508314, 0.6193586698337291, 0.586104513064133, 0.5528503562945368, 0.6110451306413301, 0.4400237529691211, 0.48277909738717334, 0.3260095011876485, 0.6484560570071259, 0.36282660332541566, 0.3378859857482185, 0.2648456057007126, 0.4970308788598575, 0.2333729216152019, 0.3996437054631829, 0.6276722090261282, 0.45368171021377673, 0.5700712589073634, 0.5623515439429928, 0.5700712589073634, 0.340855106888361, 0.39014251781472686, 0.2672209026128266, 0.0, 0.5219714964370546, 0.0819477434679335, 0.1965558194774347, 0.504750593824228, 0.653206650831354, 0.22565320665083136, 0.5261282660332541, 0.1828978622327791, 0.30403800475059384, 0.338479809976247, 0.12114014251781471, 0.5469121140142518, 0.333729216152019, 0.6193586698337291, 0.055819477434679333, 0.22862232779097386, 0.15914489311163896, 0.5635391923990498, 0.4216152019002375, 0.20783847980997622, 0.4869358669833729, 0.1995249406175772, 0.4815914489311164, 0.19714964370546317, 0.5421615201900237, 0.34323040380047504, 0.1633016627078385, 0.4483372921615202, 0.04334916864608076, 0.16270783847981, 0.16270783847981, 0.2903800475059382, 0.02731591448931116, 0.21733966745843228, 0.19180522565320665, 0.6181710213776721, 0.3675771971496437, 0.11342042755344418, 0.1704275534441805, 0.21318289786223277, 0.2826603325415677, 0.20783847980997622, 0.015439429928741092, 0.18171021377672208]}, {\"label\": \"Social support\", \"values\": [0.9772167487684728, 0.9685960591133004, 0.9741379310344827, 0.9999999999999999, 0.9371921182266009, 0.939655172413793, 0.9156403940886699, 0.9587438423645318, 0.9267241379310343, 0.9082512315270935, 0.9532019704433496, 0.8873152709359605, 0.8959359605911329, 0.9107142857142857, 0.9470443349753693, 0.9562807881773397, 0.8953201970443349, 0.9261083743842363, 0.897167487684729, 0.9156403940886699, 0.8066502463054186, 0.9359605911330048, 0.8146551724137929, 0.9064039408866994, 0.880541871921182, 0.8429802955665023, 0.7814039408866993, 0.8355911330049259, 0.8084975369458126, 0.9137931034482757, 0.8879310344827585, 0.8860837438423644, 0.9020935960591132, 0.9008620689655171, 0.7647783251231526, 0.9162561576354679, 0.8423645320197044, 0.9261083743842363, 0.9094827586206896, 0.8854679802955664, 0.941502463054187, 0.9328817733990146, 0.8682266009852215, 0.9378078817733988, 0.815886699507389, 0.7586206896551723, 0.8817733990147781, 0.7586206896551723, 0.7530788177339901, 0.8078817733990147, 0.8121921182266009, 0.8676108374384235, 0.9020935960591132, 0.7506157635467979, 0.940886699507389, 0.9100985221674875, 0.8633004926108373, 0.8737684729064038, 0.7610837438423644, 0.9285714285714285, 0.7444581280788177, 0.8682266009852215, 0.9082512315270935, 0.7709359605911329, 0.7844827586206896, 0.8811576354679802, 0.5455665024630542, 0.8940886699507388, 0.7961822660098521, 0.8516009852216747, 0.8177339901477831, 0.8023399014778324, 0.8380541871921181, 0.6761083743842364, 0.7795566502463053, 0.7863300492610836, 0.8626847290640393, 0.7463054187192117, 0.8374384236453202, 0.7210591133004925, 0.9020935960591132, 0.711822660098522, 0.942733990147783, 0.7967980295566501, 0.6841133004926108, 0.8854679802955664, 0.9470443349753693, 0.7142857142857142, 0.48152709359605905, 0.7062807881773399, 0.753694581280788, 0.7407635467980295, 0.6927339901477831, 0.8288177339901477, 0.813423645320197, 0.5603448275862069, 0.9316502463054185, 0.5344827586206896, 0.49753694581280783, 0.7549261083743841, 0.7543103448275862, 0.2690886699507389, 0.49199507389162556, 0.728448275862069, 0.6342364532019704, 0.8318965517241378, 0.522167487684729, 0.878694581280788, 0.6908866995073891, 0.7678571428571428, 0.6982758620689653, 0.4298029556650245, 0.8084975369458126, 0.4766009852216748, 0.6502463054187192, 0.649630541871921, 0.5184729064039408, 0.5104679802955664, 0.41009852216748766, 0.5782019704433496, 0.605295566502463, 0.7185960591133004, 0.6071428571428571, 0.6157635467980295, 0.5714285714285714, 0.6034482758620688, 0.6927339901477831, 0.6804187192118225, 0.5178571428571428, 0.7789408866995072, 0.7272167487684729, 0.4716748768472906, 0.8559113300492609, 0.6360837438423644, 0.7075123152709358, 0.6582512315270935, 0.6397783251231526, 0.6514778325123152, 0.3522167487684728, 0.47105911330049255, 0.5677339901477833, 0.4661330049261083, 0.564039408866995, 0.7198275862068965, 0.2752463054187192, 0.6859605911330049, 0.42364532019704426, 0.7050492610837438, 0.23275862068965514, 0.3448275862068965, 0.7161330049261083, 0.4378078817733989, 0.5449507389162561, 0.31834975369458124, 0.0, 0.35406403940886694]}, {\"label\": \"Healthy life expectancy\", \"values\": [0.8641542506573181, 0.8729184925503944, 0.9009640666082384, 0.8992112182296231, 0.8755477651183172, 0.9219982471516214, 0.8843120070113935, 0.8992112182296231, 0.9106047326906221, 0.8904469763365469, 0.9079754601226994, 0.8439964943032428, 0.9018404907975459, 0.8869412795793163, 0.8729184925503944, 0.8755477651183172, 0.8650306748466258, 0.8641542506573181, 0.7659947414548641, 0.8063102541630149, 0.7230499561787905, 0.8755477651183172, 0.754601226993865, 0.9158632778264679, 0.8010517090271692, 0.8063102541630149, 0.6538124452234881, 0.6967572304995618, 0.7633654688869412, 0.9307624890446977, 0.7975460122699387, 0.7028921998247152, 0.7808939526730938, 1.0, 0.6914986853637161, 0.9106047326906221, 0.7633654688869412, 0.7721297107800176, 0.6248904469763366, 0.7747589833479404, 0.6625766871165644, 0.7169149868536371, 0.7370727432077125, 0.8352322524101665, 0.7318141980718668, 0.6643295354951797, 0.7721297107800176, 0.7230499561787905, 0.9132340052585451, 0.7607361963190185, 0.708150744960561, 0.7256792287467134, 0.7116564417177914, 0.9079754601226994, 0.7659947414548641, 0.7283085013146362, 0.6993865030674847, 0.953549517966696, 0.7256792287467134, 0.6389132340052586, 0.6187554776511831, 0.7256792287467134, 0.6809815950920246, 0.9132340052585451, 0.7484662576687117, 0.8755477651183172, 0.46888694127957936, 0.6362839614373357, 0.5758106923751096, 0.7484662576687117, 0.6476774758983348, 0.5898334794040316, 0.7633654688869412, 0.6292725679228747, 0.8010517090271692, 0.9833479404031552, 0.6827344434706398, 0.740578439964943, 0.708150744960561, 0.7256792287467134, 0.6914986853637161, 0.8755477651183172, 0.5845749342681859, 0.7344434706397897, 0.2147239263803681, 0.6336546888694128, 0.5758106923751096, 0.6879929886064856, 0.6853637160385627, 0.6739702015775636, 0.7142857142857142, 0.5784399649430324, 0.782646801051709, 0.7458369851007888, 0.5293602103418055, 0.29009640666082387, 0.7142857142857142, 0.4259421560035057, 0.203330411919369, 0.5933391761612621, 0.7142857142857142, 0.3479404031551271, 0.44522348816827345, 0.5004382120946538, 0.4829097283085014, 0.41104294478527603, 0.7659947414548641, 0.7055214723926381, 0.558282208588957, 0.588957055214724, 0.5004382120946538, 0.2348816827344435, 0.41805433829973704, 0.32077125328659073, 0.33304119193689746, 0.7142857142857142, 0.6879929886064856, 0.32865907099035935, 0.6590709903593339, 0.37510955302366344, 0.50920245398773, 0.42857142857142855, 0.3418054338299737, 0.7142857142857142, 0.6336546888694128, 0.5030674846625767, 0.31288343558282206, 0.26993865030674846, 0.21209465381244522, 0.7283085013146362, 0.4864154250657319, 0.16827344434706398, 0.6476774758983348, 0.46625766871165647, 0.0, 0.38825591586327785, 0.5644171779141104, 0.3733567046450482, 0.3593339176161262, 0.5153374233128835, 0.38825591586327785, 0.44259421560035056, 0.4864154250657319, 0.147239263803681, 0.33304119193689746, 0.37949167397020156, 0.39351446099912357, 0.4715162138475022, 0.38562664329535495, 0.43382997370727433, 0.40578439964943036, 0.5381244522348817, 0.43733567046450483, 0.31638913234005256, 0.09202453987730061, 0.25854513584574934]}, {\"label\": \"Freedom to make life choices\", \"values\": [0.9445324881141046, 0.9381933438985737, 0.9556259904912837, 0.936608557844691, 0.8827258320126784, 0.9064976228209192, 0.9096671949286845, 0.9270998415213946, 0.9255150554675119, 0.8431061806656102, 0.8827258320126784, 0.8843106180665611, 0.5879556259904913, 0.8335974643423139, 0.7131537242472267, 0.8177496038034866, 0.7844690966719493, 0.7496038034865293, 0.7194928684627576, 0.7242472266244058, 0.94770206022187, 0.8938193343898573, 0.6862123613312203, 0.6909667194928685, 0.5562599049128367, 0.5657686212361331, 0.8478605388272584, 0.6957210776545166, 0.8795562599049129, 0.5736925515055468, 0.8177496038034866, 0.6180665610142632, 0.8288431061806657, 0.8811410459587956, 0.6814580031695721, 0.3660855784469097, 0.8494453248811411, 0.5293185419968305, 0.7749603803486529, 0.7654516640253566, 1.0, 0.4611727416798732, 0.7448494453248811, 0.8938193343898573, 0.6893819334389858, 0.7749603803486529, 0.7464342313787639, 0.7321711568938194, 0.6434231378763867, 0.7892234548335975, 0.7812995245641838, 0.8827258320126784, 0.41838351822503966, 0.2519809825673534, 0.7844690966719493, 0.7765451664025357, 0.7892234548335975, 0.705229793977813, 0.803486529318542, 0.6497622820919176, 0.809825673534073, 0.31537242472266247, 0.8145800316957211, 0.6608557844690967, 0.7210776545166403, 0.8050713153724247, 0.4960380348652932, 0.5293185419968305, 0.8843106180665611, 0.44690966719492864, 0.38827258320126784, 0.659270998415214, 0.312202852614897, 0.6164817749603804, 0.46909667194928684, 0.6973058637083994, 0.7876386687797148, 0.3359746434231379, 0.3090332805071316, 0.8050713153724247, 0.37242472266244053, 0.10618066561014264, 0.5023771790808241, 0.5467511885895404, 0.6751188589540412, 0.8050713153724247, 0.624405705229794, 0.1362916006339144, 0.6624405705229793, 0.5562599049128367, 0.34231378763866877, 0.7781299524564184, 0.8256735340729002, 0.8605388272583202, 0.7242472266244058, 0.6038034865293186, 0.4928684627575277, 0.6038034865293186, 0.5578446909667195, 0.6957210776545166, 0.6069730586370841, 0.5530903328050712, 0.589540412044374, 0.4675118858954041, 0.8668779714738511, 0.6164817749603804, 0.6069730586370841, 0.24405705229793978, 0.96513470681458, 0.35657686212361334, 0.46275752773375595, 0.8858954041204439, 0.6354992076069731, 0.5039619651347068, 0.4041204437400951, 0.4484944532488114, 0.48335974643423135, 0.526148969889065, 0.5483359746434231, 0.6053882725832013, 0.6830427892234548, 0.10459587955625992, 0.7828843106180665, 0.26465927099841524, 0.8351822503961965, 0.3819334389857369, 0.4263074484944533, 0.5182250396196514, 0.4896988906497623, 0.7448494453248811, 0.8320126782884311, 0.2757527733755943, 0.2820919175911252, 0.5451664025356576, 0.4960380348652932, 0.5641838351822503, 0.3819334389857369, 0.6830427892234548, 0.4643423137876386, 0.7892234548335975, 0.5863708399366085, 0.22503961965134706, 0.23454833597464342, 0.5689381933438986, 0.3486529318541997, 0.572107765451664, 0.04120443740095087, 0.7210776545166403, 0.020602218700475437, 0.7020602218700476, 0.2266244057052298, 0.8795562599049129, 0.6608557844690967, 0.0, 0.35657686212361334, 0.01584786053882726]}, {\"label\": \"Generosity\", \"values\": [0.27031802120141346, 0.44522968197879864, 0.47879858657243823, 0.6254416961130742, 0.568904593639576, 0.46466431095406363, 0.47173144876325096, 0.5830388692579506, 0.5035335689045937, 0.43109540636042404, 0.5865724381625442, 0.254416961130742, 0.46113074204947, 0.3427561837455831, 0.6148409893992933, 0.5265017667844523, 0.46113074204947, 0.2826855123674912, 0.4946996466431096, 0.08127208480565372, 0.46289752650176685, 0.6625441696113075, 0.13074204946996468, 0.196113074204947, 0.42756183745583043, 0.3303886925795053, 0.30918727915194344, 0.1413427561837456, 0.3886925795053004, 0.27031802120141346, 0.19257950530035337, 0.17491166077738518, 0.22438162544169613, 0.47879858657243823, 0.16431095406360424, 0.27915194346289757, 0.4505300353356891, 0.21378091872791521, 0.32685512367491165, 0.20671378091872794, 0.568904593639576, 0.07597173144876325, 0.17491166077738518, 0.254416961130742, 0.353356890459364, 0.46289752650176685, 0.11660777385159012, 0.14664310954063606, 0.3356890459363958, 0.22261484098939932, 0.2508833922261484, 0.6342756183745584, 0.13250883392226148, 0.30918727915194344, 0.18197879858657243, 0.18904593639575973, 0.3798586572438163, 0.12190812720848059, 0.4346289752650177, 0.2579505300353357, 0.24204946996466434, 0.14310954063604242, 0.3250883392226149, 0.3374558303886926, 0.14664310954063606, 0.08303886925795054, 0.3886925795053004, 0.14487632508833923, 0.20671378091872794, 0.24204946996466434, 0.3197879858657244, 0.23498233215547706, 0.2508833922261484, 0.4063604240282686, 0.21024734982332155, 0.4558303886925795, 0.19964664310954067, 0.46466431095406363, 0.14664310954063606, 0.4593639575971732, 0.16607773851590107, 0.0, 0.41519434628975266, 0.32685512367491165, 0.3798586572438163, 0.5300353356890459, 0.43109540636042404, 0.12897526501766785, 0.0636042402826855, 0.0618374558303887, 0.2932862190812721, 0.8798586572438163, 0.10247349823321555, 0.2597173144876325, 0.6537102473498233, 0.3303886925795053, 0.14310954063604242, 0.43286219081272087, 0.27208480565371024, 0.5035335689045937, 0.1943462897526502, 0.30918727915194344, 0.1855123674911661, 0.07597173144876325, 0.4699646643109541, 0.2296819787985866, 0.31448763250883394, 0.11307420494699648, 0.4098939929328622, 0.18197879858657243, 0.27031802120141346, 0.4293286219081272, 0.1236749116607774, 0.33215547703180215, 0.3127208480565371, 0.1678445229681979, 0.4770318021201414, 0.3657243816254417, 0.07597173144876325, 0.47526501766784457, 0.657243816254417, 0.1872791519434629, 0.34805653710247353, 0.10424028268551237, 0.2932862190812721, 0.26148409893992935, 0.3745583038869258, 0.27031802120141346, 0.44522968197879864, 0.43109540636042404, 1.0, 0.34982332155477036, 0.3303886925795053, 0.36925795053003535, 0.13074204946996468, 0.44522968197879864, 0.13427561837455831, 0.43639575971731454, 0.3127208480565371, 0.353356890459364, 0.41166077738515905, 0.4858657243816255, 0.2985865724381626, 0.18904593639575973, 0.31095406360424027, 0.2667844522968198, 0.7402826855123675, 0.0441696113074205, 0.5848056537102474, 0.38515901060070673, 0.19081272084805656, 0.3833922261484099, 0.48763250883392234, 0.27915194346289757, 0.41519434628975266, 0.35689045936395764]}, {\"label\": \"Perceptions of corruption\", \"values\": [0.8675496688741721, 0.9050772626931566, 0.7527593818984547, 0.260485651214128, 0.6578366445916114, 0.7571743929359823, 0.8233995584988961, 0.8388520971302428, 0.6799116997792494, 0.49889624724061804, 0.6401766004415009, 0.20529801324503308, 0.18101545253863133, 0.6975717439293597, 0.6136865342163356, 0.684326710816777, 0.5849889624724062, 0.4635761589403973, 0.28256070640176595, 0.07947019867549668, 0.401766004415011, 0.33333333333333326, 0.16114790286975714, 0.4039735099337748, 0.21412803532008828, 0.12362030905077262, 0.17218543046357615, 0.2913907284768212, 0.3686534216335541, 0.17439293598233993, 0.11920529801324502, 0.1898454746136865, 0.3311258278145695, 0.9999999999999999, 0.16335540838852095, 0.0662251655629139, 0.24282560706401762, 0.030905077262693155, 0.035320088300220744, 0.11037527593818984, 0.5298013245033112, 0.09271523178807946, 0.07505518763796909, 0.1258278145695364, 0.2803532008830022, 0.01324503311258278, 0.11037527593818984, 0.011037527593818984, 0.09050772626931566, 0.19205298013245028, 0.21412803532008828, 0.06181015452538631, 0.14128035320088297, 0.12362030905077262, 0.3554083885209713, 0.06181015452538631, 0.1324503311258278, 0.30905077262693154, 0.17218543046357615, 0.21192052980132448, 0.14128035320088297, 0.044150110375275935, 0.17660044150110374, 0.3576158940397351, 0.05960264900662251, 0.05518763796909492, 0.2163355408388521, 0.06843267108167769, 0.23620309050772623, 0.08609271523178808, 0.0, 0.33554083885209707, 0.17660044150110374, 0.3178807947019867, 0.04856512141280352, 0.6335540838852096, 0.22295805739514346, 0.01324503311258278, 0.23399558498896245, 0.05298013245033112, 0.3134657836644591, 0.07505518763796909, 0.08388520971302427, 0.07505518763796909, 0.09050772626931566, 0.050772626931567325, 0.06181015452538631, 0.2516556291390728, 0.16777041942604853, 0.401766004415011, 0.05960264900662251, 0.06181015452538631, 0.22075055187637968, 0.16114790286975714, 0.3686534216335541, 0.08167770419426047, 0.008830022075055186, 0.08830022075055187, 0.19867549668874168, 0.1964679911699779, 0.28697571743929357, 0.18101545253863133, 0.20529801324503308, 0.12141280353200881, 0.36203090507726265, 0.12141280353200881, 0.05960264900662251, 0.10375275938189844, 0.13686534216335539, 0.1456953642384106, 0.15894039735099336, 0.5960264900662251, 0.12362030905077262, 0.22516556291390724, 0.24944812362030902, 0.14128035320088297, 0.2759381898454746, 0.1898454746136865, 0.36203090507726265, 0.3686534216335541, 0.11699779249448122, 0.1942604856512141, 0.304635761589404, 0.12141280353200881, 0.3156732891832229, 0.1964679911699779, 0.11699779249448122, 0.11479028697571741, 0.09933774834437084, 0.10375275938189844, 0.379690949227373, 0.17218543046357615, 0.022075055187637967, 0.22075055187637968, 0.29801324503311255, 0.1324503311258278, 0.14790286975717437, 0.19205298013245028, 0.18763796909492272, 0.18763796909492272, 0.0728476821192053, 0.17218543046357615, 0.09050772626931566, 0.20529801324503308, 0.39735099337748336, 0.1964679911699779, 0.24282560706401762, 0.22075055187637968, 0.3112582781456953, 0.1964679911699779, 0.16997792494481234, 0.9072847682119204, 0.3245033112582781, 0.05518763796909492, 0.07726269315673288, 0.2008830022075055]}, {\"label\": \"color\", \"values\": [0, 0, 0, 0, 0, 0, 0, 0, 0, 0, 0, 2, 2, 0, 0, 0, 0, 0, 2, 2, 0, 0, 2, 2, 2, 2, 2, 2, 0, 2, 2, 2, 2, 0, 2, 2, 2, 2, 2, 2, 0, 2, 2, 2, 2, 2, 2, 2, 2, 2, 2, 2, 2, 2, 2, 2, 2, 2, 2, 2, 2, 2, 2, 2, 2, 2, 1, 2, 2, 2, 2, 2, 2, 1, 2, 0, 2, 2, 2, 2, 2, 2, 2, 2, 1, 2, 2, 2, 2, 2, 2, 2, 2, 2, 2, 1, 2, 1, 1, 1, 2, 1, 1, 2, 1, 2, 2, 2, 2, 2, 1, 1, 2, 1, 1, 2, 2, 1, 2, 1, 1, 1, 1, 2, 1, 2, 1, 1, 1, 2, 1, 1, 2, 1, 1, 1, 2, 1, 1, 1, 1, 1, 1, 1, 1, 1, 1, 2, 1, 1, 1, 1, 1, 1, 1, 1]}], \"domain\": {\"x\": [0.0, 1.0], \"y\": [0.0, 1.0]}, \"line\": {\"color\": [0, 0, 0, 0, 0, 0, 0, 0, 0, 0, 0, 2, 2, 0, 0, 0, 0, 0, 2, 2, 0, 0, 2, 2, 2, 2, 2, 2, 0, 2, 2, 2, 2, 0, 2, 2, 2, 2, 2, 2, 0, 2, 2, 2, 2, 2, 2, 2, 2, 2, 2, 2, 2, 2, 2, 2, 2, 2, 2, 2, 2, 2, 2, 2, 2, 2, 1, 2, 2, 2, 2, 2, 2, 1, 2, 0, 2, 2, 2, 2, 2, 2, 2, 2, 1, 2, 2, 2, 2, 2, 2, 2, 2, 2, 2, 1, 2, 1, 1, 1, 2, 1, 1, 2, 1, 2, 2, 2, 2, 2, 1, 1, 2, 1, 1, 2, 2, 1, 2, 1, 1, 1, 1, 2, 1, 2, 1, 1, 1, 2, 1, 1, 2, 1, 1, 1, 2, 1, 1, 1, 1, 1, 1, 1, 1, 1, 1, 2, 1, 1, 1, 1, 1, 1, 1, 1], \"coloraxis\": \"coloraxis\"}, \"name\": \"\", \"type\": \"parcoords\"}],                        {\"coloraxis\": {\"colorbar\": {\"title\": {\"text\": \"color\"}}, \"colorscale\": [[0.0, \"rgb(0, 147, 146)\"], [0.16666666666666666, \"rgb(114, 170, 161)\"], [0.3333333333333333, \"rgb(177, 199, 179)\"], [0.5, \"rgb(241, 234, 200)\"], [0.6666666666666666, \"rgb(229, 185, 173)\"], [0.8333333333333334, \"rgb(217, 137, 148)\"], [1.0, \"rgb(208, 88, 126)\"]]}, \"legend\": {\"tracegroupgap\": 0}, \"margin\": {\"t\": 60}, \"template\": {\"data\": {\"bar\": [{\"error_x\": {\"color\": \"#2a3f5f\"}, \"error_y\": {\"color\": \"#2a3f5f\"}, \"marker\": {\"line\": {\"color\": \"#E5ECF6\", \"width\": 0.5}}, \"type\": \"bar\"}], \"barpolar\": [{\"marker\": {\"line\": {\"color\": \"#E5ECF6\", \"width\": 0.5}}, \"type\": \"barpolar\"}], \"carpet\": [{\"aaxis\": {\"endlinecolor\": \"#2a3f5f\", \"gridcolor\": \"white\", \"linecolor\": \"white\", \"minorgridcolor\": \"white\", \"startlinecolor\": \"#2a3f5f\"}, \"baxis\": {\"endlinecolor\": \"#2a3f5f\", \"gridcolor\": \"white\", \"linecolor\": \"white\", \"minorgridcolor\": \"white\", \"startlinecolor\": \"#2a3f5f\"}, \"type\": \"carpet\"}], \"choropleth\": [{\"colorbar\": {\"outlinewidth\": 0, \"ticks\": \"\"}, \"type\": \"choropleth\"}], \"contour\": [{\"colorbar\": {\"outlinewidth\": 0, \"ticks\": \"\"}, \"colorscale\": [[0.0, \"#0d0887\"], [0.1111111111111111, \"#46039f\"], [0.2222222222222222, \"#7201a8\"], [0.3333333333333333, \"#9c179e\"], [0.4444444444444444, \"#bd3786\"], [0.5555555555555556, \"#d8576b\"], [0.6666666666666666, \"#ed7953\"], [0.7777777777777778, \"#fb9f3a\"], [0.8888888888888888, \"#fdca26\"], [1.0, \"#f0f921\"]], \"type\": \"contour\"}], \"contourcarpet\": [{\"colorbar\": {\"outlinewidth\": 0, \"ticks\": \"\"}, \"type\": \"contourcarpet\"}], \"heatmap\": [{\"colorbar\": {\"outlinewidth\": 0, \"ticks\": \"\"}, \"colorscale\": [[0.0, \"#0d0887\"], [0.1111111111111111, \"#46039f\"], [0.2222222222222222, \"#7201a8\"], [0.3333333333333333, \"#9c179e\"], [0.4444444444444444, \"#bd3786\"], [0.5555555555555556, \"#d8576b\"], [0.6666666666666666, \"#ed7953\"], [0.7777777777777778, \"#fb9f3a\"], [0.8888888888888888, \"#fdca26\"], [1.0, \"#f0f921\"]], \"type\": \"heatmap\"}], \"heatmapgl\": [{\"colorbar\": {\"outlinewidth\": 0, \"ticks\": \"\"}, \"colorscale\": [[0.0, \"#0d0887\"], [0.1111111111111111, \"#46039f\"], [0.2222222222222222, \"#7201a8\"], [0.3333333333333333, \"#9c179e\"], [0.4444444444444444, \"#bd3786\"], [0.5555555555555556, \"#d8576b\"], [0.6666666666666666, \"#ed7953\"], [0.7777777777777778, \"#fb9f3a\"], [0.8888888888888888, \"#fdca26\"], [1.0, \"#f0f921\"]], \"type\": \"heatmapgl\"}], \"histogram\": [{\"marker\": {\"colorbar\": {\"outlinewidth\": 0, \"ticks\": \"\"}}, \"type\": \"histogram\"}], \"histogram2d\": [{\"colorbar\": {\"outlinewidth\": 0, \"ticks\": \"\"}, \"colorscale\": [[0.0, \"#0d0887\"], [0.1111111111111111, \"#46039f\"], [0.2222222222222222, \"#7201a8\"], [0.3333333333333333, \"#9c179e\"], [0.4444444444444444, \"#bd3786\"], [0.5555555555555556, \"#d8576b\"], [0.6666666666666666, \"#ed7953\"], [0.7777777777777778, \"#fb9f3a\"], [0.8888888888888888, \"#fdca26\"], [1.0, \"#f0f921\"]], \"type\": \"histogram2d\"}], \"histogram2dcontour\": [{\"colorbar\": {\"outlinewidth\": 0, \"ticks\": \"\"}, \"colorscale\": [[0.0, \"#0d0887\"], [0.1111111111111111, \"#46039f\"], [0.2222222222222222, \"#7201a8\"], [0.3333333333333333, \"#9c179e\"], [0.4444444444444444, \"#bd3786\"], [0.5555555555555556, \"#d8576b\"], [0.6666666666666666, \"#ed7953\"], [0.7777777777777778, \"#fb9f3a\"], [0.8888888888888888, \"#fdca26\"], [1.0, \"#f0f921\"]], \"type\": \"histogram2dcontour\"}], \"mesh3d\": [{\"colorbar\": {\"outlinewidth\": 0, \"ticks\": \"\"}, \"type\": \"mesh3d\"}], \"parcoords\": [{\"line\": {\"colorbar\": {\"outlinewidth\": 0, \"ticks\": \"\"}}, \"type\": \"parcoords\"}], \"pie\": [{\"automargin\": true, \"type\": \"pie\"}], \"scatter\": [{\"marker\": {\"colorbar\": {\"outlinewidth\": 0, \"ticks\": \"\"}}, \"type\": \"scatter\"}], \"scatter3d\": [{\"line\": {\"colorbar\": {\"outlinewidth\": 0, \"ticks\": \"\"}}, \"marker\": {\"colorbar\": {\"outlinewidth\": 0, \"ticks\": \"\"}}, \"type\": \"scatter3d\"}], \"scattercarpet\": [{\"marker\": {\"colorbar\": {\"outlinewidth\": 0, \"ticks\": \"\"}}, \"type\": \"scattercarpet\"}], \"scattergeo\": [{\"marker\": {\"colorbar\": {\"outlinewidth\": 0, \"ticks\": \"\"}}, \"type\": \"scattergeo\"}], \"scattergl\": [{\"marker\": {\"colorbar\": {\"outlinewidth\": 0, \"ticks\": \"\"}}, \"type\": \"scattergl\"}], \"scattermapbox\": [{\"marker\": {\"colorbar\": {\"outlinewidth\": 0, \"ticks\": \"\"}}, \"type\": \"scattermapbox\"}], \"scatterpolar\": [{\"marker\": {\"colorbar\": {\"outlinewidth\": 0, \"ticks\": \"\"}}, \"type\": \"scatterpolar\"}], \"scatterpolargl\": [{\"marker\": {\"colorbar\": {\"outlinewidth\": 0, \"ticks\": \"\"}}, \"type\": \"scatterpolargl\"}], \"scatterternary\": [{\"marker\": {\"colorbar\": {\"outlinewidth\": 0, \"ticks\": \"\"}}, \"type\": \"scatterternary\"}], \"surface\": [{\"colorbar\": {\"outlinewidth\": 0, \"ticks\": \"\"}, \"colorscale\": [[0.0, \"#0d0887\"], [0.1111111111111111, \"#46039f\"], [0.2222222222222222, \"#7201a8\"], [0.3333333333333333, \"#9c179e\"], [0.4444444444444444, \"#bd3786\"], [0.5555555555555556, \"#d8576b\"], [0.6666666666666666, \"#ed7953\"], [0.7777777777777778, \"#fb9f3a\"], [0.8888888888888888, \"#fdca26\"], [1.0, \"#f0f921\"]], \"type\": \"surface\"}], \"table\": [{\"cells\": {\"fill\": {\"color\": \"#EBF0F8\"}, \"line\": {\"color\": \"white\"}}, \"header\": {\"fill\": {\"color\": \"#C8D4E3\"}, \"line\": {\"color\": \"white\"}}, \"type\": \"table\"}]}, \"layout\": {\"annotationdefaults\": {\"arrowcolor\": \"#2a3f5f\", \"arrowhead\": 0, \"arrowwidth\": 1}, \"autotypenumbers\": \"strict\", \"coloraxis\": {\"colorbar\": {\"outlinewidth\": 0, \"ticks\": \"\"}}, \"colorscale\": {\"diverging\": [[0, \"#8e0152\"], [0.1, \"#c51b7d\"], [0.2, \"#de77ae\"], [0.3, \"#f1b6da\"], [0.4, \"#fde0ef\"], [0.5, \"#f7f7f7\"], [0.6, \"#e6f5d0\"], [0.7, \"#b8e186\"], [0.8, \"#7fbc41\"], [0.9, \"#4d9221\"], [1, \"#276419\"]], \"sequential\": [[0.0, \"#0d0887\"], [0.1111111111111111, \"#46039f\"], [0.2222222222222222, \"#7201a8\"], [0.3333333333333333, \"#9c179e\"], [0.4444444444444444, \"#bd3786\"], [0.5555555555555556, \"#d8576b\"], [0.6666666666666666, \"#ed7953\"], [0.7777777777777778, \"#fb9f3a\"], [0.8888888888888888, \"#fdca26\"], [1.0, \"#f0f921\"]], \"sequentialminus\": [[0.0, \"#0d0887\"], [0.1111111111111111, \"#46039f\"], [0.2222222222222222, \"#7201a8\"], [0.3333333333333333, \"#9c179e\"], [0.4444444444444444, \"#bd3786\"], [0.5555555555555556, \"#d8576b\"], [0.6666666666666666, \"#ed7953\"], [0.7777777777777778, \"#fb9f3a\"], [0.8888888888888888, \"#fdca26\"], [1.0, \"#f0f921\"]]}, \"colorway\": [\"#636efa\", \"#EF553B\", \"#00cc96\", \"#ab63fa\", \"#FFA15A\", \"#19d3f3\", \"#FF6692\", \"#B6E880\", \"#FF97FF\", \"#FECB52\"], \"font\": {\"color\": \"#2a3f5f\"}, \"geo\": {\"bgcolor\": \"white\", \"lakecolor\": \"white\", \"landcolor\": \"#E5ECF6\", \"showlakes\": true, \"showland\": true, \"subunitcolor\": \"white\"}, \"hoverlabel\": {\"align\": \"left\"}, \"hovermode\": \"closest\", \"mapbox\": {\"style\": \"light\"}, \"paper_bgcolor\": \"white\", \"plot_bgcolor\": \"#E5ECF6\", \"polar\": {\"angularaxis\": {\"gridcolor\": \"white\", \"linecolor\": \"white\", \"ticks\": \"\"}, \"bgcolor\": \"#E5ECF6\", \"radialaxis\": {\"gridcolor\": \"white\", \"linecolor\": \"white\", \"ticks\": \"\"}}, \"scene\": {\"xaxis\": {\"backgroundcolor\": \"#E5ECF6\", \"gridcolor\": \"white\", \"gridwidth\": 2, \"linecolor\": \"white\", \"showbackground\": true, \"ticks\": \"\", \"zerolinecolor\": \"white\"}, \"yaxis\": {\"backgroundcolor\": \"#E5ECF6\", \"gridcolor\": \"white\", \"gridwidth\": 2, \"linecolor\": \"white\", \"showbackground\": true, \"ticks\": \"\", \"zerolinecolor\": \"white\"}, \"zaxis\": {\"backgroundcolor\": \"#E5ECF6\", \"gridcolor\": \"white\", \"gridwidth\": 2, \"linecolor\": \"white\", \"showbackground\": true, \"ticks\": \"\", \"zerolinecolor\": \"white\"}}, \"shapedefaults\": {\"line\": {\"color\": \"#2a3f5f\"}}, \"ternary\": {\"aaxis\": {\"gridcolor\": \"white\", \"linecolor\": \"white\", \"ticks\": \"\"}, \"baxis\": {\"gridcolor\": \"white\", \"linecolor\": \"white\", \"ticks\": \"\"}, \"bgcolor\": \"#E5ECF6\", \"caxis\": {\"gridcolor\": \"white\", \"linecolor\": \"white\", \"ticks\": \"\"}}, \"title\": {\"x\": 0.05}, \"xaxis\": {\"automargin\": true, \"gridcolor\": \"white\", \"linecolor\": \"white\", \"ticks\": \"\", \"title\": {\"standoff\": 15}, \"zerolinecolor\": \"white\", \"zerolinewidth\": 2}, \"yaxis\": {\"automargin\": true, \"gridcolor\": \"white\", \"linecolor\": \"white\", \"ticks\": \"\", \"title\": {\"standoff\": 15}, \"zerolinecolor\": \"white\", \"zerolinewidth\": 2}}}},                        {\"responsive\": true}                    ).then(function(){\n",
       "                            \n",
       "var gd = document.getElementById('59ab0509-b70f-4252-8e2e-57750d271098');\n",
       "var x = new MutationObserver(function (mutations, observer) {{\n",
       "        var display = window.getComputedStyle(gd).display;\n",
       "        if (!display || display === 'none') {{\n",
       "            console.log([gd, 'removed!']);\n",
       "            Plotly.purge(gd);\n",
       "            observer.disconnect();\n",
       "        }}\n",
       "}});\n",
       "\n",
       "// Listen for the removal of the full notebook cells\n",
       "var notebookContainer = gd.closest('#notebook-container');\n",
       "if (notebookContainer) {{\n",
       "    x.observe(notebookContainer, {childList: true});\n",
       "}}\n",
       "\n",
       "// Listen for the clearing of the current output cell\n",
       "var outputEl = gd.closest('.output');\n",
       "if (outputEl) {{\n",
       "    x.observe(outputEl, {childList: true});\n",
       "}}\n",
       "\n",
       "                        })                };                });            </script>        </div>"
      ]
     },
     "metadata": {},
     "output_type": "display_data"
    }
   ],
   "source": [
    "fig = px.parallel_coordinates(data,\n",
    "                             color=data[\"class\"].astype(int),\n",
    "                             color_continuous_scale=px.colors.diverging.Tealrose)\n",
    "fig.show()"
   ]
  },
  {
   "cell_type": "code",
   "execution_count": 28,
   "id": "alike-helicopter",
   "metadata": {},
   "outputs": [],
   "source": [
    "# Data reduction\n",
    "#     - reduce the data size -> sampling \n",
    "#     - reduce the dimensions -> UMAP "
   ]
  },
  {
   "cell_type": "markdown",
   "id": "australian-marine",
   "metadata": {},
   "source": [
    "### PCA  "
   ]
  },
  {
   "cell_type": "code",
   "execution_count": 29,
   "id": "prescription-indiana",
   "metadata": {},
   "outputs": [],
   "source": [
    "pca = PCA(n_components=2)\n",
    "projected_data = pca.fit_transform(data.drop([\"Country or region\",\"class\"], axis=1))"
   ]
  },
  {
   "cell_type": "code",
   "execution_count": 30,
   "id": "spare-retention",
   "metadata": {},
   "outputs": [
    {
     "data": {
      "text/plain": [
       "array([[-6.65255851e-01,  3.02545454e-01],\n",
       "       [-6.96071330e-01,  3.96852232e-01],\n",
       "       [-7.13376302e-01,  3.08581134e-01],\n",
       "       [-5.44468495e-01,  1.07410537e-01],\n",
       "       [-6.01075772e-01,  2.92846873e-01],\n",
       "       [-6.78277674e-01,  2.88293772e-01],\n",
       "       [-6.47714129e-01,  3.56688236e-01],\n",
       "       [-6.60355969e-01,  4.31079242e-01],\n",
       "       [-6.24954051e-01,  2.94523322e-01],\n",
       "       [-5.22898098e-01,  1.22733977e-01],\n",
       "       [-6.11529195e-01,  2.84767432e-01],\n",
       "       [-3.00378637e-01, -2.89712189e-02],\n",
       "       [-2.96391653e-01, -1.51512136e-01],\n",
       "       [-6.50527875e-01,  1.44559161e-01],\n",
       "       [-5.02589299e-01,  2.15535122e-01],\n",
       "       [-6.23304627e-01,  2.31786098e-01],\n",
       "       [-5.05606339e-01,  1.65805490e-01],\n",
       "       [-4.55903801e-01, -9.41205856e-03],\n",
       "       [-3.65637527e-01, -8.66875203e-03],\n",
       "       [-2.64868020e-01, -3.04015632e-01],\n",
       "       [-4.56283806e-01,  1.73407444e-01],\n",
       "       [-4.83880354e-01,  1.78659368e-01],\n",
       "       [-1.39424390e-01, -1.83077374e-01],\n",
       "       [-4.18637168e-01, -1.16778635e-01],\n",
       "       [-2.65675029e-01, -1.54491828e-01],\n",
       "       [-1.55896656e-01, -2.02705733e-01],\n",
       "       [-5.92897059e-02,  7.14520850e-02],\n",
       "       [-2.73573307e-01, -1.51648692e-01],\n",
       "       [-4.98799572e-01,  4.11429853e-02],\n",
       "       [-3.06183510e-01, -2.67176124e-01],\n",
       "       [-2.62191398e-01, -1.50961300e-01],\n",
       "       [-1.02336053e-01, -1.69608208e-01],\n",
       "       [-3.17217096e-01, -4.74909362e-03],\n",
       "       [-8.01991292e-01,  3.86358357e-01],\n",
       "       [ 6.77265918e-03, -9.14874090e-02],\n",
       "       [-1.84763760e-01, -4.24976192e-01],\n",
       "       [-3.57487003e-01,  3.76108052e-02],\n",
       "       [-1.56298507e-01, -3.54548953e-01],\n",
       "       [-1.75998500e-01, -1.32692235e-01],\n",
       "       [-2.45857004e-01, -1.79828069e-01],\n",
       "       [-2.84980564e-01,  4.50208004e-01],\n",
       "       [-1.12659306e-01, -4.07055764e-01],\n",
       "       [-1.24767156e-01, -1.71954687e-01],\n",
       "       [-3.74167192e-01, -1.18702396e-01],\n",
       "       [-4.47514052e-02,  6.82152328e-02],\n",
       "       [-1.45690308e-02,  6.62599163e-03],\n",
       "       [-1.92752893e-01, -2.10461732e-01],\n",
       "       [-1.08516211e-01, -2.34967038e-01],\n",
       "       [-2.30875691e-01, -2.06530678e-01],\n",
       "       [-1.40466552e-01, -4.05025716e-02],\n",
       "       [-3.20129027e-01, -1.15287837e-01],\n",
       "       [-2.12139224e-01,  1.02662262e-01],\n",
       "       [-7.87438695e-02, -3.56722078e-01],\n",
       "       [-8.90655905e-02, -4.01896766e-01],\n",
       "       [-3.51164347e-01, -5.90369763e-02],\n",
       "       [-9.47748373e-02, -1.34711622e-01],\n",
       "       [-1.92518405e-01, -3.30926795e-02],\n",
       "       [-4.01057899e-01, -2.02029208e-01],\n",
       "       [-2.05185643e-02,  1.25971496e-01],\n",
       "       [-1.67593819e-01, -1.25655493e-01],\n",
       "       [ 8.75649787e-03,  2.29687672e-02],\n",
       "       [-7.55181834e-03, -4.56981252e-01],\n",
       "       [-1.32049278e-01,  2.22422722e-02],\n",
       "       [-3.21390178e-01, -4.99407505e-02],\n",
       "       [-7.24604448e-02, -1.87201181e-01],\n",
       "       [-2.95425805e-01, -2.77145590e-01],\n",
       "       [ 3.00005390e-01,  7.43778123e-02],\n",
       "       [-6.10098621e-02, -3.15734925e-01],\n",
       "       [-5.72128606e-02,  9.07280740e-02],\n",
       "       [-1.47332327e-02, -2.85264054e-01],\n",
       "       [ 2.03835624e-01, -2.35332945e-01],\n",
       "       [-8.52992164e-02, -7.00646797e-04],\n",
       "       [-3.97079925e-03, -3.06884422e-01],\n",
       "       [ 1.49544720e-01,  1.69086479e-01],\n",
       "       [-6.02324521e-02, -3.36544789e-01],\n",
       "       [-5.20924176e-01,  1.28789832e-01],\n",
       "       [-1.65823612e-01, -4.64468539e-02],\n",
       "       [ 1.09248078e-01, -2.39805839e-01],\n",
       "       [-3.15616342e-02, -3.37490000e-01],\n",
       "       [-1.69014057e-01, -2.73829077e-02],\n",
       "       [-5.93762049e-02, -2.39313102e-01],\n",
       "       [ 6.99532899e-02, -6.13881504e-01],\n",
       "       [ 2.06630778e-02, -1.43787810e-01],\n",
       "       [-1.90571889e-02, -1.81981121e-01],\n",
       "       [ 3.28320687e-01,  1.18158176e-01],\n",
       "       [ 3.59638253e-02,  1.17950472e-01],\n",
       "       [-5.61607189e-02, -1.05459619e-01],\n",
       "       [ 1.56746766e-01, -3.58971273e-01],\n",
       "       [ 1.34139198e-01, -8.89742387e-02],\n",
       "       [-5.78677931e-02, -9.90827955e-02],\n",
       "       [ 9.64507086e-02, -2.96325628e-01],\n",
       "       [-1.28159653e-02,  2.52617570e-01],\n",
       "       [-1.62279310e-01, -6.74964574e-02],\n",
       "       [-1.05064769e-01,  2.66402355e-02],\n",
       "       [-3.37325200e-02,  3.08090906e-01],\n",
       "       [ 4.24619382e-01,  8.79283213e-02],\n",
       "       [-5.29007934e-02, -3.78141258e-01],\n",
       "       [ 3.39437189e-01,  1.02308803e-01],\n",
       "       [ 4.75145420e-01,  1.32815126e-01],\n",
       "       [ 1.49697368e-01,  1.88474607e-01],\n",
       "       [-2.11675643e-02, -5.58185262e-02],\n",
       "       [ 5.61100911e-01,  1.82932727e-01],\n",
       "       [ 3.08659283e-01,  3.41076224e-02],\n",
       "       [ 1.31241261e-01, -2.60100482e-01],\n",
       "       [ 3.11409346e-02,  3.43879672e-01],\n",
       "       [ 1.00038535e-01, -9.28779341e-02],\n",
       "       [ 7.01532997e-02, -1.11175953e-01],\n",
       "       [ 9.37131215e-02, -4.26308128e-01],\n",
       "       [ 6.11246451e-02,  2.42348128e-01],\n",
       "       [ 2.40539465e-01, -2.06115079e-01],\n",
       "       [ 3.33571293e-01, -2.88581212e-02],\n",
       "       [ 4.27560346e-01,  7.08755712e-01],\n",
       "       [ 1.29644782e-01, -1.15304633e-01],\n",
       "       [ 5.83141685e-01,  2.05517510e-01],\n",
       "       [ 4.74645455e-01,  8.55757895e-02],\n",
       "       [ 1.24387680e-01, -2.11103592e-01],\n",
       "       [ 4.10366828e-02,  1.88696254e-02],\n",
       "       [ 4.82520541e-01,  1.59339805e-01],\n",
       "       [ 1.38398409e-01, -2.52730826e-02],\n",
       "       [ 3.68180915e-01,  3.41085301e-01],\n",
       "       [ 2.52460808e-01,  2.50417924e-01],\n",
       "       [ 4.59887155e-01, -2.37438826e-01],\n",
       "       [ 3.59705446e-01,  3.53632068e-01],\n",
       "       [ 1.97221083e-01, -3.51299149e-01],\n",
       "       [ 8.29177598e-02,  2.30277453e-01],\n",
       "       [ 1.91760635e-01, -1.43285803e-01],\n",
       "       [ 5.74243423e-01,  9.18644948e-02],\n",
       "       [ 4.69347677e-01,  4.52772851e-02],\n",
       "       [ 6.13813405e-01,  1.75806874e-01],\n",
       "       [-9.01952919e-02, -4.76554801e-03],\n",
       "       [-2.91593113e-03,  5.82859520e-01],\n",
       "       [ 6.97245329e-01,  6.85101032e-02],\n",
       "       [ 1.78752810e-01, -3.03704631e-01],\n",
       "       [ 3.59902455e-01,  1.37201572e-01],\n",
       "       [ 4.12063784e-01,  5.07655491e-02],\n",
       "       [ 4.05826396e-01,  1.48670524e-01],\n",
       "       [ 2.09223177e-01, -2.30417243e-01],\n",
       "       [ 2.67344603e-01,  1.97010151e-01],\n",
       "       [ 5.95592884e-01,  1.45978638e-01],\n",
       "       [ 1.70731551e-01,  1.77524919e-01],\n",
       "       [ 5.40406440e-01,  1.76376293e-01],\n",
       "       [ 6.01992031e-01,  5.79643630e-02],\n",
       "       [ 5.66829708e-01, -1.04582002e-01],\n",
       "       [ 4.36647983e-01,  8.46828266e-02],\n",
       "       [ 7.05872203e-01,  2.69971874e-01],\n",
       "       [ 3.73199323e-01,  9.25732081e-02],\n",
       "       [ 6.71805376e-01,  1.40331472e-01],\n",
       "       [ 3.06348226e-02, -7.77748676e-02],\n",
       "       [ 6.48483756e-01,  7.97068181e-02],\n",
       "       [ 4.87316183e-01,  3.04093994e-01],\n",
       "       [ 5.25832772e-01, -1.29997433e-01],\n",
       "       [ 6.48384060e-02,  7.17769363e-01],\n",
       "       [ 2.82652799e-01,  3.10674170e-01],\n",
       "       [ 8.33795919e-01, -1.74007830e-01],\n",
       "       [ 1.03069452e+00,  2.62065358e-01],\n",
       "       [ 8.12232068e-01, -3.15212807e-02]])"
      ]
     },
     "execution_count": 30,
     "metadata": {},
     "output_type": "execute_result"
    }
   ],
   "source": [
    "projected_data"
   ]
  },
  {
   "cell_type": "code",
   "execution_count": 33,
   "id": "accepting-reduction",
   "metadata": {},
   "outputs": [
    {
     "data": {
      "application/vnd.plotly.v1+json": {
       "config": {
        "plotlyServerURL": "https://plot.ly"
       },
       "data": [
        {
         "hovertemplate": "<b>%{hovertext}</b><br><br>color=0<br>d2=%{x}<br>d1=%{y}<extra></extra>",
         "hovertext": [
          "Finland",
          "Denmark",
          "Norway",
          "Iceland",
          "Netherlands",
          "Switzerland",
          "Sweden",
          "New Zealand",
          "Canada",
          "Austria",
          "Australia",
          "Luxembourg",
          "United Kingdom",
          "Ireland",
          "Germany",
          "Belgium",
          "United Arab Emirates",
          "Malta",
          "Qatar",
          "Singapore",
          "Uzbekistan",
          "Hong Kong"
         ],
         "legendgroup": "0",
         "marker": {
          "color": "#636efa",
          "symbol": "circle"
         },
         "mode": "markers",
         "name": "0",
         "orientation": "h",
         "showlegend": true,
         "type": "scatter",
         "x": [
          0.30254545360933366,
          0.3968522319498336,
          0.30858113412261845,
          0.10741053731110208,
          0.2928468731531682,
          0.2882937718658755,
          0.3566882362180159,
          0.4310792417110325,
          0.29452332218362814,
          0.12273397690667315,
          0.2847674321881276,
          0.1445591608462053,
          0.21553512218630225,
          0.2317860977592211,
          0.16580548974559473,
          -0.009412058564573542,
          0.17340744364342633,
          0.17865936769157242,
          0.04114298529117323,
          0.386358357257319,
          0.45020800414236933,
          0.1287898320134507
         ],
         "xaxis": "x",
         "y": [
          0,
          1,
          2,
          3,
          4,
          5,
          6,
          7,
          8,
          9,
          10,
          13,
          14,
          15,
          16,
          17,
          20,
          21,
          28,
          33,
          40,
          75
         ],
         "yaxis": "y"
        },
        {
         "hovertemplate": "<b>%{hovertext}</b><br><br>color=2<br>d2=%{x}<br>d1=%{y}<extra></extra>",
         "hovertext": [
          "Costa Rica",
          "Israel",
          "United States",
          "Czech Republic",
          "Mexico",
          "France",
          "Taiwan",
          "Chile",
          "Guatemala",
          "Saudi Arabia",
          "Spain",
          "Panama",
          "Brazil",
          "Uruguay",
          "El Salvador",
          "Italy",
          "Bahrain",
          "Slovakia",
          "Trinidad & Tobago",
          "Poland",
          "Lithuania",
          "Colombia",
          "Slovenia",
          "Nicaragua",
          "Kosovo",
          "Argentina",
          "Romania",
          "Cyprus",
          "Ecuador",
          "Kuwait",
          "Thailand",
          "Latvia",
          "South Korea",
          "Estonia",
          "Jamaica",
          "Mauritius",
          "Japan",
          "Honduras",
          "Kazakhstan",
          "Bolivia",
          "Hungary",
          "Paraguay",
          "Northern Cyprus",
          "Peru",
          "Portugal",
          "Russia",
          "Philippines",
          "Serbia",
          "Moldova",
          "Libya",
          "Montenegro",
          "Croatia",
          "Dominican Republic",
          "Bosnia and Herzegovina",
          "Turkey",
          "Malaysia",
          "Belarus",
          "Greece",
          "Mongolia",
          "North Macedonia",
          "Kyrgyzstan",
          "Turkmenistan",
          "Algeria",
          "Morocco",
          "Azerbaijan",
          "Lebanon",
          "Indonesia",
          "China",
          "Vietnam",
          "Bhutan",
          "Bulgaria",
          "Jordan",
          "Gabon",
          "South Africa",
          "Albania",
          "Venezuela",
          "Cambodia",
          "Palestinian Territories",
          "Namibia",
          "Armenia",
          "Iran",
          "Georgia",
          "Tunisia",
          "Iraq",
          "Sri Lanka",
          "Ukraine",
          "Egypt",
          "Botswana"
         ],
         "legendgroup": "2",
         "marker": {
          "color": "#EF553B",
          "symbol": "circle"
         },
         "mode": "markers",
         "name": "2",
         "orientation": "h",
         "showlegend": true,
         "type": "scatter",
         "x": [
          -0.028971218925253277,
          -0.15151213553137388,
          -0.00866875203046267,
          -0.3040156323415055,
          -0.18307737406260896,
          -0.11677863471361848,
          -0.15449182811196147,
          -0.20270573264671665,
          0.07145208503538943,
          -0.15164869201463585,
          -0.26717612388880485,
          -0.1509613003570306,
          -0.1696082079826272,
          -0.004749093616192354,
          -0.09148740899747691,
          -0.42497619172095497,
          0.03761080516273618,
          -0.35454895275072806,
          -0.1326922346158763,
          -0.17982806864538417,
          -0.407055764185607,
          -0.17195468734314948,
          -0.11870239605846722,
          0.06821523284247624,
          0.006625991629343956,
          -0.2104617322522023,
          -0.23496703778608674,
          -0.2065306775730193,
          -0.0405025716024376,
          -0.11528783717819809,
          0.10266226240011865,
          -0.35672207754234836,
          -0.4018967655269868,
          -0.05903697632106679,
          -0.13471162223897415,
          -0.03309267946155382,
          -0.202029207621598,
          0.12597149597337334,
          -0.1256554925538613,
          0.022968767153813723,
          -0.45698125201003587,
          0.022242272150269644,
          -0.04994075051791641,
          -0.18720118130689326,
          -0.27714558963046815,
          -0.3157349246353253,
          0.09072807401862498,
          -0.2852640539942642,
          -0.23533294481264455,
          -0.0007006467969798505,
          -0.3068844224652428,
          -0.3365447887196783,
          -0.04644685389069283,
          -0.23980583931386004,
          -0.3374900000369506,
          -0.027382907732988494,
          -0.23931310248618434,
          -0.6138815042867413,
          -0.14378780998970955,
          -0.18198112051445495,
          0.11795047180345003,
          -0.10545961905359137,
          -0.35897127267870055,
          -0.08897423874051733,
          -0.09908279548949718,
          -0.296325627971577,
          0.25261756966635046,
          -0.06749645744004036,
          0.026640235482026525,
          0.30809090560867,
          -0.378141258378046,
          -0.055818526154222343,
          -0.26010048207897835,
          -0.09287793414930438,
          -0.11117595304722343,
          -0.4263081277591405,
          0.24234812800592648,
          -0.20611507929805087,
          -0.11530463262413992,
          -0.21110359172431836,
          0.01886962538841091,
          -0.025273082643286496,
          -0.35129914907215304,
          -0.14328580337524557,
          -0.0047655480134166225,
          -0.30370463072761716,
          -0.23041724303535416,
          -0.07777486762057799
         ],
         "xaxis": "x",
         "y": [
          11,
          12,
          18,
          19,
          22,
          23,
          24,
          25,
          26,
          27,
          29,
          30,
          31,
          32,
          34,
          35,
          36,
          37,
          38,
          39,
          41,
          42,
          43,
          44,
          45,
          46,
          47,
          48,
          49,
          50,
          51,
          52,
          53,
          54,
          55,
          56,
          57,
          58,
          59,
          60,
          61,
          62,
          63,
          64,
          65,
          67,
          68,
          69,
          70,
          71,
          72,
          74,
          76,
          77,
          78,
          79,
          80,
          81,
          82,
          83,
          85,
          86,
          87,
          88,
          89,
          90,
          91,
          92,
          93,
          94,
          96,
          100,
          103,
          105,
          106,
          107,
          108,
          109,
          112,
          115,
          116,
          118,
          123,
          125,
          129,
          132,
          136,
          147
         ],
         "yaxis": "y"
        },
        {
         "hovertemplate": "<b>%{hovertext}</b><br><br>color=1<br>d2=%{x}<br>d1=%{y}<extra></extra>",
         "hovertext": [
          "Pakistan",
          "Tajikistan",
          "Nigeria",
          "Cameroon",
          "Ghana",
          "Ivory Coast",
          "Nepal",
          "Benin",
          "Congo (Brazzaville)",
          "Laos",
          "Senegal",
          "Somalia",
          "Niger",
          "Burkina Faso",
          "Guinea",
          "Gambia",
          "Kenya",
          "Mauritania",
          "Mozambique",
          "Bangladesh",
          "Congo (Kinshasa)",
          "Mali",
          "Sierra Leone",
          "Myanmar",
          "Chad",
          "Ethiopia",
          "Swaziland",
          "Uganda",
          "Zambia",
          "Togo",
          "India",
          "Liberia",
          "Comoros",
          "Madagascar",
          "Lesotho",
          "Burundi",
          "Zimbabwe",
          "Haiti",
          "Syria",
          "Malawi",
          "Yemen",
          "Rwanda",
          "Tanzania",
          "Afghanistan",
          "Central African Republic",
          "South Sudan"
         ],
         "legendgroup": "1",
         "marker": {
          "color": "#00cc96",
          "symbol": "circle"
         },
         "mode": "markers",
         "name": "1",
         "orientation": "h",
         "showlegend": true,
         "type": "scatter",
         "x": [
          0.07437781232651618,
          0.1690864790293668,
          0.11815817594418974,
          0.08792832125973796,
          0.10230880349463922,
          0.1328151261007923,
          0.18847460706877509,
          0.18293272688567688,
          0.03410762238996576,
          0.3438796722040287,
          -0.02885812117838107,
          0.7087557117939344,
          0.20551750990581866,
          0.08557578945405224,
          0.15933980488524693,
          0.34108530109983304,
          0.25041792416695935,
          -0.23743882606545716,
          0.3536320683333637,
          0.2302774534255597,
          0.09186449476559191,
          0.04527728505223098,
          0.17580687375101312,
          0.5828595202631185,
          0.0685101031948701,
          0.13720157240426775,
          0.05076554911880014,
          0.14867052381324378,
          0.19701015124295052,
          0.14597863846353898,
          0.17752491881701152,
          0.17637629272520686,
          0.057964362965562316,
          -0.10458200169276376,
          0.08468282658661812,
          0.26997187416167234,
          0.09257320812259615,
          0.14033147185791287,
          0.07970681808193292,
          0.3040939939987154,
          -0.1299974331431076,
          0.7177693627583396,
          0.31067416972770134,
          -0.17400782974308024,
          0.2620653577249397,
          -0.03152128068115379
         ],
         "xaxis": "x",
         "y": [
          66,
          73,
          84,
          95,
          97,
          98,
          99,
          101,
          102,
          104,
          110,
          111,
          113,
          114,
          117,
          119,
          120,
          121,
          122,
          124,
          126,
          127,
          128,
          130,
          131,
          133,
          134,
          135,
          137,
          138,
          139,
          140,
          141,
          142,
          143,
          144,
          145,
          146,
          148,
          149,
          150,
          151,
          152,
          153,
          154,
          155
         ],
         "yaxis": "y"
        }
       ],
       "layout": {
        "legend": {
         "title": {
          "text": "color"
         },
         "tracegroupgap": 0
        },
        "margin": {
         "t": 60
        },
        "template": {
         "data": {
          "bar": [
           {
            "error_x": {
             "color": "#2a3f5f"
            },
            "error_y": {
             "color": "#2a3f5f"
            },
            "marker": {
             "line": {
              "color": "#E5ECF6",
              "width": 0.5
             }
            },
            "type": "bar"
           }
          ],
          "barpolar": [
           {
            "marker": {
             "line": {
              "color": "#E5ECF6",
              "width": 0.5
             }
            },
            "type": "barpolar"
           }
          ],
          "carpet": [
           {
            "aaxis": {
             "endlinecolor": "#2a3f5f",
             "gridcolor": "white",
             "linecolor": "white",
             "minorgridcolor": "white",
             "startlinecolor": "#2a3f5f"
            },
            "baxis": {
             "endlinecolor": "#2a3f5f",
             "gridcolor": "white",
             "linecolor": "white",
             "minorgridcolor": "white",
             "startlinecolor": "#2a3f5f"
            },
            "type": "carpet"
           }
          ],
          "choropleth": [
           {
            "colorbar": {
             "outlinewidth": 0,
             "ticks": ""
            },
            "type": "choropleth"
           }
          ],
          "contour": [
           {
            "colorbar": {
             "outlinewidth": 0,
             "ticks": ""
            },
            "colorscale": [
             [
              0,
              "#0d0887"
             ],
             [
              0.1111111111111111,
              "#46039f"
             ],
             [
              0.2222222222222222,
              "#7201a8"
             ],
             [
              0.3333333333333333,
              "#9c179e"
             ],
             [
              0.4444444444444444,
              "#bd3786"
             ],
             [
              0.5555555555555556,
              "#d8576b"
             ],
             [
              0.6666666666666666,
              "#ed7953"
             ],
             [
              0.7777777777777778,
              "#fb9f3a"
             ],
             [
              0.8888888888888888,
              "#fdca26"
             ],
             [
              1,
              "#f0f921"
             ]
            ],
            "type": "contour"
           }
          ],
          "contourcarpet": [
           {
            "colorbar": {
             "outlinewidth": 0,
             "ticks": ""
            },
            "type": "contourcarpet"
           }
          ],
          "heatmap": [
           {
            "colorbar": {
             "outlinewidth": 0,
             "ticks": ""
            },
            "colorscale": [
             [
              0,
              "#0d0887"
             ],
             [
              0.1111111111111111,
              "#46039f"
             ],
             [
              0.2222222222222222,
              "#7201a8"
             ],
             [
              0.3333333333333333,
              "#9c179e"
             ],
             [
              0.4444444444444444,
              "#bd3786"
             ],
             [
              0.5555555555555556,
              "#d8576b"
             ],
             [
              0.6666666666666666,
              "#ed7953"
             ],
             [
              0.7777777777777778,
              "#fb9f3a"
             ],
             [
              0.8888888888888888,
              "#fdca26"
             ],
             [
              1,
              "#f0f921"
             ]
            ],
            "type": "heatmap"
           }
          ],
          "heatmapgl": [
           {
            "colorbar": {
             "outlinewidth": 0,
             "ticks": ""
            },
            "colorscale": [
             [
              0,
              "#0d0887"
             ],
             [
              0.1111111111111111,
              "#46039f"
             ],
             [
              0.2222222222222222,
              "#7201a8"
             ],
             [
              0.3333333333333333,
              "#9c179e"
             ],
             [
              0.4444444444444444,
              "#bd3786"
             ],
             [
              0.5555555555555556,
              "#d8576b"
             ],
             [
              0.6666666666666666,
              "#ed7953"
             ],
             [
              0.7777777777777778,
              "#fb9f3a"
             ],
             [
              0.8888888888888888,
              "#fdca26"
             ],
             [
              1,
              "#f0f921"
             ]
            ],
            "type": "heatmapgl"
           }
          ],
          "histogram": [
           {
            "marker": {
             "colorbar": {
              "outlinewidth": 0,
              "ticks": ""
             }
            },
            "type": "histogram"
           }
          ],
          "histogram2d": [
           {
            "colorbar": {
             "outlinewidth": 0,
             "ticks": ""
            },
            "colorscale": [
             [
              0,
              "#0d0887"
             ],
             [
              0.1111111111111111,
              "#46039f"
             ],
             [
              0.2222222222222222,
              "#7201a8"
             ],
             [
              0.3333333333333333,
              "#9c179e"
             ],
             [
              0.4444444444444444,
              "#bd3786"
             ],
             [
              0.5555555555555556,
              "#d8576b"
             ],
             [
              0.6666666666666666,
              "#ed7953"
             ],
             [
              0.7777777777777778,
              "#fb9f3a"
             ],
             [
              0.8888888888888888,
              "#fdca26"
             ],
             [
              1,
              "#f0f921"
             ]
            ],
            "type": "histogram2d"
           }
          ],
          "histogram2dcontour": [
           {
            "colorbar": {
             "outlinewidth": 0,
             "ticks": ""
            },
            "colorscale": [
             [
              0,
              "#0d0887"
             ],
             [
              0.1111111111111111,
              "#46039f"
             ],
             [
              0.2222222222222222,
              "#7201a8"
             ],
             [
              0.3333333333333333,
              "#9c179e"
             ],
             [
              0.4444444444444444,
              "#bd3786"
             ],
             [
              0.5555555555555556,
              "#d8576b"
             ],
             [
              0.6666666666666666,
              "#ed7953"
             ],
             [
              0.7777777777777778,
              "#fb9f3a"
             ],
             [
              0.8888888888888888,
              "#fdca26"
             ],
             [
              1,
              "#f0f921"
             ]
            ],
            "type": "histogram2dcontour"
           }
          ],
          "mesh3d": [
           {
            "colorbar": {
             "outlinewidth": 0,
             "ticks": ""
            },
            "type": "mesh3d"
           }
          ],
          "parcoords": [
           {
            "line": {
             "colorbar": {
              "outlinewidth": 0,
              "ticks": ""
             }
            },
            "type": "parcoords"
           }
          ],
          "pie": [
           {
            "automargin": true,
            "type": "pie"
           }
          ],
          "scatter": [
           {
            "marker": {
             "colorbar": {
              "outlinewidth": 0,
              "ticks": ""
             }
            },
            "type": "scatter"
           }
          ],
          "scatter3d": [
           {
            "line": {
             "colorbar": {
              "outlinewidth": 0,
              "ticks": ""
             }
            },
            "marker": {
             "colorbar": {
              "outlinewidth": 0,
              "ticks": ""
             }
            },
            "type": "scatter3d"
           }
          ],
          "scattercarpet": [
           {
            "marker": {
             "colorbar": {
              "outlinewidth": 0,
              "ticks": ""
             }
            },
            "type": "scattercarpet"
           }
          ],
          "scattergeo": [
           {
            "marker": {
             "colorbar": {
              "outlinewidth": 0,
              "ticks": ""
             }
            },
            "type": "scattergeo"
           }
          ],
          "scattergl": [
           {
            "marker": {
             "colorbar": {
              "outlinewidth": 0,
              "ticks": ""
             }
            },
            "type": "scattergl"
           }
          ],
          "scattermapbox": [
           {
            "marker": {
             "colorbar": {
              "outlinewidth": 0,
              "ticks": ""
             }
            },
            "type": "scattermapbox"
           }
          ],
          "scatterpolar": [
           {
            "marker": {
             "colorbar": {
              "outlinewidth": 0,
              "ticks": ""
             }
            },
            "type": "scatterpolar"
           }
          ],
          "scatterpolargl": [
           {
            "marker": {
             "colorbar": {
              "outlinewidth": 0,
              "ticks": ""
             }
            },
            "type": "scatterpolargl"
           }
          ],
          "scatterternary": [
           {
            "marker": {
             "colorbar": {
              "outlinewidth": 0,
              "ticks": ""
             }
            },
            "type": "scatterternary"
           }
          ],
          "surface": [
           {
            "colorbar": {
             "outlinewidth": 0,
             "ticks": ""
            },
            "colorscale": [
             [
              0,
              "#0d0887"
             ],
             [
              0.1111111111111111,
              "#46039f"
             ],
             [
              0.2222222222222222,
              "#7201a8"
             ],
             [
              0.3333333333333333,
              "#9c179e"
             ],
             [
              0.4444444444444444,
              "#bd3786"
             ],
             [
              0.5555555555555556,
              "#d8576b"
             ],
             [
              0.6666666666666666,
              "#ed7953"
             ],
             [
              0.7777777777777778,
              "#fb9f3a"
             ],
             [
              0.8888888888888888,
              "#fdca26"
             ],
             [
              1,
              "#f0f921"
             ]
            ],
            "type": "surface"
           }
          ],
          "table": [
           {
            "cells": {
             "fill": {
              "color": "#EBF0F8"
             },
             "line": {
              "color": "white"
             }
            },
            "header": {
             "fill": {
              "color": "#C8D4E3"
             },
             "line": {
              "color": "white"
             }
            },
            "type": "table"
           }
          ]
         },
         "layout": {
          "annotationdefaults": {
           "arrowcolor": "#2a3f5f",
           "arrowhead": 0,
           "arrowwidth": 1
          },
          "autotypenumbers": "strict",
          "coloraxis": {
           "colorbar": {
            "outlinewidth": 0,
            "ticks": ""
           }
          },
          "colorscale": {
           "diverging": [
            [
             0,
             "#8e0152"
            ],
            [
             0.1,
             "#c51b7d"
            ],
            [
             0.2,
             "#de77ae"
            ],
            [
             0.3,
             "#f1b6da"
            ],
            [
             0.4,
             "#fde0ef"
            ],
            [
             0.5,
             "#f7f7f7"
            ],
            [
             0.6,
             "#e6f5d0"
            ],
            [
             0.7,
             "#b8e186"
            ],
            [
             0.8,
             "#7fbc41"
            ],
            [
             0.9,
             "#4d9221"
            ],
            [
             1,
             "#276419"
            ]
           ],
           "sequential": [
            [
             0,
             "#0d0887"
            ],
            [
             0.1111111111111111,
             "#46039f"
            ],
            [
             0.2222222222222222,
             "#7201a8"
            ],
            [
             0.3333333333333333,
             "#9c179e"
            ],
            [
             0.4444444444444444,
             "#bd3786"
            ],
            [
             0.5555555555555556,
             "#d8576b"
            ],
            [
             0.6666666666666666,
             "#ed7953"
            ],
            [
             0.7777777777777778,
             "#fb9f3a"
            ],
            [
             0.8888888888888888,
             "#fdca26"
            ],
            [
             1,
             "#f0f921"
            ]
           ],
           "sequentialminus": [
            [
             0,
             "#0d0887"
            ],
            [
             0.1111111111111111,
             "#46039f"
            ],
            [
             0.2222222222222222,
             "#7201a8"
            ],
            [
             0.3333333333333333,
             "#9c179e"
            ],
            [
             0.4444444444444444,
             "#bd3786"
            ],
            [
             0.5555555555555556,
             "#d8576b"
            ],
            [
             0.6666666666666666,
             "#ed7953"
            ],
            [
             0.7777777777777778,
             "#fb9f3a"
            ],
            [
             0.8888888888888888,
             "#fdca26"
            ],
            [
             1,
             "#f0f921"
            ]
           ]
          },
          "colorway": [
           "#636efa",
           "#EF553B",
           "#00cc96",
           "#ab63fa",
           "#FFA15A",
           "#19d3f3",
           "#FF6692",
           "#B6E880",
           "#FF97FF",
           "#FECB52"
          ],
          "font": {
           "color": "#2a3f5f"
          },
          "geo": {
           "bgcolor": "white",
           "lakecolor": "white",
           "landcolor": "#E5ECF6",
           "showlakes": true,
           "showland": true,
           "subunitcolor": "white"
          },
          "hoverlabel": {
           "align": "left"
          },
          "hovermode": "closest",
          "mapbox": {
           "style": "light"
          },
          "paper_bgcolor": "white",
          "plot_bgcolor": "#E5ECF6",
          "polar": {
           "angularaxis": {
            "gridcolor": "white",
            "linecolor": "white",
            "ticks": ""
           },
           "bgcolor": "#E5ECF6",
           "radialaxis": {
            "gridcolor": "white",
            "linecolor": "white",
            "ticks": ""
           }
          },
          "scene": {
           "xaxis": {
            "backgroundcolor": "#E5ECF6",
            "gridcolor": "white",
            "gridwidth": 2,
            "linecolor": "white",
            "showbackground": true,
            "ticks": "",
            "zerolinecolor": "white"
           },
           "yaxis": {
            "backgroundcolor": "#E5ECF6",
            "gridcolor": "white",
            "gridwidth": 2,
            "linecolor": "white",
            "showbackground": true,
            "ticks": "",
            "zerolinecolor": "white"
           },
           "zaxis": {
            "backgroundcolor": "#E5ECF6",
            "gridcolor": "white",
            "gridwidth": 2,
            "linecolor": "white",
            "showbackground": true,
            "ticks": "",
            "zerolinecolor": "white"
           }
          },
          "shapedefaults": {
           "line": {
            "color": "#2a3f5f"
           }
          },
          "ternary": {
           "aaxis": {
            "gridcolor": "white",
            "linecolor": "white",
            "ticks": ""
           },
           "baxis": {
            "gridcolor": "white",
            "linecolor": "white",
            "ticks": ""
           },
           "bgcolor": "#E5ECF6",
           "caxis": {
            "gridcolor": "white",
            "linecolor": "white",
            "ticks": ""
           }
          },
          "title": {
           "x": 0.05
          },
          "xaxis": {
           "automargin": true,
           "gridcolor": "white",
           "linecolor": "white",
           "ticks": "",
           "title": {
            "standoff": 15
           },
           "zerolinecolor": "white",
           "zerolinewidth": 2
          },
          "yaxis": {
           "automargin": true,
           "gridcolor": "white",
           "linecolor": "white",
           "ticks": "",
           "title": {
            "standoff": 15
           },
           "zerolinecolor": "white",
           "zerolinewidth": 2
          }
         }
        },
        "xaxis": {
         "anchor": "y",
         "domain": [
          0,
          1
         ],
         "title": {
          "text": "d2"
         }
        },
        "yaxis": {
         "anchor": "x",
         "domain": [
          0,
          1
         ],
         "title": {
          "text": "d1"
         }
        }
       }
      },
      "text/html": [
       "<div>                            <div id=\"5b34c4de-2d6d-46ab-acc4-d4b84a5eb4a6\" class=\"plotly-graph-div\" style=\"height:525px; width:100%;\"></div>            <script type=\"text/javascript\">                require([\"plotly\"], function(Plotly) {                    window.PLOTLYENV=window.PLOTLYENV || {};                                    if (document.getElementById(\"5b34c4de-2d6d-46ab-acc4-d4b84a5eb4a6\")) {                    Plotly.newPlot(                        \"5b34c4de-2d6d-46ab-acc4-d4b84a5eb4a6\",                        [{\"hovertemplate\": \"<b>%{hovertext}</b><br><br>color=0<br>d2=%{x}<br>d1=%{y}<extra></extra>\", \"hovertext\": [\"Finland\", \"Denmark\", \"Norway\", \"Iceland\", \"Netherlands\", \"Switzerland\", \"Sweden\", \"New Zealand\", \"Canada\", \"Austria\", \"Australia\", \"Luxembourg\", \"United Kingdom\", \"Ireland\", \"Germany\", \"Belgium\", \"United Arab Emirates\", \"Malta\", \"Qatar\", \"Singapore\", \"Uzbekistan\", \"Hong Kong\"], \"legendgroup\": \"0\", \"marker\": {\"color\": \"#636efa\", \"symbol\": \"circle\"}, \"mode\": \"markers\", \"name\": \"0\", \"orientation\": \"h\", \"showlegend\": true, \"type\": \"scatter\", \"x\": [0.30254545360933366, 0.3968522319498336, 0.30858113412261845, 0.10741053731110208, 0.2928468731531682, 0.2882937718658755, 0.3566882362180159, 0.4310792417110325, 0.29452332218362814, 0.12273397690667315, 0.2847674321881276, 0.1445591608462053, 0.21553512218630225, 0.2317860977592211, 0.16580548974559473, -0.009412058564573542, 0.17340744364342633, 0.17865936769157242, 0.04114298529117323, 0.386358357257319, 0.45020800414236933, 0.1287898320134507], \"xaxis\": \"x\", \"y\": [0, 1, 2, 3, 4, 5, 6, 7, 8, 9, 10, 13, 14, 15, 16, 17, 20, 21, 28, 33, 40, 75], \"yaxis\": \"y\"}, {\"hovertemplate\": \"<b>%{hovertext}</b><br><br>color=2<br>d2=%{x}<br>d1=%{y}<extra></extra>\", \"hovertext\": [\"Costa Rica\", \"Israel\", \"United States\", \"Czech Republic\", \"Mexico\", \"France\", \"Taiwan\", \"Chile\", \"Guatemala\", \"Saudi Arabia\", \"Spain\", \"Panama\", \"Brazil\", \"Uruguay\", \"El Salvador\", \"Italy\", \"Bahrain\", \"Slovakia\", \"Trinidad & Tobago\", \"Poland\", \"Lithuania\", \"Colombia\", \"Slovenia\", \"Nicaragua\", \"Kosovo\", \"Argentina\", \"Romania\", \"Cyprus\", \"Ecuador\", \"Kuwait\", \"Thailand\", \"Latvia\", \"South Korea\", \"Estonia\", \"Jamaica\", \"Mauritius\", \"Japan\", \"Honduras\", \"Kazakhstan\", \"Bolivia\", \"Hungary\", \"Paraguay\", \"Northern Cyprus\", \"Peru\", \"Portugal\", \"Russia\", \"Philippines\", \"Serbia\", \"Moldova\", \"Libya\", \"Montenegro\", \"Croatia\", \"Dominican Republic\", \"Bosnia and Herzegovina\", \"Turkey\", \"Malaysia\", \"Belarus\", \"Greece\", \"Mongolia\", \"North Macedonia\", \"Kyrgyzstan\", \"Turkmenistan\", \"Algeria\", \"Morocco\", \"Azerbaijan\", \"Lebanon\", \"Indonesia\", \"China\", \"Vietnam\", \"Bhutan\", \"Bulgaria\", \"Jordan\", \"Gabon\", \"South Africa\", \"Albania\", \"Venezuela\", \"Cambodia\", \"Palestinian Territories\", \"Namibia\", \"Armenia\", \"Iran\", \"Georgia\", \"Tunisia\", \"Iraq\", \"Sri Lanka\", \"Ukraine\", \"Egypt\", \"Botswana\"], \"legendgroup\": \"2\", \"marker\": {\"color\": \"#EF553B\", \"symbol\": \"circle\"}, \"mode\": \"markers\", \"name\": \"2\", \"orientation\": \"h\", \"showlegend\": true, \"type\": \"scatter\", \"x\": [-0.028971218925253277, -0.15151213553137388, -0.00866875203046267, -0.3040156323415055, -0.18307737406260896, -0.11677863471361848, -0.15449182811196147, -0.20270573264671665, 0.07145208503538943, -0.15164869201463585, -0.26717612388880485, -0.1509613003570306, -0.1696082079826272, -0.004749093616192354, -0.09148740899747691, -0.42497619172095497, 0.03761080516273618, -0.35454895275072806, -0.1326922346158763, -0.17982806864538417, -0.407055764185607, -0.17195468734314948, -0.11870239605846722, 0.06821523284247624, 0.006625991629343956, -0.2104617322522023, -0.23496703778608674, -0.2065306775730193, -0.0405025716024376, -0.11528783717819809, 0.10266226240011865, -0.35672207754234836, -0.4018967655269868, -0.05903697632106679, -0.13471162223897415, -0.03309267946155382, -0.202029207621598, 0.12597149597337334, -0.1256554925538613, 0.022968767153813723, -0.45698125201003587, 0.022242272150269644, -0.04994075051791641, -0.18720118130689326, -0.27714558963046815, -0.3157349246353253, 0.09072807401862498, -0.2852640539942642, -0.23533294481264455, -0.0007006467969798505, -0.3068844224652428, -0.3365447887196783, -0.04644685389069283, -0.23980583931386004, -0.3374900000369506, -0.027382907732988494, -0.23931310248618434, -0.6138815042867413, -0.14378780998970955, -0.18198112051445495, 0.11795047180345003, -0.10545961905359137, -0.35897127267870055, -0.08897423874051733, -0.09908279548949718, -0.296325627971577, 0.25261756966635046, -0.06749645744004036, 0.026640235482026525, 0.30809090560867, -0.378141258378046, -0.055818526154222343, -0.26010048207897835, -0.09287793414930438, -0.11117595304722343, -0.4263081277591405, 0.24234812800592648, -0.20611507929805087, -0.11530463262413992, -0.21110359172431836, 0.01886962538841091, -0.025273082643286496, -0.35129914907215304, -0.14328580337524557, -0.0047655480134166225, -0.30370463072761716, -0.23041724303535416, -0.07777486762057799], \"xaxis\": \"x\", \"y\": [11, 12, 18, 19, 22, 23, 24, 25, 26, 27, 29, 30, 31, 32, 34, 35, 36, 37, 38, 39, 41, 42, 43, 44, 45, 46, 47, 48, 49, 50, 51, 52, 53, 54, 55, 56, 57, 58, 59, 60, 61, 62, 63, 64, 65, 67, 68, 69, 70, 71, 72, 74, 76, 77, 78, 79, 80, 81, 82, 83, 85, 86, 87, 88, 89, 90, 91, 92, 93, 94, 96, 100, 103, 105, 106, 107, 108, 109, 112, 115, 116, 118, 123, 125, 129, 132, 136, 147], \"yaxis\": \"y\"}, {\"hovertemplate\": \"<b>%{hovertext}</b><br><br>color=1<br>d2=%{x}<br>d1=%{y}<extra></extra>\", \"hovertext\": [\"Pakistan\", \"Tajikistan\", \"Nigeria\", \"Cameroon\", \"Ghana\", \"Ivory Coast\", \"Nepal\", \"Benin\", \"Congo (Brazzaville)\", \"Laos\", \"Senegal\", \"Somalia\", \"Niger\", \"Burkina Faso\", \"Guinea\", \"Gambia\", \"Kenya\", \"Mauritania\", \"Mozambique\", \"Bangladesh\", \"Congo (Kinshasa)\", \"Mali\", \"Sierra Leone\", \"Myanmar\", \"Chad\", \"Ethiopia\", \"Swaziland\", \"Uganda\", \"Zambia\", \"Togo\", \"India\", \"Liberia\", \"Comoros\", \"Madagascar\", \"Lesotho\", \"Burundi\", \"Zimbabwe\", \"Haiti\", \"Syria\", \"Malawi\", \"Yemen\", \"Rwanda\", \"Tanzania\", \"Afghanistan\", \"Central African Republic\", \"South Sudan\"], \"legendgroup\": \"1\", \"marker\": {\"color\": \"#00cc96\", \"symbol\": \"circle\"}, \"mode\": \"markers\", \"name\": \"1\", \"orientation\": \"h\", \"showlegend\": true, \"type\": \"scatter\", \"x\": [0.07437781232651618, 0.1690864790293668, 0.11815817594418974, 0.08792832125973796, 0.10230880349463922, 0.1328151261007923, 0.18847460706877509, 0.18293272688567688, 0.03410762238996576, 0.3438796722040287, -0.02885812117838107, 0.7087557117939344, 0.20551750990581866, 0.08557578945405224, 0.15933980488524693, 0.34108530109983304, 0.25041792416695935, -0.23743882606545716, 0.3536320683333637, 0.2302774534255597, 0.09186449476559191, 0.04527728505223098, 0.17580687375101312, 0.5828595202631185, 0.0685101031948701, 0.13720157240426775, 0.05076554911880014, 0.14867052381324378, 0.19701015124295052, 0.14597863846353898, 0.17752491881701152, 0.17637629272520686, 0.057964362965562316, -0.10458200169276376, 0.08468282658661812, 0.26997187416167234, 0.09257320812259615, 0.14033147185791287, 0.07970681808193292, 0.3040939939987154, -0.1299974331431076, 0.7177693627583396, 0.31067416972770134, -0.17400782974308024, 0.2620653577249397, -0.03152128068115379], \"xaxis\": \"x\", \"y\": [66, 73, 84, 95, 97, 98, 99, 101, 102, 104, 110, 111, 113, 114, 117, 119, 120, 121, 122, 124, 126, 127, 128, 130, 131, 133, 134, 135, 137, 138, 139, 140, 141, 142, 143, 144, 145, 146, 148, 149, 150, 151, 152, 153, 154, 155], \"yaxis\": \"y\"}],                        {\"legend\": {\"title\": {\"text\": \"color\"}, \"tracegroupgap\": 0}, \"margin\": {\"t\": 60}, \"template\": {\"data\": {\"bar\": [{\"error_x\": {\"color\": \"#2a3f5f\"}, \"error_y\": {\"color\": \"#2a3f5f\"}, \"marker\": {\"line\": {\"color\": \"#E5ECF6\", \"width\": 0.5}}, \"type\": \"bar\"}], \"barpolar\": [{\"marker\": {\"line\": {\"color\": \"#E5ECF6\", \"width\": 0.5}}, \"type\": \"barpolar\"}], \"carpet\": [{\"aaxis\": {\"endlinecolor\": \"#2a3f5f\", \"gridcolor\": \"white\", \"linecolor\": \"white\", \"minorgridcolor\": \"white\", \"startlinecolor\": \"#2a3f5f\"}, \"baxis\": {\"endlinecolor\": \"#2a3f5f\", \"gridcolor\": \"white\", \"linecolor\": \"white\", \"minorgridcolor\": \"white\", \"startlinecolor\": \"#2a3f5f\"}, \"type\": \"carpet\"}], \"choropleth\": [{\"colorbar\": {\"outlinewidth\": 0, \"ticks\": \"\"}, \"type\": \"choropleth\"}], \"contour\": [{\"colorbar\": {\"outlinewidth\": 0, \"ticks\": \"\"}, \"colorscale\": [[0.0, \"#0d0887\"], [0.1111111111111111, \"#46039f\"], [0.2222222222222222, \"#7201a8\"], [0.3333333333333333, \"#9c179e\"], [0.4444444444444444, \"#bd3786\"], [0.5555555555555556, \"#d8576b\"], [0.6666666666666666, \"#ed7953\"], [0.7777777777777778, \"#fb9f3a\"], [0.8888888888888888, \"#fdca26\"], [1.0, \"#f0f921\"]], \"type\": \"contour\"}], \"contourcarpet\": [{\"colorbar\": {\"outlinewidth\": 0, \"ticks\": \"\"}, \"type\": \"contourcarpet\"}], \"heatmap\": [{\"colorbar\": {\"outlinewidth\": 0, \"ticks\": \"\"}, \"colorscale\": [[0.0, \"#0d0887\"], [0.1111111111111111, \"#46039f\"], [0.2222222222222222, \"#7201a8\"], [0.3333333333333333, \"#9c179e\"], [0.4444444444444444, \"#bd3786\"], [0.5555555555555556, \"#d8576b\"], [0.6666666666666666, \"#ed7953\"], [0.7777777777777778, \"#fb9f3a\"], [0.8888888888888888, \"#fdca26\"], [1.0, \"#f0f921\"]], \"type\": \"heatmap\"}], \"heatmapgl\": [{\"colorbar\": {\"outlinewidth\": 0, \"ticks\": \"\"}, \"colorscale\": [[0.0, \"#0d0887\"], [0.1111111111111111, \"#46039f\"], [0.2222222222222222, \"#7201a8\"], [0.3333333333333333, \"#9c179e\"], [0.4444444444444444, \"#bd3786\"], [0.5555555555555556, \"#d8576b\"], [0.6666666666666666, \"#ed7953\"], [0.7777777777777778, \"#fb9f3a\"], [0.8888888888888888, \"#fdca26\"], [1.0, \"#f0f921\"]], \"type\": \"heatmapgl\"}], \"histogram\": [{\"marker\": {\"colorbar\": {\"outlinewidth\": 0, \"ticks\": \"\"}}, \"type\": \"histogram\"}], \"histogram2d\": [{\"colorbar\": {\"outlinewidth\": 0, \"ticks\": \"\"}, \"colorscale\": [[0.0, \"#0d0887\"], [0.1111111111111111, \"#46039f\"], [0.2222222222222222, \"#7201a8\"], [0.3333333333333333, \"#9c179e\"], [0.4444444444444444, \"#bd3786\"], [0.5555555555555556, \"#d8576b\"], [0.6666666666666666, \"#ed7953\"], [0.7777777777777778, \"#fb9f3a\"], [0.8888888888888888, \"#fdca26\"], [1.0, \"#f0f921\"]], \"type\": \"histogram2d\"}], \"histogram2dcontour\": [{\"colorbar\": {\"outlinewidth\": 0, \"ticks\": \"\"}, \"colorscale\": [[0.0, \"#0d0887\"], [0.1111111111111111, \"#46039f\"], [0.2222222222222222, \"#7201a8\"], [0.3333333333333333, \"#9c179e\"], [0.4444444444444444, \"#bd3786\"], [0.5555555555555556, \"#d8576b\"], [0.6666666666666666, \"#ed7953\"], [0.7777777777777778, \"#fb9f3a\"], [0.8888888888888888, \"#fdca26\"], [1.0, \"#f0f921\"]], \"type\": \"histogram2dcontour\"}], \"mesh3d\": [{\"colorbar\": {\"outlinewidth\": 0, \"ticks\": \"\"}, \"type\": \"mesh3d\"}], \"parcoords\": [{\"line\": {\"colorbar\": {\"outlinewidth\": 0, \"ticks\": \"\"}}, \"type\": \"parcoords\"}], \"pie\": [{\"automargin\": true, \"type\": \"pie\"}], \"scatter\": [{\"marker\": {\"colorbar\": {\"outlinewidth\": 0, \"ticks\": \"\"}}, \"type\": \"scatter\"}], \"scatter3d\": [{\"line\": {\"colorbar\": {\"outlinewidth\": 0, \"ticks\": \"\"}}, \"marker\": {\"colorbar\": {\"outlinewidth\": 0, \"ticks\": \"\"}}, \"type\": \"scatter3d\"}], \"scattercarpet\": [{\"marker\": {\"colorbar\": {\"outlinewidth\": 0, \"ticks\": \"\"}}, \"type\": \"scattercarpet\"}], \"scattergeo\": [{\"marker\": {\"colorbar\": {\"outlinewidth\": 0, \"ticks\": \"\"}}, \"type\": \"scattergeo\"}], \"scattergl\": [{\"marker\": {\"colorbar\": {\"outlinewidth\": 0, \"ticks\": \"\"}}, \"type\": \"scattergl\"}], \"scattermapbox\": [{\"marker\": {\"colorbar\": {\"outlinewidth\": 0, \"ticks\": \"\"}}, \"type\": \"scattermapbox\"}], \"scatterpolar\": [{\"marker\": {\"colorbar\": {\"outlinewidth\": 0, \"ticks\": \"\"}}, \"type\": \"scatterpolar\"}], \"scatterpolargl\": [{\"marker\": {\"colorbar\": {\"outlinewidth\": 0, \"ticks\": \"\"}}, \"type\": \"scatterpolargl\"}], \"scatterternary\": [{\"marker\": {\"colorbar\": {\"outlinewidth\": 0, \"ticks\": \"\"}}, \"type\": \"scatterternary\"}], \"surface\": [{\"colorbar\": {\"outlinewidth\": 0, \"ticks\": \"\"}, \"colorscale\": [[0.0, \"#0d0887\"], [0.1111111111111111, \"#46039f\"], [0.2222222222222222, \"#7201a8\"], [0.3333333333333333, \"#9c179e\"], [0.4444444444444444, \"#bd3786\"], [0.5555555555555556, \"#d8576b\"], [0.6666666666666666, \"#ed7953\"], [0.7777777777777778, \"#fb9f3a\"], [0.8888888888888888, \"#fdca26\"], [1.0, \"#f0f921\"]], \"type\": \"surface\"}], \"table\": [{\"cells\": {\"fill\": {\"color\": \"#EBF0F8\"}, \"line\": {\"color\": \"white\"}}, \"header\": {\"fill\": {\"color\": \"#C8D4E3\"}, \"line\": {\"color\": \"white\"}}, \"type\": \"table\"}]}, \"layout\": {\"annotationdefaults\": {\"arrowcolor\": \"#2a3f5f\", \"arrowhead\": 0, \"arrowwidth\": 1}, \"autotypenumbers\": \"strict\", \"coloraxis\": {\"colorbar\": {\"outlinewidth\": 0, \"ticks\": \"\"}}, \"colorscale\": {\"diverging\": [[0, \"#8e0152\"], [0.1, \"#c51b7d\"], [0.2, \"#de77ae\"], [0.3, \"#f1b6da\"], [0.4, \"#fde0ef\"], [0.5, \"#f7f7f7\"], [0.6, \"#e6f5d0\"], [0.7, \"#b8e186\"], [0.8, \"#7fbc41\"], [0.9, \"#4d9221\"], [1, \"#276419\"]], \"sequential\": [[0.0, \"#0d0887\"], [0.1111111111111111, \"#46039f\"], [0.2222222222222222, \"#7201a8\"], [0.3333333333333333, \"#9c179e\"], [0.4444444444444444, \"#bd3786\"], [0.5555555555555556, \"#d8576b\"], [0.6666666666666666, \"#ed7953\"], [0.7777777777777778, \"#fb9f3a\"], [0.8888888888888888, \"#fdca26\"], [1.0, \"#f0f921\"]], \"sequentialminus\": [[0.0, \"#0d0887\"], [0.1111111111111111, \"#46039f\"], [0.2222222222222222, \"#7201a8\"], [0.3333333333333333, \"#9c179e\"], [0.4444444444444444, \"#bd3786\"], [0.5555555555555556, \"#d8576b\"], [0.6666666666666666, \"#ed7953\"], [0.7777777777777778, \"#fb9f3a\"], [0.8888888888888888, \"#fdca26\"], [1.0, \"#f0f921\"]]}, \"colorway\": [\"#636efa\", \"#EF553B\", \"#00cc96\", \"#ab63fa\", \"#FFA15A\", \"#19d3f3\", \"#FF6692\", \"#B6E880\", \"#FF97FF\", \"#FECB52\"], \"font\": {\"color\": \"#2a3f5f\"}, \"geo\": {\"bgcolor\": \"white\", \"lakecolor\": \"white\", \"landcolor\": \"#E5ECF6\", \"showlakes\": true, \"showland\": true, \"subunitcolor\": \"white\"}, \"hoverlabel\": {\"align\": \"left\"}, \"hovermode\": \"closest\", \"mapbox\": {\"style\": \"light\"}, \"paper_bgcolor\": \"white\", \"plot_bgcolor\": \"#E5ECF6\", \"polar\": {\"angularaxis\": {\"gridcolor\": \"white\", \"linecolor\": \"white\", \"ticks\": \"\"}, \"bgcolor\": \"#E5ECF6\", \"radialaxis\": {\"gridcolor\": \"white\", \"linecolor\": \"white\", \"ticks\": \"\"}}, \"scene\": {\"xaxis\": {\"backgroundcolor\": \"#E5ECF6\", \"gridcolor\": \"white\", \"gridwidth\": 2, \"linecolor\": \"white\", \"showbackground\": true, \"ticks\": \"\", \"zerolinecolor\": \"white\"}, \"yaxis\": {\"backgroundcolor\": \"#E5ECF6\", \"gridcolor\": \"white\", \"gridwidth\": 2, \"linecolor\": \"white\", \"showbackground\": true, \"ticks\": \"\", \"zerolinecolor\": \"white\"}, \"zaxis\": {\"backgroundcolor\": \"#E5ECF6\", \"gridcolor\": \"white\", \"gridwidth\": 2, \"linecolor\": \"white\", \"showbackground\": true, \"ticks\": \"\", \"zerolinecolor\": \"white\"}}, \"shapedefaults\": {\"line\": {\"color\": \"#2a3f5f\"}}, \"ternary\": {\"aaxis\": {\"gridcolor\": \"white\", \"linecolor\": \"white\", \"ticks\": \"\"}, \"baxis\": {\"gridcolor\": \"white\", \"linecolor\": \"white\", \"ticks\": \"\"}, \"bgcolor\": \"#E5ECF6\", \"caxis\": {\"gridcolor\": \"white\", \"linecolor\": \"white\", \"ticks\": \"\"}}, \"title\": {\"x\": 0.05}, \"xaxis\": {\"automargin\": true, \"gridcolor\": \"white\", \"linecolor\": \"white\", \"ticks\": \"\", \"title\": {\"standoff\": 15}, \"zerolinecolor\": \"white\", \"zerolinewidth\": 2}, \"yaxis\": {\"automargin\": true, \"gridcolor\": \"white\", \"linecolor\": \"white\", \"ticks\": \"\", \"title\": {\"standoff\": 15}, \"zerolinecolor\": \"white\", \"zerolinewidth\": 2}}}, \"xaxis\": {\"anchor\": \"y\", \"domain\": [0.0, 1.0], \"title\": {\"text\": \"d2\"}}, \"yaxis\": {\"anchor\": \"x\", \"domain\": [0.0, 1.0], \"title\": {\"text\": \"d1\"}}},                        {\"responsive\": true}                    ).then(function(){\n",
       "                            \n",
       "var gd = document.getElementById('5b34c4de-2d6d-46ab-acc4-d4b84a5eb4a6');\n",
       "var x = new MutationObserver(function (mutations, observer) {{\n",
       "        var display = window.getComputedStyle(gd).display;\n",
       "        if (!display || display === 'none') {{\n",
       "            console.log([gd, 'removed!']);\n",
       "            Plotly.purge(gd);\n",
       "            observer.disconnect();\n",
       "        }}\n",
       "}});\n",
       "\n",
       "// Listen for the removal of the full notebook cells\n",
       "var notebookContainer = gd.closest('#notebook-container');\n",
       "if (notebookContainer) {{\n",
       "    x.observe(notebookContainer, {childList: true});\n",
       "}}\n",
       "\n",
       "// Listen for the clearing of the current output cell\n",
       "var outputEl = gd.closest('.output');\n",
       "if (outputEl) {{\n",
       "    x.observe(outputEl, {childList: true});\n",
       "}}\n",
       "\n",
       "                        })                };                });            </script>        </div>"
      ]
     },
     "metadata": {},
     "output_type": "display_data"
    }
   ],
   "source": [
    "# Visualize PCA projected data\n",
    "\n",
    "fig = px.scatter(projected_data[:,0], projected_data[:, 1],\n",
    "                 color=data[\"class\"], labels={\"index\":\"d1\",\"x\":\"d2\"},\n",
    "                hover_name=data[\"Country or region\"])\n",
    "fig.show()"
   ]
  }
 ],
 "metadata": {
  "kernelspec": {
   "display_name": "Python 3",
   "language": "python",
   "name": "python3"
  },
  "language_info": {
   "codemirror_mode": {
    "name": "ipython",
    "version": 3
   },
   "file_extension": ".py",
   "mimetype": "text/x-python",
   "name": "python",
   "nbconvert_exporter": "python",
   "pygments_lexer": "ipython3",
   "version": "3.8.8"
  }
 },
 "nbformat": 4,
 "nbformat_minor": 5
}
